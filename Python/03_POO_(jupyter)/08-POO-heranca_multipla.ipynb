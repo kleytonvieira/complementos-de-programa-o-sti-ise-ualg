{
 "cells": [
  {
   "cell_type": "markdown",
   "metadata": {
    "ExecuteTime": {
     "end_time": "2019-11-20T17:37:14.117271Z",
     "start_time": "2019-11-20T17:37:14.112275Z"
    }
   },
   "source": [
    "# Programação Orientada aos Objetos (POO) - parte VIII\n",
    "\n",
    "Pedro Cardoso\n",
    "\n",
    "(ISE/UAlg - pcardoso@ualg.pt)"
   ]
  },
  {
   "cell_type": "markdown",
   "metadata": {},
   "source": [
    "A herança múltipla ocorre sempre que uma subclasse possui duas ou mais superclasses imediatas, ou seja, é \"filha\" de mais de uma classe.\n",
    "\n",
    "\n",
    "![alt text](MultiplaHeranca.png \"Classe\")"
   ]
  },
  {
   "cell_type": "code",
   "execution_count": 20,
   "metadata": {
    "ExecuteTime": {
     "end_time": "2019-11-20T18:06:46.216096Z",
     "start_time": "2019-11-20T18:06:46.210104Z"
    }
   },
   "outputs": [],
   "source": [
    "class Vehicle:\n",
    "    def __init__(self, owner, brand):\n",
    "        self.owner = owner\n",
    "        self.brand = brand\n",
    "            \n",
    "    def vehicle_info(self):\n",
    "        raise NotImplementedError(\"vehicle_info: não implementado\")\n",
    "\n",
    "    @property \n",
    "    def owner(self):\n",
    "        return self.__owner\n",
    "    \n",
    "    @owner.setter\n",
    "    def owner(self, owner):\n",
    "        self.__owner = owner\n",
    "    \n",
    "    @property\n",
    "    def brand(self):\n",
    "        return self.__brand\n",
    "    \n",
    "    @brand.setter\n",
    "    def brand(self, brand):\n",
    "        self.__brand = brand"
   ]
  },
  {
   "cell_type": "code",
   "execution_count": 21,
   "metadata": {
    "ExecuteTime": {
     "end_time": "2019-11-20T18:06:46.596707Z",
     "start_time": "2019-11-20T18:06:46.592719Z"
    }
   },
   "outputs": [],
   "source": [
    "class LandVehicle(Vehicle):\n",
    "    def __init__(self, owner, brand, land_velocity):\n",
    "        print(super(LandVehicle, self))\n",
    "        Vehicle.__init__(self, owner, brand)\n",
    "        self.land_velocity = land_velocity\n",
    "\n",
    "    @property \n",
    "    def land_velocity(self):\n",
    "        return self.__land_velocity\n",
    "    \n",
    "    @land_velocity.setter\n",
    "    def land_velocity(self, lv):\n",
    "        self.__land_velocity = lv"
   ]
  },
  {
   "cell_type": "code",
   "execution_count": 37,
   "metadata": {
    "ExecuteTime": {
     "end_time": "2019-11-20T18:09:15.316654Z",
     "start_time": "2019-11-20T18:09:15.311671Z"
    }
   },
   "outputs": [],
   "source": [
    "class WaterVehicle(Vehicle):\n",
    "    def __init__(self, owner, brand, water_velocity):\n",
    "        print(super(WaterVehicle, self))\n",
    "        Vehicle.__init__(self, owner, brand)\n",
    "        self.water_velocity = water_velocity\n",
    "\n",
    "    @property \n",
    "    def water_velocity(self):\n",
    "        return self.__water_velocity\n",
    "    \n",
    "    @water_velocity.setter\n",
    "    def water_velocity(self, wv):\n",
    "        self.__water_velocity = wv"
   ]
  },
  {
   "cell_type": "markdown",
   "metadata": {},
   "source": [
    "e a classe `AmphibiousVehicle` deriva das anteriores "
   ]
  },
  {
   "cell_type": "code",
   "execution_count": 39,
   "metadata": {
    "ExecuteTime": {
     "end_time": "2019-11-20T18:10:14.549885Z",
     "start_time": "2019-11-20T18:10:14.545892Z"
    }
   },
   "outputs": [],
   "source": [
    "class AmphibiousVehicle(LandVehicle, WaterVehicle):\n",
    "    def __init__(self, owner, brand, land_velocity, water_velocity):\n",
    "        LandVehicle.__init__(self, owner, brand, land_velocity)\n",
    "        WaterVehicle.__init__(self, owner, brand, water_velocity)\n",
    "    \n",
    "    def print_info(self):\n",
    "        print(f'Isto é um veiculo anfíbio cujo dono é {self.owner} da marca {self.brand} e anda a {self.land_velocity} km/h em terra e a {self.water_velocity} nós em água')      \n",
    "    "
   ]
  },
  {
   "cell_type": "code",
   "execution_count": 40,
   "metadata": {
    "ExecuteTime": {
     "end_time": "2019-11-20T18:10:15.070157Z",
     "start_time": "2019-11-20T18:10:15.065179Z"
    }
   },
   "outputs": [
    {
     "name": "stdout",
     "output_type": "stream",
     "text": [
      "<super: <class 'LandVehicle'>, <AmphibiousVehicle object>>\n",
      "<super: <class 'WaterVehicle'>, <AmphibiousVehicle object>>\n",
      "Isto é um veiculo anfíbio cujo dono é Margarida da marca rinspeed splash e anda a 199 km/h em terra e a 38 nós em água\n"
     ]
    }
   ],
   "source": [
    "a = AmphibiousVehicle('Margarida', 'rinspeed splash', 199, 38)\n",
    "a.print_info()"
   ]
  },
  {
   "cell_type": "markdown",
   "metadata": {},
   "source": [
    "A ordem de resolução dos métodos (Method Resolution Order - mro) pode ser vista no atributo `__mro__`"
   ]
  },
  {
   "cell_type": "code",
   "execution_count": 34,
   "metadata": {
    "ExecuteTime": {
     "end_time": "2019-11-20T18:08:40.901773Z",
     "start_time": "2019-11-20T18:08:40.897777Z"
    }
   },
   "outputs": [
    {
     "data": {
      "text/plain": [
       "(__main__.AmphibiousVehicle,\n",
       " __main__.LandVehicle,\n",
       " __main__.WaterVehicle,\n",
       " __main__.Vehicle,\n",
       " object)"
      ]
     },
     "execution_count": 34,
     "metadata": {},
     "output_type": "execute_result"
    }
   ],
   "source": [
    "AmphibiousVehicle.__mro__"
   ]
  },
  {
   "cell_type": "code",
   "execution_count": null,
   "metadata": {},
   "outputs": [],
   "source": []
  }
 ],
 "metadata": {
  "kernelspec": {
   "display_name": "Python 3",
   "language": "python",
   "name": "python3"
  },
  "language_info": {
   "codemirror_mode": {
    "name": "ipython",
    "version": 3
   },
   "file_extension": ".py",
   "mimetype": "text/x-python",
   "name": "python",
   "nbconvert_exporter": "python",
   "pygments_lexer": "ipython3",
   "version": "3.6.7"
  },
  "toc": {
   "base_numbering": 1,
   "nav_menu": {},
   "number_sections": true,
   "sideBar": true,
   "skip_h1_title": false,
   "title_cell": "Table of Contents",
   "title_sidebar": "Contents",
   "toc_cell": false,
   "toc_position": {},
   "toc_section_display": true,
   "toc_window_display": false
  }
 },
 "nbformat": 4,
 "nbformat_minor": 2
}
