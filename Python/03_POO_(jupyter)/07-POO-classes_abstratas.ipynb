{
 "cells": [
  {
   "cell_type": "markdown",
   "metadata": {
    "slideshow": {
     "slide_type": "slide"
    }
   },
   "source": [
    "# Programação Orientada aos Objetos (POO) - parte VII\n",
    "Pedro Cardoso\n",
    "\n",
    "(ISE/UAlg - pcardoso@ualg.pt)"
   ]
  },
  {
   "cell_type": "markdown",
   "metadata": {
    "slideshow": {
     "slide_type": "slide"
    }
   },
   "source": [
    "## Classes abstratas\n",
    "\n",
    "Uma classe define as características e o comportamento de um conjunto de objetos. No entanto, nem todas as classes são projetadas para instanciar / permitir a criação de objetos, i.e., algumas classes são usadas apenas para agrupar características comuns a diversas classes e, então, ser herdada por outras classes. \n",
    "\n",
    " - As classes que não podem ser instanciadas são conhecidas como **classes abstratas**\n",
    " - **Classe abstrata** corresponde à declaração de uma classe para as qual nunca pretendemos criar objetos/instanciar. \n",
    " - Como **classes abstratas** só são usadas como superclasses em hierarquias de herança, são chamadas **superclasses abstratas**. \n",
    " - As **classe abstrata** não podem ser usadas para instanciar objetos, porque são incompletas. \n",
    " - As classes que não são abstratas, as que podem ser instanciadas, são conhecidas como **classes concretas**.\n",
    " - As subclasses devem implementar as _partes ausentes_ para se tornarem classes concretas\n",
    "\n",
    "As classes abstratas podem ser utilizadas para dar a definição de métodos que *têm* de ser implementados em todas as suas subclasses, sem apresentar uma implementação para esses métodos.\n",
    "- Tais métodos são chamados de **métodos abstratos**.\n",
    "- Toda classe que possui pelo menos um **método abstrato** é uma **classe abstrata**, mas uma classe pode ser abstrata sem possuir nenhum método abstrato.\n",
    "- Em algumas linguagens, um **método abstrato** \"não tem corpo\", ou seja, apresenta-se apenas uma \"assinatura\".\n"
   ]
  },
  {
   "cell_type": "markdown",
   "metadata": {
    "slideshow": {
     "slide_type": "slide"
    }
   },
   "source": [
    "### Solução 1\n",
    "\n",
    "\"Declaram-se\" os métodos e depois levanta-se uma exceção de método não implementado"
   ]
  },
  {
   "cell_type": "code",
   "execution_count": 1,
   "metadata": {
    "ExecuteTime": {
     "end_time": "2019-11-20T17:19:06.192896Z",
     "start_time": "2019-11-20T17:19:06.187901Z"
    },
    "slideshow": {
     "slide_type": "subslide"
    }
   },
   "outputs": [],
   "source": [
    "class Vehicle:\n",
    "    def __init__(self, owner, brand):\n",
    "        self.owner = owner\n",
    "        self.brand = brand\n",
    "            \n",
    "    def vehicle_info(self):\n",
    "        raise NotImplementedError(\"vehicle_info: não implementado\")\n",
    "\n",
    "    @property \n",
    "    def owner(self):\n",
    "        return self.__owner\n",
    "    \n",
    "    @owner.setter\n",
    "    def owner(self, owner):\n",
    "        self.__owner = owner\n",
    "    \n",
    "    @property\n",
    "    def brand(self):\n",
    "        return self.__brand\n",
    "    \n",
    "    @brand.setter\n",
    "    def brand(self, brand):\n",
    "        self.__brand = brand\n",
    "    "
   ]
  },
  {
   "cell_type": "markdown",
   "metadata": {
    "ExecuteTime": {
     "end_time": "2019-11-20T17:12:32.161578Z",
     "start_time": "2019-11-20T17:12:32.156584Z"
    },
    "slideshow": {
     "slide_type": "subslide"
    }
   },
   "source": [
    "Mas a criação de um objeto é valida"
   ]
  },
  {
   "cell_type": "code",
   "execution_count": 2,
   "metadata": {
    "ExecuteTime": {
     "end_time": "2019-11-20T17:19:12.896383Z",
     "start_time": "2019-11-20T17:19:12.892387Z"
    }
   },
   "outputs": [],
   "source": [
    "c = Vehicle('Fiat', 'Margarida')"
   ]
  },
  {
   "cell_type": "markdown",
   "metadata": {
    "slideshow": {
     "slide_type": "subslide"
    }
   },
   "source": [
    "Será levantada uma exceção que se chama o método `vehicle_info()`, mas não antes!"
   ]
  },
  {
   "cell_type": "code",
   "execution_count": 3,
   "metadata": {
    "ExecuteTime": {
     "end_time": "2019-11-20T17:19:16.997433Z",
     "start_time": "2019-11-20T17:19:16.987442Z"
    }
   },
   "outputs": [
    {
     "ename": "NotImplementedError",
     "evalue": "vehicle_info: não implementado",
     "output_type": "error",
     "traceback": [
      "\u001b[0;31m---------------------------------------------------------------------------\u001b[0m",
      "\u001b[0;31mNotImplementedError\u001b[0m                       Traceback (most recent call last)",
      "\u001b[0;32m<ipython-input-3-bdd04d06f57c>\u001b[0m in \u001b[0;36m<module>\u001b[0;34m()\u001b[0m\n\u001b[0;32m----> 1\u001b[0;31m \u001b[0mc\u001b[0m\u001b[0;34m.\u001b[0m\u001b[0mvehicle_info\u001b[0m\u001b[0;34m(\u001b[0m\u001b[0;34m)\u001b[0m\u001b[0;34m\u001b[0m\u001b[0;34m\u001b[0m\u001b[0m\n\u001b[0m",
      "\u001b[0;32m<ipython-input-1-79eec72b46a0>\u001b[0m in \u001b[0;36mvehicle_info\u001b[0;34m(self)\u001b[0m\n\u001b[1;32m      5\u001b[0m \u001b[0;34m\u001b[0m\u001b[0m\n\u001b[1;32m      6\u001b[0m     \u001b[0;32mdef\u001b[0m \u001b[0mvehicle_info\u001b[0m\u001b[0;34m(\u001b[0m\u001b[0mself\u001b[0m\u001b[0;34m)\u001b[0m\u001b[0;34m:\u001b[0m\u001b[0;34m\u001b[0m\u001b[0;34m\u001b[0m\u001b[0m\n\u001b[0;32m----> 7\u001b[0;31m         \u001b[0;32mraise\u001b[0m \u001b[0mNotImplementedError\u001b[0m\u001b[0;34m(\u001b[0m\u001b[0;34m\"vehicle_info: não implementado\"\u001b[0m\u001b[0;34m)\u001b[0m\u001b[0;34m\u001b[0m\u001b[0;34m\u001b[0m\u001b[0m\n\u001b[0m\u001b[1;32m      8\u001b[0m \u001b[0;34m\u001b[0m\u001b[0m\n\u001b[1;32m      9\u001b[0m     \u001b[0;34m@\u001b[0m\u001b[0mproperty\u001b[0m\u001b[0;34m\u001b[0m\u001b[0;34m\u001b[0m\u001b[0m\n",
      "\u001b[0;31mNotImplementedError\u001b[0m: vehicle_info: não implementado"
     ]
    }
   ],
   "source": [
    "c.vehicle_info()"
   ]
  },
  {
   "cell_type": "markdown",
   "metadata": {
    "slideshow": {
     "slide_type": "slide"
    }
   },
   "source": [
    "### Solução 2\n",
    "\n",
    "Como 2ª  solução podemos user o módulo `abc`, prevenindo que a classe seja instanciada"
   ]
  },
  {
   "cell_type": "code",
   "execution_count": 4,
   "metadata": {
    "ExecuteTime": {
     "end_time": "2019-11-20T17:27:10.123353Z",
     "start_time": "2019-11-20T17:27:10.118358Z"
    },
    "slideshow": {
     "slide_type": "subslide"
    }
   },
   "outputs": [],
   "source": [
    "from abc import ABC, abstractmethod\n",
    "\n",
    "class Vehicle(ABC):\n",
    "    def __init__(self, owner, brand):\n",
    "        self.owner = owner\n",
    "        self.brand = brand\n",
    "    \n",
    "    @abstractmethod\n",
    "    def vehicle_info(self):\n",
    "        pass\n",
    "\n",
    "    @property \n",
    "    def owner(self):\n",
    "        return self.__owner\n",
    "    \n",
    "    @owner.setter\n",
    "    def owner(self, owner):\n",
    "        self.__owner = owner\n",
    "    \n",
    "    @property\n",
    "    def brand(self):\n",
    "        return self.__brand\n",
    "    \n",
    "    @brand.setter\n",
    "    def brand(self, brand):\n",
    "        self.__brand = brand"
   ]
  },
  {
   "cell_type": "code",
   "execution_count": 5,
   "metadata": {
    "ExecuteTime": {
     "end_time": "2019-11-20T17:29:39.210417Z",
     "start_time": "2019-11-20T17:29:39.204434Z"
    },
    "slideshow": {
     "slide_type": "subslide"
    }
   },
   "outputs": [
    {
     "ename": "TypeError",
     "evalue": "Can't instantiate abstract class Vehicle with abstract methods vehicle_info",
     "output_type": "error",
     "traceback": [
      "\u001b[0;31m---------------------------------------------------------------------------\u001b[0m",
      "\u001b[0;31mTypeError\u001b[0m                                 Traceback (most recent call last)",
      "\u001b[0;32m<ipython-input-5-47138bfa9fdd>\u001b[0m in \u001b[0;36m<module>\u001b[0;34m()\u001b[0m\n\u001b[0;32m----> 1\u001b[0;31m \u001b[0mc\u001b[0m \u001b[0;34m=\u001b[0m \u001b[0mVehicle\u001b[0m\u001b[0;34m(\u001b[0m\u001b[0;34m'Fiat'\u001b[0m\u001b[0;34m,\u001b[0m \u001b[0;34m'Margarida'\u001b[0m\u001b[0;34m)\u001b[0m\u001b[0;34m\u001b[0m\u001b[0;34m\u001b[0m\u001b[0m\n\u001b[0m",
      "\u001b[0;31mTypeError\u001b[0m: Can't instantiate abstract class Vehicle with abstract methods vehicle_info"
     ]
    }
   ],
   "source": [
    "c = Vehicle('Fiat', 'Margarida')"
   ]
  },
  {
   "cell_type": "markdown",
   "metadata": {
    "slideshow": {
     "slide_type": "subslide"
    }
   },
   "source": [
    "Temos pois de derivar a classe `Vehicle`"
   ]
  },
  {
   "cell_type": "code",
   "execution_count": 6,
   "metadata": {
    "ExecuteTime": {
     "end_time": "2019-11-20T17:33:53.787284Z",
     "start_time": "2019-11-20T17:33:53.782289Z"
    }
   },
   "outputs": [],
   "source": [
    "class Car(Vehicle):\n",
    "    def __init__(self, owner, brand, engine):\n",
    "        super().__init__( owner, brand)\n",
    "        self.engine = engine\n",
    "\n",
    "    @property\n",
    "    def engine(self):\n",
    "        return self.__engine\n",
    "    \n",
    "    @engine.setter\n",
    "    def engine(self, e):\n",
    "        self.__engine = e"
   ]
  },
  {
   "cell_type": "markdown",
   "metadata": {
    "slideshow": {
     "slide_type": "subslide"
    }
   },
   "source": [
    "mas não basta derivar da super classe"
   ]
  },
  {
   "cell_type": "code",
   "execution_count": 7,
   "metadata": {
    "ExecuteTime": {
     "end_time": "2019-11-20T17:35:13.418130Z",
     "start_time": "2019-11-20T17:35:13.414134Z"
    }
   },
   "outputs": [
    {
     "ename": "TypeError",
     "evalue": "Can't instantiate abstract class Car with abstract methods vehicle_info",
     "output_type": "error",
     "traceback": [
      "\u001b[0;31m---------------------------------------------------------------------------\u001b[0m",
      "\u001b[0;31mTypeError\u001b[0m                                 Traceback (most recent call last)",
      "\u001b[0;32m<ipython-input-7-9e5a5663fbd9>\u001b[0m in \u001b[0;36m<module>\u001b[0;34m()\u001b[0m\n\u001b[0;32m----> 1\u001b[0;31m \u001b[0mc\u001b[0m \u001b[0;34m=\u001b[0m \u001b[0mCar\u001b[0m\u001b[0;34m(\u001b[0m\u001b[0;34m'Margarida'\u001b[0m\u001b[0;34m,\u001b[0m \u001b[0;34m'Fiat'\u001b[0m\u001b[0;34m,\u001b[0m \u001b[0;34m'1500 turbo'\u001b[0m\u001b[0;34m)\u001b[0m\u001b[0;34m\u001b[0m\u001b[0;34m\u001b[0m\u001b[0m\n\u001b[0m",
      "\u001b[0;31mTypeError\u001b[0m: Can't instantiate abstract class Car with abstract methods vehicle_info"
     ]
    }
   ],
   "source": [
    "c = Car('Margarida', 'Fiat', '1500 turbo')"
   ]
  },
  {
   "cell_type": "markdown",
   "metadata": {
    "ExecuteTime": {
     "end_time": "2019-11-20T17:31:55.162537Z",
     "start_time": "2019-11-20T17:31:55.157544Z"
    },
    "slideshow": {
     "slide_type": "subslide"
    }
   },
   "source": [
    "temos de implementar os métodos que foram identificados como abstratos"
   ]
  },
  {
   "cell_type": "code",
   "execution_count": 8,
   "metadata": {
    "ExecuteTime": {
     "end_time": "2019-11-20T17:35:30.676586Z",
     "start_time": "2019-11-20T17:35:30.671577Z"
    }
   },
   "outputs": [],
   "source": [
    "class Car(Vehicle):\n",
    "    def __init__(self, owner, brand, engine):\n",
    "        super().__init__( owner, brand)\n",
    "        self.engine = engine\n",
    "        \n",
    "    def vehicle_info(self): # implementação do método abstracto\n",
    "        print(self.__dict__ )\n",
    "        \n",
    "    @property\n",
    "    def engine(self):\n",
    "        return self.__engine\n",
    "    \n",
    "    @engine.setter\n",
    "    def engine(self, e):\n",
    "        self.__engine = e"
   ]
  },
  {
   "cell_type": "code",
   "execution_count": 9,
   "metadata": {
    "ExecuteTime": {
     "end_time": "2019-11-20T17:35:33.273020Z",
     "start_time": "2019-11-20T17:35:33.271021Z"
    }
   },
   "outputs": [],
   "source": [
    "c = Car('Margarida', 'Fiat', '1500 turbo')"
   ]
  },
  {
   "cell_type": "code",
   "execution_count": 10,
   "metadata": {
    "ExecuteTime": {
     "end_time": "2019-11-20T17:35:33.570857Z",
     "start_time": "2019-11-20T17:35:33.566861Z"
    }
   },
   "outputs": [
    {
     "name": "stdout",
     "output_type": "stream",
     "text": [
      "{'_Vehicle__owner': 'Margarida', '_Vehicle__brand': 'Fiat', '_Car__engine': '1500 turbo'}\n"
     ]
    }
   ],
   "source": [
    "c.vehicle_info()"
   ]
  },
  {
   "cell_type": "markdown",
   "metadata": {
    "slideshow": {
     "slide_type": "slide"
    }
   },
   "source": [
    "## Exemplo\n",
    "\n",
    "sugestão: corra o [exemplo](07-POO-classes_abstratas.py) num terminal/pycharm/...\n",
    "\n",
    "Comecemos por definir uma classe abstrata para jogos de tabuleiro com 2 jogadores que jogam alternadamente\n"
   ]
  },
  {
   "cell_type": "code",
   "execution_count": 11,
   "metadata": {},
   "outputs": [],
   "source": [
    "from abc import ABC, abstractmethod\n",
    "import random\n",
    "\n",
    "\n",
    "class Jogo(ABC):\n",
    "    \"\"\" implementa uma classe para um jogo com 2 humanos\"\"\"\n",
    "    \n",
    "    def __init__(self):\n",
    "        print('bom jogo...')\n",
    "        self.inicializa_tabuleiro()\n",
    "\n",
    "    @abstractmethod\n",
    "    def joga_humano(self, jogador):\n",
    "        \"\"\" metodo que solicita ao humano :jogador: a proxima jogada e coloca-a no tabuleiro\n",
    "        :param jogador: numero do jogador (0 ou 1)\n",
    "        \"\"\"\n",
    "        pass\n",
    "\n",
    "    @abstractmethod\n",
    "    def terminou(self):\n",
    "        \"\"\" devolve `True` se foi verificada a condicao de paragem, i.e., um jogador ganhou.\n",
    "        devolve `False`caso contrário \"\"\"\n",
    "        pass\n",
    "    \n",
    "    @abstractmethod\n",
    "    def mostra_tabuleiro(self):\n",
    "        \"\"\"desenha o tabuleiro\"\"\"\n",
    "        pass\n",
    "    \n",
    "    @abstractmethod\n",
    "    def inicializa_tabuleiro(self):\n",
    "        \"\"\" inicializa o tabuleiro de jogo\"\"\"\n",
    "        pass\n",
    "\n",
    "    @abstractmethod\n",
    "    def ha_jogadas_possiveis(self):\n",
    "        \"\"\" verifica se ainda ha jogadas possiveis ou se o jogo esta empatado\"\"\"\n",
    "        pass\n",
    "    \n",
    "    def jogar(self):\n",
    "        \"\"\" corre o jogo...\"\"\"\n",
    "        jogador = random.randint(0, 1)\n",
    "        while True:\n",
    "            self.mostra_tabuleiro()\n",
    "            self.joga_humano(jogador)\n",
    "            if self.terminou():\n",
    "                self.mostra_tabuleiro()\n",
    "                print(f'o jogador {jogador} ganhou!!')\n",
    "                return\n",
    "            elif not self.ha_jogadas_possiveis():\n",
    "                print(f'Empataram!!!')\n",
    "                return\n",
    "            jogador = (jogador+1) % 2\n",
    "\n"
   ]
  },
  {
   "cell_type": "markdown",
   "metadata": {
    "slideshow": {
     "slide_type": "subslide"
    }
   },
   "source": [
    "Agora podemos criar uma classe concreta, definindo somente os métodos abstratos"
   ]
  },
  {
   "cell_type": "code",
   "execution_count": 12,
   "metadata": {},
   "outputs": [],
   "source": [
    "class Galo(Jogo):\n",
    "\n",
    "    def inicializa_tabuleiro(self):\n",
    "        self.numero_de_jogadas_realizadas = 0  # conta as jogadas, serve para saber se ainda há jogdas validas\n",
    "        self.tabuleiro = {(l, c): ' ' for l in range(3) for c in range(3)}  # o tabuleiro é um dicionario!\n",
    "\n",
    "    def _le_linha_coluna_valida(self, s):\n",
    "        \"\"\" metodo auxiliar para ler uma posicao que seja 0, 1 ou 2\"\"\"\n",
    "        while True:\n",
    "            x = input(s)\n",
    "            if x in ['0', '1', '2']:\n",
    "                return int(x)\n",
    "\n",
    "    def joga_humano(self, jogador):\n",
    "        print(f'jogador {jogador} insira a sua jogada')\n",
    "        while True:\n",
    "            linha = self._le_linha_coluna_valida('Linha?')\n",
    "            coluna = self._le_linha_coluna_valida('Coluna?')\n",
    "            if self.tabuleiro[(linha, coluna)] == ' ':  # verifica se a posicao nao esta preenchida, i.e., e valida\n",
    "                self.tabuleiro[(linha, coluna)] = ['X', 'O'][jogador]\n",
    "                self.numero_de_jogadas_realizadas += 1\n",
    "                return\n",
    "            else:\n",
    "                print('Jogada invalida. Tente de novo')\n",
    "\n",
    "    def terminou(self):\n",
    "        lista_posicaoes_ganhadoras = (\n",
    "            ((0, 0), (0, 1), (0, 2)),  # linha 0\n",
    "            ((1, 0), (1, 1), (1, 2)),  # linha 1\n",
    "            ((2, 0), (2, 1), (2, 2)),  # linha 2\n",
    "            ((0, 0), (1, 0), (2, 0)),  # coluna 0\n",
    "            ((0, 1), (1, 1), (2, 1)),  # coluna 1\n",
    "            ((0, 2), (1, 2), (2, 2)),  # coluna 2\n",
    "            ((0, 0), (1, 1), (2, 2)),  # diagonal\n",
    "            ((0, 2), (1, 1), (2, 0)),  # anti-diagonal\n",
    "        )\n",
    "\n",
    "        for teste in lista_posicaoes_ganhadoras:\n",
    "            if self.tabuleiro[teste[0]] == self.tabuleiro[teste[1]] == self.tabuleiro[teste[2]] \\\n",
    "                    and self.tabuleiro[teste[0]] != ' ':\n",
    "                return True  # encontrou posicao ganhadora\n",
    "        return False\n",
    "\n",
    "    def mostra_tabuleiro(self):\n",
    "        print(13 * '-')\n",
    "        for l in range(3):\n",
    "            for c in range(3):\n",
    "                print(f'| {self.tabuleiro[(l, c)]} ', end='')\n",
    "            print('|\\n' + 13*'-')\n",
    "\n",
    "    def ha_jogadas_possiveis(self):\n",
    "        return self.numero_de_jogadas_realizadas < 9"
   ]
  },
  {
   "cell_type": "code",
   "execution_count": null,
   "metadata": {},
   "outputs": [],
   "source": []
  }
 ],
 "metadata": {
  "celltoolbar": "Slideshow",
  "kernelspec": {
   "display_name": "Python 3",
   "language": "python",
   "name": "python3"
  },
  "language_info": {
   "codemirror_mode": {
    "name": "ipython",
    "version": 3
   },
   "file_extension": ".py",
   "mimetype": "text/x-python",
   "name": "python",
   "nbconvert_exporter": "python",
   "pygments_lexer": "ipython3",
   "version": "3.7.3"
  },
  "toc": {
   "base_numbering": 1,
   "nav_menu": {},
   "number_sections": true,
   "sideBar": true,
   "skip_h1_title": false,
   "title_cell": "Table of Contents",
   "title_sidebar": "Contents",
   "toc_cell": false,
   "toc_position": {},
   "toc_section_display": true,
   "toc_window_display": false
  }
 },
 "nbformat": 4,
 "nbformat_minor": 2
}
