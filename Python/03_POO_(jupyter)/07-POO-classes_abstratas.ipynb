{
 "cells": [
  {
   "cell_type": "markdown",
   "metadata": {},
   "source": [
    "# Programação Orientada aos Objetos (POO) - parte VII\n",
    "Pedro Cardoso\n",
    "\n",
    "(ISE/UAlg - pcardoso@ualg.pt)"
   ]
  },
  {
   "cell_type": "markdown",
   "metadata": {},
   "source": [
    "## Classes abstratas\n",
    "\n",
    "Uma classe define as características e o comportamento de um conjunto de objetos. No entanto, nem todas as classes são projetadas para instanciar / permitir a criação de objetos, i.e., algumas classes são usadas apenas para agrupar características comuns a diversas classes e, então, ser herdada por outras classes. \n",
    "\n",
    " - As classes que não podem ser instanciadas são conhecidas como **classes abstratas**\n",
    " - **Classe abstrata** corresponde à declaração de uma classe para as qual nunca pretendemos criar objetos/instanciar. \n",
    " - Como **classes abstratas** só são usadas como superclasses em hierarquias de herança, são chamadas **superclasses abstratas**. \n",
    " - As **classe abstrata** não podem ser usadas para instanciar objetos, porque são incompletas. \n",
    " - As classes que não são abstratas, as que podem ser instanciadas, são conhecidas como **classes concretas**.\n",
    " - As subclasses devem implementar as _partes ausentes_ para se tornarem classes concretas\n",
    "\n",
    "As classes abstratas podem ser utilizadas para dar a definição de métodos que *têm* de ser implementados em todas as suas subclasses, sem apresentar uma implementação para esses métodos.\n",
    "- Tais métodos são chamados de **métodos abstratos**.\n",
    "- Toda classe que possui pelo menos um **método abstrato** é uma **classe abstrata**, mas uma classe pode ser abstrata sem possuir nenhum método abstrato.\n",
    "- Em algumas linguagens, um **método abstrato** \"não tem corpo\", ou seja, apresenta-se apenas uma \"assinatura\".\n",
    "\n",
    "## Solução 1\n",
    "\n",
    "\"Declaram-se\" os métodos e depois levanta-se uma exceção de método não implementado\n"
   ]
  },
  {
   "cell_type": "code",
   "execution_count": null,
   "metadata": {
    "ExecuteTime": {
     "end_time": "2019-11-20T17:19:06.192896Z",
     "start_time": "2019-11-20T17:19:06.187901Z"
    }
   },
   "outputs": [],
   "source": [
    "class Vehicle:\n",
    "    def __init__(self, owner, brand):\n",
    "        self.owner = owner\n",
    "        self.brand = brand\n",
    "            \n",
    "    def vehicle_info(self):\n",
    "        raise NotImplementedError(\"vehicle_info: não implementado\")\n",
    "\n",
    "    @property \n",
    "    def owner(self):\n",
    "        return self.__owner\n",
    "    \n",
    "    @owner.setter\n",
    "    def owner(self, owner):\n",
    "        self.__owner = owner\n",
    "    \n",
    "    @property\n",
    "    def brand(self):\n",
    "        return self.__brand\n",
    "    \n",
    "    @brand.setter\n",
    "    def brand(self, brand):\n",
    "        self.__brand = brand\n",
    "    "
   ]
  },
  {
   "cell_type": "markdown",
   "metadata": {
    "ExecuteTime": {
     "end_time": "2019-11-20T17:12:32.161578Z",
     "start_time": "2019-11-20T17:12:32.156584Z"
    }
   },
   "source": [
    "Mas a criação de um objeto é valida"
   ]
  },
  {
   "cell_type": "code",
   "execution_count": null,
   "metadata": {
    "ExecuteTime": {
     "end_time": "2019-11-20T17:19:12.896383Z",
     "start_time": "2019-11-20T17:19:12.892387Z"
    }
   },
   "outputs": [],
   "source": [
    "c = Vehicle('Fiat', 'Margarida')"
   ]
  },
  {
   "cell_type": "markdown",
   "metadata": {},
   "source": [
    "Será levantada uma exceção que se chama o método `vehicle_info()`, mas não antes!"
   ]
  },
  {
   "cell_type": "code",
   "execution_count": null,
   "metadata": {
    "ExecuteTime": {
     "end_time": "2019-11-20T17:19:16.997433Z",
     "start_time": "2019-11-20T17:19:16.987442Z"
    }
   },
   "outputs": [],
   "source": [
    "c.vehicle_info()"
   ]
  },
  {
   "cell_type": "markdown",
   "metadata": {},
   "source": [
    "## Solução 2\n",
    "\n",
    "Como 2ª  solução podemos user o módulo `abc`, prevenindo que a classe seja instanciada"
   ]
  },
  {
   "cell_type": "code",
   "execution_count": null,
   "metadata": {
    "ExecuteTime": {
     "end_time": "2019-11-20T17:27:10.123353Z",
     "start_time": "2019-11-20T17:27:10.118358Z"
    }
   },
   "outputs": [],
   "source": [
    "from abc import ABC, abstractmethod\n",
    "\n",
    "class Vehicle(ABC):\n",
    "    def __init__(self, owner, brand):\n",
    "        self.owner = owner\n",
    "        self.brand = brand\n",
    "    \n",
    "    @abstractmethod\n",
    "    def vehicle_info(self):\n",
    "        pass\n",
    "\n",
    "    @property \n",
    "    def owner(self):\n",
    "        return self.__owner\n",
    "    \n",
    "    @owner.setter\n",
    "    def owner(self, owner):\n",
    "        self.__owner = owner\n",
    "    \n",
    "    @property\n",
    "    def brand(self):\n",
    "        return self.__brand\n",
    "    \n",
    "    @brand.setter\n",
    "    def brand(self, brand):\n",
    "        self.__brand = brand"
   ]
  },
  {
   "cell_type": "code",
   "execution_count": null,
   "metadata": {
    "ExecuteTime": {
     "end_time": "2019-11-20T17:29:39.210417Z",
     "start_time": "2019-11-20T17:29:39.204434Z"
    }
   },
   "outputs": [],
   "source": [
    "c = Vehicle('Fiat', 'Margarida')"
   ]
  },
  {
   "cell_type": "markdown",
   "metadata": {},
   "source": [
    "Temos pois de derivar a classe `Vehicle`"
   ]
  },
  {
   "cell_type": "code",
   "execution_count": null,
   "metadata": {
    "ExecuteTime": {
     "end_time": "2019-11-20T17:33:53.787284Z",
     "start_time": "2019-11-20T17:33:53.782289Z"
    }
   },
   "outputs": [],
   "source": [
    "class Car(Vehicle):\n",
    "    def __init__(self, owner, brand, engine):\n",
    "        super().__init__( owner, brand)\n",
    "        self.engine = engine\n",
    "\n",
    "    @property\n",
    "    def engine(self):\n",
    "        return self.__engine\n",
    "    \n",
    "    @engine.setter\n",
    "    def engine(self, e):\n",
    "        self.__engine = e"
   ]
  },
  {
   "cell_type": "markdown",
   "metadata": {},
   "source": [
    "mas não basta derivar da super classe"
   ]
  },
  {
   "cell_type": "code",
   "execution_count": null,
   "metadata": {
    "ExecuteTime": {
     "end_time": "2019-11-20T17:35:13.418130Z",
     "start_time": "2019-11-20T17:35:13.414134Z"
    }
   },
   "outputs": [],
   "source": [
    "c = Car('Margarida', 'Fiat', '1500 turbo')"
   ]
  },
  {
   "cell_type": "markdown",
   "metadata": {
    "ExecuteTime": {
     "end_time": "2019-11-20T17:31:55.162537Z",
     "start_time": "2019-11-20T17:31:55.157544Z"
    }
   },
   "source": [
    "emos de implementar os métodos que foram identificados como abstratos"
   ]
  },
  {
   "cell_type": "code",
   "execution_count": null,
   "metadata": {
    "ExecuteTime": {
     "end_time": "2019-11-20T17:35:30.676586Z",
     "start_time": "2019-11-20T17:35:30.671577Z"
    }
   },
   "outputs": [],
   "source": [
    "class Car(Vehicle):\n",
    "    def __init__(self, owner, brand, engine):\n",
    "        super().__init__( owner, brand)\n",
    "        self.engine = engine\n",
    "        \n",
    "    def vehicle_info(self): # implementação do método abstracto\n",
    "        print(self.__dict__ )\n",
    "        \n",
    "    @property\n",
    "    def engine(self):\n",
    "        return self.__engine\n",
    "    \n",
    "    @engine.setter\n",
    "    def engine(self, e):\n",
    "        self.__engine = e"
   ]
  },
  {
   "cell_type": "code",
   "execution_count": null,
   "metadata": {
    "ExecuteTime": {
     "end_time": "2019-11-20T17:35:33.273020Z",
     "start_time": "2019-11-20T17:35:33.271021Z"
    }
   },
   "outputs": [],
   "source": [
    "c = Car('Margarida', 'Fiat', '1500 turbo')"
   ]
  },
  {
   "cell_type": "code",
   "execution_count": null,
   "metadata": {
    "ExecuteTime": {
     "end_time": "2019-11-20T17:35:33.570857Z",
     "start_time": "2019-11-20T17:35:33.566861Z"
    }
   },
   "outputs": [],
   "source": [
    "c.vehicle_info()"
   ]
  }
 ],
 "metadata": {
  "kernelspec": {
   "display_name": "Python 3",
   "language": "python",
   "name": "python3"
  },
  "language_info": {
   "codemirror_mode": {
    "name": "ipython",
    "version": 3
   },
   "file_extension": ".py",
   "mimetype": "text/x-python",
   "name": "python",
   "nbconvert_exporter": "python",
   "pygments_lexer": "ipython3",
   "version": "3.7.3"
  },
  "toc": {
   "base_numbering": 1,
   "nav_menu": {},
   "number_sections": true,
   "sideBar": true,
   "skip_h1_title": false,
   "title_cell": "Table of Contents",
   "title_sidebar": "Contents",
   "toc_cell": false,
   "toc_position": {},
   "toc_section_display": true,
   "toc_window_display": false
  }
 },
 "nbformat": 4,
 "nbformat_minor": 2
}
