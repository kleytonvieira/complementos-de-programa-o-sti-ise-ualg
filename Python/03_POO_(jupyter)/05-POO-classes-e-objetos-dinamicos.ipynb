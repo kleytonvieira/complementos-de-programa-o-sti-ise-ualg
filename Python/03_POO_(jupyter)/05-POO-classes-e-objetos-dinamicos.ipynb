{
 "cells": [
  {
   "cell_type": "markdown",
   "metadata": {
    "slideshow": {
     "slide_type": "slide"
    }
   },
   "source": [
    "# Programação Orientada aos Objetos (POO) - parte V\n",
    "Pedro Cardoso\n",
    "\n",
    "(ISE/UAlg - pcardoso@ualg.pt)"
   ]
  },
  {
   "cell_type": "markdown",
   "metadata": {
    "slideshow": {
     "slide_type": "slide"
    }
   },
   "source": [
    "## Classe são \"abertas\"\n",
    "* Em Python as classes que não são _builtins_ podem ser alteradas em tempo de execução, devido a natureza dinâmica da linguagem, i.e., por exemplo, é possível acrescentar métodos e atributos novos. A mesma lógica se aplica aos objetos."
   ]
  },
  {
   "cell_type": "code",
   "execution_count": null,
   "metadata": {
    "ExecuteTime": {
     "end_time": "2019-10-31T09:02:54.091685Z",
     "start_time": "2019-10-31T09:02:54.005708Z"
    },
    "slideshow": {
     "slide_type": "subslide"
    }
   },
   "outputs": [],
   "source": [
    "class Carro:\n",
    "    def __init__(self, cor, marca):\n",
    "        self.cor = cor \n",
    "        self.marca = marca"
   ]
  },
  {
   "cell_type": "code",
   "execution_count": null,
   "metadata": {
    "ExecuteTime": {
     "end_time": "2019-10-31T09:02:54.161637Z",
     "start_time": "2019-10-31T09:02:54.092684Z"
    }
   },
   "outputs": [],
   "source": [
    "Carro.ano = 1970  # variavel da classe!"
   ]
  },
  {
   "cell_type": "code",
   "execution_count": null,
   "metadata": {
    "ExecuteTime": {
     "end_time": "2019-10-31T09:02:54.234209Z",
     "start_time": "2019-10-31T09:02:54.165635Z"
    },
    "slideshow": {
     "slide_type": "subslide"
    }
   },
   "outputs": [],
   "source": [
    "carro_1 = Carro('Vermelha', 'Fiat')\n",
    "dir(carro_1)  # tem o atributo ano"
   ]
  },
  {
   "cell_type": "markdown",
   "metadata": {
    "slideshow": {
     "slide_type": "subslide"
    }
   },
   "source": [
    "novo metodo (print) para a classe"
   ]
  },
  {
   "cell_type": "code",
   "execution_count": null,
   "metadata": {
    "ExecuteTime": {
     "end_time": "2019-10-31T09:02:54.318155Z",
     "start_time": "2019-10-31T09:02:54.235192Z"
    }
   },
   "outputs": [],
   "source": [
    "def my_repr(self):\n",
    "    return '{} de cor {} do ano {}.'.format(\n",
    "            self.marca, self.cor, self.ano)\n",
    "\n",
    "Carro.print = my_repr\n",
    "\n",
    "dir(Carro) # tem o metodo print"
   ]
  },
  {
   "cell_type": "code",
   "execution_count": null,
   "metadata": {
    "ExecuteTime": {
     "end_time": "2019-10-31T09:02:54.397567Z",
     "start_time": "2019-10-31T09:02:54.319154Z"
    },
    "slideshow": {
     "slide_type": "subslide"
    }
   },
   "outputs": [],
   "source": [
    "carro_2 = Carro('vermelha', 'Fiat')\n",
    "carro_2.print()"
   ]
  },
  {
   "cell_type": "code",
   "execution_count": null,
   "metadata": {
    "ExecuteTime": {
     "end_time": "2019-10-31T09:02:54.471478Z",
     "start_time": "2019-10-31T09:02:54.401563Z"
    },
    "slideshow": {
     "slide_type": "subslide"
    }
   },
   "outputs": [],
   "source": [
    "carro_2.dono = 'Margarida'   # atributo só do objeto carro_2\n",
    "\n",
    "dir(carro_2)"
   ]
  },
  {
   "cell_type": "code",
   "execution_count": null,
   "metadata": {
    "ExecuteTime": {
     "end_time": "2019-10-31T09:02:54.547476Z",
     "start_time": "2019-10-31T09:02:54.472465Z"
    },
    "slideshow": {
     "slide_type": "subslide"
    }
   },
   "outputs": [],
   "source": [
    "print(carro_2.dono)"
   ]
  },
  {
   "cell_type": "code",
   "execution_count": null,
   "metadata": {
    "ExecuteTime": {
     "end_time": "2019-10-31T09:02:54.714550Z",
     "start_time": "2019-10-31T09:02:54.548474Z"
    },
    "slideshow": {
     "slide_type": "subslide"
    }
   },
   "outputs": [],
   "source": [
    "print(carro_1.dono) # preparem-se para o erro!!!"
   ]
  }
 ],
 "metadata": {
  "kernelspec": {
   "display_name": "Python 3",
   "language": "python",
   "name": "python3"
  },
  "language_info": {
   "codemirror_mode": {
    "name": "ipython",
    "version": 3
   },
   "file_extension": ".py",
   "mimetype": "text/x-python",
   "name": "python",
   "nbconvert_exporter": "python",
   "pygments_lexer": "ipython3",
   "version": "3.7.3"
  },
  "toc": {
   "base_numbering": 1,
   "nav_menu": {},
   "number_sections": true,
   "sideBar": true,
   "skip_h1_title": false,
   "title_cell": "Table of Contents",
   "title_sidebar": "Contents",
   "toc_cell": false,
   "toc_position": {},
   "toc_section_display": true,
   "toc_window_display": false
  }
 },
 "nbformat": 4,
 "nbformat_minor": 2
}
