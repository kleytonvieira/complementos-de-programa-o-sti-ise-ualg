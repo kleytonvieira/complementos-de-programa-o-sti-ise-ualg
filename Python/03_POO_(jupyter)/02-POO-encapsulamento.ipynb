{
 "cells": [
  {
   "cell_type": "markdown",
   "metadata": {
    "slideshow": {
     "slide_type": "slide"
    }
   },
   "source": [
    "# Programação Orientada aos Objetos (POO) - parte II\n",
    "Pedro Cardoso\n",
    "\n",
    "(ISE/UAlg - pcardoso@ualg.pt)"
   ]
  },
  {
   "cell_type": "markdown",
   "metadata": {
    "slideshow": {
     "slide_type": "slide"
    },
    "solution": "hidden"
   },
   "source": [
    "## Encapsulamento\n",
    "* Em Python NÃO existem variáveis e métodos protegidos ou privados  \n",
    " \n",
    "* Para os atributos/métodos \"protegidos\" é usada uma convenção: nomes que comecem com _underscore_ (\"_\")\n",
    "\n",
    "* Para os atributos/métodos \"privados\" faz-se o *Name Mangling* que aos nomes que iniciam com dois _underscore_ acrescenta no início um _underscore_ e o nome da classe.\n",
    "        "
   ]
  },
  {
   "cell_type": "code",
   "execution_count": null,
   "metadata": {
    "ExecuteTime": {
     "end_time": "2020-02-11T15:59:16.574349Z",
     "start_time": "2020-02-11T15:59:16.566342Z"
    },
    "slideshow": {
     "slide_type": "subslide"
    }
   },
   "outputs": [],
   "source": [
    "class Carro:\n",
    "    def __init__(self, cor, marca, modelo, dono, consumo, kms):\n",
    "        self._cor = cor           # atributo protegido... nao devemos aceder diretamente ao atributo \n",
    "        self._marca = marca       # idem ...\n",
    "        self._modelo = modelo\n",
    "        self._dono = dono\n",
    "        self._consumo = consumo\n",
    "        self._kms = kms\n",
    "\n",
    "    def __repr__(self):\n",
    "        return f'''A/O {self._dono} tem um {self._marca} {self._modelo} de cor {self._cor} que gasta {self._consumo}l/100Km e tem {self._kms}kms. \n",
    "        Logo gastou {self._kms / 100 * self._consumo}l desde que o comprou.'''\n",
    "\n",
    "    def __metodo_quase_privado(self):\n",
    "        return 'Nao e facil chegar aqui!'\n",
    "\n",
    "    def print_info(self):\n",
    "        print(self)   # vai chamar o __repr__()"
   ]
  },
  {
   "cell_type": "markdown",
   "metadata": {
    "slideshow": {
     "slide_type": "subslide"
    }
   },
   "source": [
    "Vejamos quais são os métodos que `Carro` tem "
   ]
  },
  {
   "cell_type": "code",
   "execution_count": null,
   "metadata": {
    "ExecuteTime": {
     "end_time": "2020-02-11T15:59:44.511534Z",
     "start_time": "2020-02-11T15:59:44.502530Z"
    }
   },
   "outputs": [],
   "source": [
    "dir(Carro)  # repare on _Carro__metodo_quase_privado'"
   ]
  },
  {
   "cell_type": "markdown",
   "metadata": {
    "slideshow": {
     "slide_type": "subslide"
    }
   },
   "source": [
    "Podemos aceder a todos os atributos e métodos (\"privados\" ou \"protegidos\") mas devemos ter cuidado. A ideia é que \"somos todos adultos\" "
   ]
  },
  {
   "cell_type": "code",
   "execution_count": null,
   "metadata": {
    "ExecuteTime": {
     "end_time": "2020-02-11T16:00:12.671950Z",
     "start_time": "2020-02-11T16:00:12.663976Z"
    }
   },
   "outputs": [],
   "source": [
    "carro_a = Carro('vermelha', 'Fiat', '500', 'Claudia', 6, 20000)\n",
    "\n",
    "print(carro_a) # o \"mesmo que\" print(carro_a.__repr__())"
   ]
  },
  {
   "cell_type": "code",
   "execution_count": null,
   "metadata": {
    "ExecuteTime": {
     "end_time": "2020-02-11T16:00:15.826565Z",
     "start_time": "2020-02-11T16:00:15.822587Z"
    }
   },
   "outputs": [],
   "source": [
    "carro_a.print_info()"
   ]
  },
  {
   "cell_type": "markdown",
   "metadata": {
    "slideshow": {
     "slide_type": "subslide"
    }
   },
   "source": [
    "Não deviamos aceder a um atributo \"protegido\""
   ]
  },
  {
   "cell_type": "code",
   "execution_count": null,
   "metadata": {
    "ExecuteTime": {
     "end_time": "2020-02-11T16:00:20.218012Z",
     "start_time": "2020-02-11T16:00:20.214004Z"
    }
   },
   "outputs": [],
   "source": [
    "carro_a._cor"
   ]
  },
  {
   "cell_type": "markdown",
   "metadata": {
    "slideshow": {
     "slide_type": "subslide"
    }
   },
   "source": [
    "E muito menos aceder a algo \"privado\""
   ]
  },
  {
   "cell_type": "code",
   "execution_count": null,
   "metadata": {
    "ExecuteTime": {
     "end_time": "2020-02-11T16:00:26.500083Z",
     "start_time": "2020-02-11T16:00:26.494089Z"
    }
   },
   "outputs": [],
   "source": [
    "# carro_a.__metodo_quase_privado() não existe\n",
    "carro_a._Carro__metodo_quase_privado()"
   ]
  },
  {
   "cell_type": "markdown",
   "metadata": {
    "slideshow": {
     "slide_type": "slide"
    }
   },
   "source": [
    "### getter e setters\n",
    "\n",
    "Para aceder às variáveis \"protegidas\"/\"privadas\" usam-se pois em muitazs linguagens *getters* e *setters*. E em python temos ainda *properties*"
   ]
  },
  {
   "cell_type": "code",
   "execution_count": null,
   "metadata": {
    "ExecuteTime": {
     "end_time": "2020-02-11T16:08:38.503180Z",
     "start_time": "2020-02-11T16:08:38.496187Z"
    },
    "slideshow": {
     "slide_type": "subslide"
    }
   },
   "outputs": [],
   "source": [
    "class Carro:\n",
    "\n",
    "    def __init__(self, cor, marca):\n",
    "        self.cor = cor  # chama a propriedade (valida dados). E guarda o valor em self.__cor\n",
    "        self.marca = marca # chama a propriedade (valida dados).E guarda o valor em self.__marca\n",
    "\n",
    "    def get_cor(self):\n",
    "        \"\"\"devolve o valor de __cor\"\"\"\n",
    "        return self.__cor\n",
    "\n",
    "    def set_cor(self, cor):\n",
    "        \"\"\"define o valor de __cor. \n",
    "        \n",
    "         Parameters\n",
    "        ----------\n",
    "        param1 : valores admissiveis ['vermelha', 'branca', 'amarela']\n",
    "            valor da cor\n",
    "        \"\"\"\n",
    "        if cor.lower() in ['vermelha', 'branca', 'amarela']:\n",
    "            print('Cor válida')\n",
    "            self.__cor = cor\n",
    "        else:\n",
    "            print('Cor inválida')\n",
    "            raise\n",
    "\n",
    "    def get_marca(self):\n",
    "        \"\"\"devolve o valor de __marca\"\"\"\n",
    "        return self.__marca\n",
    "\n",
    "    def set_marca(self, marca):\n",
    "        \"\"\"define o valor de __marca\n",
    "        \n",
    "         Parameters\n",
    "        ----------\n",
    "        param1 : valores admissiveis ['audi', 'fiat', 'seat', 'ferrari']\n",
    "            valor da marca\n",
    "        \"\"\"        \n",
    "        if marca.lower() in ['audi', 'fiat', 'seat', 'ferrari']:\n",
    "            self.__marca = marca\n",
    "        else:\n",
    "            raise\n",
    "\n",
    "    cor = property(get_cor, set_cor)\n",
    "    marca = property(get_marca, set_marca)"
   ]
  },
  {
   "cell_type": "markdown",
   "metadata": {
    "slideshow": {
     "slide_type": "subslide"
    }
   },
   "source": [
    "\"Dentro\" carro temos métodos e ... "
   ]
  },
  {
   "cell_type": "code",
   "execution_count": null,
   "metadata": {
    "ExecuteTime": {
     "end_time": "2020-02-11T16:08:39.424900Z",
     "start_time": "2020-02-11T16:08:39.421911Z"
    }
   },
   "outputs": [],
   "source": [
    "print(dir(Carro))"
   ]
  },
  {
   "cell_type": "markdown",
   "metadata": {
    "slideshow": {
     "slide_type": "subslide"
    }
   },
   "source": [
    "... proriedades"
   ]
  },
  {
   "cell_type": "code",
   "execution_count": null,
   "metadata": {
    "ExecuteTime": {
     "end_time": "2020-02-11T16:08:40.266825Z",
     "start_time": "2020-02-11T16:08:40.261843Z"
    }
   },
   "outputs": [],
   "source": [
    "type(Carro.cor)"
   ]
  },
  {
   "cell_type": "markdown",
   "metadata": {
    "slideshow": {
     "slide_type": "subslide"
    }
   },
   "source": [
    "E se instanciamos a classe"
   ]
  },
  {
   "cell_type": "code",
   "execution_count": null,
   "metadata": {
    "ExecuteTime": {
     "end_time": "2020-02-11T16:08:41.314130Z",
     "start_time": "2020-02-11T16:08:41.310134Z"
    }
   },
   "outputs": [],
   "source": [
    "c1 = Carro('vermelha', 'Fiat')"
   ]
  },
  {
   "cell_type": "markdown",
   "metadata": {},
   "source": [
    "passamos a ter também atributos _mangled_"
   ]
  },
  {
   "cell_type": "code",
   "execution_count": null,
   "metadata": {
    "ExecuteTime": {
     "end_time": "2020-02-11T16:08:46.616186Z",
     "start_time": "2020-02-11T16:08:46.613201Z"
    }
   },
   "outputs": [],
   "source": [
    "print(dir(c1))"
   ]
  },
  {
   "cell_type": "markdown",
   "metadata": {},
   "source": [
    "para redefenir a cor podemos usar a _property_ ou aceder diretamente ao setter"
   ]
  },
  {
   "cell_type": "code",
   "execution_count": null,
   "metadata": {
    "ExecuteTime": {
     "end_time": "2020-02-11T16:08:47.706659Z",
     "start_time": "2020-02-11T16:08:47.701664Z"
    },
    "slideshow": {
     "slide_type": "subslide"
    }
   },
   "outputs": [],
   "source": [
    "c1.cor = 'branca' # ok!\n",
    "c1.set_cor('branca') # ok!"
   ]
  },
  {
   "cell_type": "markdown",
   "metadata": {},
   "source": [
    "do mesmo modo podemos aceder ao valor da cor"
   ]
  },
  {
   "cell_type": "code",
   "execution_count": null,
   "metadata": {
    "ExecuteTime": {
     "end_time": "2020-02-11T16:08:51.506973Z",
     "start_time": "2020-02-11T16:08:51.501970Z"
    }
   },
   "outputs": [],
   "source": [
    "c1.cor"
   ]
  },
  {
   "cell_type": "markdown",
   "metadata": {
    "slideshow": {
     "slide_type": "subslide"
    }
   },
   "source": [
    "ao usar o setter (a _property_ ) podemos validar as entradas"
   ]
  },
  {
   "cell_type": "code",
   "execution_count": null,
   "metadata": {
    "ExecuteTime": {
     "end_time": "2020-02-11T16:09:04.371111Z",
     "start_time": "2020-02-11T16:09:04.366126Z"
    }
   },
   "outputs": [],
   "source": [
    "try:\n",
    "    c1.cor = 'verde'\n",
    "except:\n",
    "    print('Erro: essa cor nao é válida')\n"
   ]
  },
  {
   "cell_type": "markdown",
   "metadata": {
    "slideshow": {
     "slide_type": "subslide"
    }
   },
   "source": [
    "e obviamente podemos fazer igual raciocinio para a marca"
   ]
  },
  {
   "cell_type": "code",
   "execution_count": null,
   "metadata": {
    "ExecuteTime": {
     "end_time": "2020-02-11T16:09:11.032667Z",
     "start_time": "2020-02-11T16:09:11.029682Z"
    }
   },
   "outputs": [],
   "source": [
    "c1.marca = 'Seat'  # ok!"
   ]
  },
  {
   "cell_type": "code",
   "execution_count": null,
   "metadata": {
    "ExecuteTime": {
     "end_time": "2020-02-11T16:09:12.234901Z",
     "start_time": "2020-02-11T16:09:12.229906Z"
    }
   },
   "outputs": [],
   "source": [
    "try:\n",
    "    c1.marca = 'Ferrary'\n",
    "except:\n",
    "    print('Erro: essa marca nao existe')"
   ]
  },
  {
   "cell_type": "markdown",
   "metadata": {
    "slideshow": {
     "slide_type": "slide"
    },
    "solution": "hidden",
    "solution_first": true
   },
   "source": [
    "###### Exercícios\n",
    "Reimplemente a classe Carro encampsulando as variáveis da mesma\n",
    "```Python\n",
    "class Carro:\n",
    "    def __init__(self, cor, marca, modelo, dono, consumo, kms):\n",
    "        self.cor = cor\n",
    "        self.marca = marca\n",
    "        self.modelo = modelo\n",
    "        self.dono = dono\n",
    "        self.consumo = consumo\n",
    "        self.kms = kms\n",
    "    \n",
    "    def print_info(self):\n",
    "        print('A {} tem um {} {} que gasta {}l/100Km e tem {}kms.'.format(\n",
    "            self.dono, self.marca, self.modelo, self.consumo, self.kms))\n",
    "```\n"
   ]
  },
  {
   "cell_type": "markdown",
   "metadata": {
    "slideshow": {
     "slide_type": "slide"
    }
   },
   "source": [
    "## Solução mais _Pythoniana_\n",
    "\n",
    "Uma solução mais \"Pythoniana\" usa decoradores\n"
   ]
  },
  {
   "cell_type": "code",
   "execution_count": null,
   "metadata": {
    "ExecuteTime": {
     "end_time": "2020-02-11T16:09:32.020419Z",
     "start_time": "2020-02-11T16:09:32.014424Z"
    }
   },
   "outputs": [],
   "source": [
    "class Carro:\n",
    "\n",
    "    def __init__(self, cor, marca):\n",
    "        self.cor = cor  # chama a propriedade (valida dados). E guarda o valor em self.__cor\n",
    "        self.marca = marca # chama a propriedade (valida dados).E guarda o valor em self.__marca\n",
    "    \n",
    "    @property\n",
    "    def cor(self):             # este é um getter\n",
    "        return self.__cor\n",
    "\n",
    "    @cor.setter\n",
    "    def cor(self, cor):\n",
    "        print('debug: setting a cor')\n",
    "        if cor.lower() in ['vermelha', 'branca', 'amarela']:\n",
    "            self.__cor = cor\n",
    "        else:\n",
    "            raise\n",
    "            \n",
    "    @cor.deleter\n",
    "    def cor(self):\n",
    "        print('debug: a colocar a cor a None')\n",
    "        self.__cor = None\n",
    "    \n",
    "    @property\n",
    "    def marca(self):\n",
    "        return self.__marca\n",
    "    \n",
    "    @marca.setter\n",
    "    def marca(self, marca):\n",
    "        print('debug: setting a marca')\n",
    "        if marca.lower() in ['audi', 'fiat', 'seat', 'ferrari']:\n",
    "            self.__marca = marca\n",
    "        else:\n",
    "            raise"
   ]
  },
  {
   "cell_type": "code",
   "execution_count": null,
   "metadata": {
    "ExecuteTime": {
     "end_time": "2020-02-11T16:09:33.370897Z",
     "start_time": "2020-02-11T16:09:33.365912Z"
    },
    "slideshow": {
     "slide_type": "subslide"
    }
   },
   "outputs": [],
   "source": [
    "c = Carro('vermelha', 'fiat')"
   ]
  },
  {
   "cell_type": "code",
   "execution_count": null,
   "metadata": {
    "ExecuteTime": {
     "end_time": "2020-02-11T16:09:36.576939Z",
     "start_time": "2020-02-11T16:09:36.573954Z"
    }
   },
   "outputs": [],
   "source": [
    "c.cor='branca'"
   ]
  },
  {
   "cell_type": "code",
   "execution_count": null,
   "metadata": {
    "ExecuteTime": {
     "end_time": "2020-02-11T16:09:47.089816Z",
     "start_time": "2020-02-11T16:09:47.084837Z"
    }
   },
   "outputs": [],
   "source": [
    "print(c.cor)"
   ]
  },
  {
   "cell_type": "code",
   "execution_count": null,
   "metadata": {
    "ExecuteTime": {
     "end_time": "2020-02-11T16:10:38.466712Z",
     "start_time": "2020-02-11T16:10:38.462716Z"
    },
    "slideshow": {
     "slide_type": "subslide"
    }
   },
   "outputs": [],
   "source": [
    "try:\n",
    "    c.cor = 'azul'\n",
    "except:\n",
    "    print(\"Essa cor é inválida!\")"
   ]
  },
  {
   "cell_type": "code",
   "execution_count": null,
   "metadata": {
    "ExecuteTime": {
     "end_time": "2020-02-11T16:10:42.226054Z",
     "start_time": "2020-02-11T16:10:42.222058Z"
    },
    "slideshow": {
     "slide_type": "subslide"
    }
   },
   "outputs": [],
   "source": [
    "del(c.cor)"
   ]
  },
  {
   "cell_type": "code",
   "execution_count": null,
   "metadata": {
    "ExecuteTime": {
     "end_time": "2020-02-11T16:22:13.531066Z",
     "start_time": "2020-02-11T16:22:13.449150Z"
    }
   },
   "outputs": [],
   "source": [
    "print(c.cor)"
   ]
  },
  {
   "cell_type": "markdown",
   "metadata": {
    "slideshow": {
     "slide_type": "slide"
    }
   },
   "source": [
    "# Exercício\n",
    "\n",
    "* Usando decoradores, implemente as classes apresentadas no diagrama da Figura (use o pycharm ou outro IDE avançado). \n",
    "* Crie um programa que permita de modo interativo listar, inserir, remover, e editar carros de uma lista. \n",
    "* Crie ainda uma opção para gravar essa lista num ficheiro (veja o pacote pickle)\n",
    "  \n",
    "![title](umlcar03.png)\n",
    "\n"
   ]
  }
 ],
 "metadata": {
  "kernelspec": {
   "display_name": "Python 3",
   "language": "python",
   "name": "python3"
  },
  "language_info": {
   "codemirror_mode": {
    "name": "ipython",
    "version": 3
   },
   "file_extension": ".py",
   "mimetype": "text/x-python",
   "name": "python",
   "nbconvert_exporter": "python",
   "pygments_lexer": "ipython3",
   "version": "3.8.5"
  },
  "nbTranslate": {
   "displayLangs": [
    "*"
   ],
   "hotkey": "alt-t",
   "langInMainMenu": true,
   "sourceLang": "en",
   "targetLang": "fr",
   "useGoogleTranslate": true
  },
  "toc": {
   "base_numbering": 1,
   "nav_menu": {},
   "number_sections": true,
   "sideBar": true,
   "skip_h1_title": false,
   "title_cell": "Table of Contents",
   "title_sidebar": "Contents",
   "toc_cell": false,
   "toc_position": {},
   "toc_section_display": true,
   "toc_window_display": false
  },
  "varInspector": {
   "cols": {
    "lenName": 16,
    "lenType": 16,
    "lenVar": 40
   },
   "kernels_config": {
    "python": {
     "delete_cmd_postfix": "",
     "delete_cmd_prefix": "del ",
     "library": "var_list.py",
     "varRefreshCmd": "print(var_dic_list())"
    },
    "r": {
     "delete_cmd_postfix": ") ",
     "delete_cmd_prefix": "rm(",
     "library": "var_list.r",
     "varRefreshCmd": "cat(var_dic_list()) "
    }
   },
   "types_to_exclude": [
    "module",
    "function",
    "builtin_function_or_method",
    "instance",
    "_Feature"
   ],
   "window_display": false
  }
 },
 "nbformat": 4,
 "nbformat_minor": 2
}
