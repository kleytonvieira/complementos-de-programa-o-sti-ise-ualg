{
 "cells": [
  {
   "cell_type": "markdown",
   "metadata": {
    "slideshow": {
     "slide_type": "slide"
    }
   },
   "source": [
    "# Programação Orientada aos Objetos (POO) - parte I\n",
    "Pedro Cardoso\n",
    "\n",
    "(ISE/UAlg - pcardoso@ualg.pt)"
   ]
  },
  {
   "cell_type": "markdown",
   "metadata": {
    "slideshow": {
     "slide_type": "slide"
    }
   },
   "source": [
    "## Introdução\n",
    "\n",
    "A orientação a objetos tenta gerir a complexidade inerente aos problemas do mundo real abstraindo o conhecimento relevante e **encapsulando-o** dentro de objetos.\n",
    "\n",
    "Na POO um programa de computador é conceptualizado como um **conjunto de objetos** que trabalham juntos para realizar uma tarefa.\n",
    "\n",
    "Cada objeto é uma parte do programa, interagindo com as outras partes de maneira específica e totalmente controlada."
   ]
  },
  {
   "cell_type": "markdown",
   "metadata": {
    "slideshow": {
     "slide_type": "subslide"
    }
   },
   "source": [
    "Na **visão da orientação a objetos, o mundo é composto por diversos objetos** que possuem um conjunto de **características e um comportamento bem definido**.\n",
    "        \n",
    "No paradigma POO definimos **abstrações dos objetos** reais existentes. \n",
    "\n",
    "Todo objeto possui as seguintes características:\n",
    " - **Estado**: conjunto de propriedades de um objeto (valores dos atributos).\n",
    " - **Comportamento**: conjunto de ações possíveis sobre o objeto (métodos da classe).\n",
    " - **Unicidade**: todo objeto é único (possui um endereço de memória)."
   ]
  },
  {
   "cell_type": "markdown",
   "metadata": {
    "slideshow": {
     "slide_type": "subslide"
    }
   },
   "source": [
    "## Classe\n",
    "\n",
    "Quando escrevemos um programa numa linguagem OO, não definimos objetos individuais. Em vez disso definimos as **classes** utilizadas para criar esses objetos.\n",
    "\n",
    "Podemos entender uma **classe** como um modelo ou como uma especificação para um conjunto de objetos, ou seja, a **descrição genérica dos objetos individuais** pertencentes a um dado conjunto. \n",
    "\n",
    "A partir de uma classe é possível criar quantos objetos forem desejados. \n",
    "\n",
    "Uma classe define as características e o comportamento de um conjunto de objetos}. \n",
    "\n",
    "A criação de uma classe implica definir um **tipo de objeto** em termos de seus atributos (variáveis que conterão os dados) e seus métodos (funções que manipulam tais dados)."
   ]
  },
  {
   "cell_type": "markdown",
   "metadata": {
    "slideshow": {
     "slide_type": "subslide"
    }
   },
   "source": [
    "<span style=\"color:red\">**Definição: Uma classe é uma componente de um programa que descreve a *estrutura* e o *comportamento* de um grupo de objetos semelhantes - isto é, as informações que caracterizam o estado desses objetos e as ações (ou operações) que eles podem realizar**\n",
    "</span>\n",
    "\n",
    "![alt text](dog_classes.png \"Classe\")"
   ]
  },
  {
   "cell_type": "markdown",
   "metadata": {
    "slideshow": {
     "slide_type": "slide"
    }
   },
   "source": [
    "## Declaração de uma classe\n",
    "A declaração de uma classe segue a estrutura        \n",
    "```Python\n",
    "class nome_da_classe:\n",
    "    declaracao dos atributos da classe\n",
    "    declaracao dos metodos da classe\n",
    "```\n",
    "\n",
    "A classe mais simples será"
   ]
  },
  {
   "cell_type": "code",
   "execution_count": null,
   "metadata": {
    "ExecuteTime": {
     "end_time": "2020-02-11T14:52:15.322999Z",
     "start_time": "2020-02-11T14:52:15.320002Z"
    },
    "slideshow": {
     "slide_type": "subslide"
    }
   },
   "outputs": [],
   "source": [
    "class Classe:\n",
    "    pass"
   ]
  },
  {
   "cell_type": "markdown",
   "metadata": {},
   "source": [
    "Que podemos instanciar fazendo"
   ]
  },
  {
   "cell_type": "code",
   "execution_count": null,
   "metadata": {
    "ExecuteTime": {
     "end_time": "2019-10-31T09:02:51.543864Z",
     "start_time": "2019-10-31T09:02:51.477922Z"
    }
   },
   "outputs": [],
   "source": [
    "c = Classe()"
   ]
  },
  {
   "cell_type": "markdown",
   "metadata": {
    "slideshow": {
     "slide_type": "subslide"
    }
   },
   "source": [
    "`c` é um objeto do tipo `Classe`"
   ]
  },
  {
   "cell_type": "code",
   "execution_count": null,
   "metadata": {
    "ExecuteTime": {
     "end_time": "2019-10-31T09:02:51.635777Z",
     "start_time": "2019-10-31T09:02:51.545852Z"
    },
    "slideshow": {
     "slide_type": "-"
    }
   },
   "outputs": [],
   "source": [
    "c"
   ]
  },
  {
   "cell_type": "markdown",
   "metadata": {},
   "source": [
    "Que tem um conjunto de atributos e métodos que herdou da classe (`Object`). Mais à frente veremos o que é isto de \"herdar\"..."
   ]
  },
  {
   "cell_type": "code",
   "execution_count": null,
   "metadata": {
    "ExecuteTime": {
     "end_time": "2019-10-31T09:02:51.712681Z",
     "start_time": "2019-10-31T09:02:51.636761Z"
    },
    "slideshow": {
     "slide_type": "subslide"
    }
   },
   "outputs": [],
   "source": [
    "dir(c)"
   ]
  },
  {
   "cell_type": "markdown",
   "metadata": {
    "slideshow": {
     "slide_type": "slide"
    }
   },
   "source": [
    "## Inicialização dos objetos\n",
    "Quando um novo objeto é criado, o construtor da classe é executado. Em Python, o construtor é um método especial, chamado `__new__()` Após a chamada ao construtor, o método `__init__()` é chamado para inicializar a nova instância."
   ]
  },
  {
   "cell_type": "code",
   "execution_count": null,
   "metadata": {
    "ExecuteTime": {
     "end_time": "2019-10-31T09:02:51.803589Z",
     "start_time": "2019-10-31T09:02:51.713680Z"
    }
   },
   "outputs": [],
   "source": [
    "class Classe:\n",
    "    def __init__(self):  # self é uma referência ao próprio objeto, mais tarde veremos com mais detalhe...\n",
    "        pass"
   ]
  },
  {
   "cell_type": "markdown",
   "metadata": {
    "slideshow": {
     "slide_type": "slide"
    }
   },
   "source": [
    "## Exemplo: a classe Carro\n",
    "\n",
    "Para uma classe carro devemos considerar a \"funcionalidades\" comuns a todas...\n",
    "\n",
    "O que tem um carro de importante?\n",
    "* Nome do dono\n",
    "* Marca\n",
    "* Modelo\n",
    "* Consumo \n",
    "* Cor\n",
    "* Kms (percorridos)"
   ]
  },
  {
   "cell_type": "markdown",
   "metadata": {
    "slideshow": {
     "slide_type": "subslide"
    }
   },
   "source": [
    " O que todo o carro faz e é importante para nós? Isto é, o que gostaríamos de \"pedir a um carro\"?\n",
    "*  Definir Dono, Marca, Modelo, Consumo, Cor, Kms\n",
    "*  Adicionar Kms percorrigos\n",
    "*  Imprime o nome do dono, a cor, ...\n",
    "*  Devolve o nome do dono, os Kms, o consumo, ...\n",
    "*  ...\n"
   ]
  },
  {
   "cell_type": "code",
   "execution_count": null,
   "metadata": {
    "ExecuteTime": {
     "end_time": "2020-02-11T14:55:08.316002Z",
     "start_time": "2020-02-11T14:55:08.311007Z"
    },
    "slideshow": {
     "slide_type": "subslide"
    }
   },
   "outputs": [],
   "source": [
    "class Carro:\n",
    "    def __init__(self, cor, marca, modelo, dono, consumo, kms):\n",
    "        self.cor = cor\n",
    "        self.marca = marca\n",
    "        self.modelo = modelo\n",
    "        self.dono = dono\n",
    "        self.consumo = consumo\n",
    "        self.kms = kms"
   ]
  },
  {
   "cell_type": "markdown",
   "metadata": {},
   "source": [
    "Podemos instanciar um Carro"
   ]
  },
  {
   "cell_type": "code",
   "execution_count": null,
   "metadata": {
    "ExecuteTime": {
     "end_time": "2020-02-11T14:55:09.056166Z",
     "start_time": "2020-02-11T14:55:09.047162Z"
    },
    "scrolled": true
   },
   "outputs": [],
   "source": [
    "carro_1 = Carro('Branca', 'Fiat', '500', 'Claudia', 6, 20000)\n",
    "carro_1"
   ]
  },
  {
   "cell_type": "markdown",
   "metadata": {
    "slideshow": {
     "slide_type": "subslide"
    }
   },
   "source": [
    "Podemos criar várias instâncias/objetos com o mesmo modelo/_template_ (classe)"
   ]
  },
  {
   "cell_type": "code",
   "execution_count": null,
   "metadata": {
    "ExecuteTime": {
     "end_time": "2020-02-11T14:55:10.251805Z",
     "start_time": "2020-02-11T14:55:10.246798Z"
    }
   },
   "outputs": [],
   "source": [
    "carro_2 = Carro('Vermelha', 'Seat', 'Ibiza', 'Margarida', 5.4, 12000)\n",
    "carro_2"
   ]
  },
  {
   "cell_type": "markdown",
   "metadata": {
    "slideshow": {
     "slide_type": "subslide"
    }
   },
   "source": [
    "Para aceder aos atributos e métodos usamos \".\" (ponto):\n",
    "* `objeto.atributo`\n",
    "* `objeto.metodo`\n",
    "* `classe.atributo`\n",
    "* `classe.metodo`\n",
    "\n",
    "E podemos podemos criar métodos que recebem instancia de Carro como parâmetro... etc."
   ]
  },
  {
   "cell_type": "code",
   "execution_count": null,
   "metadata": {
    "ExecuteTime": {
     "end_time": "2019-10-31T09:02:52.112289Z",
     "start_time": "2019-10-31T09:02:52.047339Z"
    },
    "scrolled": true
   },
   "outputs": [],
   "source": [
    "def print_info(carro):\n",
    "    print('A {} tem um {} {} de cor {} que gasta {}l/100Km e tem {}kms. Logo gastou {}l desde que o comprou.'.format(\n",
    "        carro.dono, carro.marca, carro.modelo, carro.cor, carro.consumo, carro.kms, carro.kms / 100 * carro.consumo))\n",
    "    \n",
    "print_info(carro_1)\n",
    "print_info(carro_2)"
   ]
  },
  {
   "cell_type": "markdown",
   "metadata": {
    "slideshow": {
     "slide_type": "subslide"
    }
   },
   "source": [
    "Em resumo:\n",
    "* Em Python os novos objetos são criados a partir das classes através de atribuição (de uma instanciação). \n",
    "* O objeto é uma instância da classe, que possui características próprias. "
   ]
  },
  {
   "cell_type": "markdown",
   "metadata": {
    "slideshow": {
     "slide_type": "slide"
    }
   },
   "source": [
    "## Referências a objetos\n",
    "Um objeto existe em memória enquanto existir pelo menos uma referência a ele. \n",
    "     \n",
    "O interpretador de Python possui um recurso chamado coletor de lixo (_Garbage Collector_) que limpa da memória objetos sem referências. \n",
    "     \n",
    "Quando o objeto é apagado, o método especial `__done__()` é evocado. \n",
    "    \n",
    "Com isto, podemos ter mais do que uma referência para o mesmo objeto"
   ]
  },
  {
   "cell_type": "code",
   "execution_count": null,
   "metadata": {
    "ExecuteTime": {
     "end_time": "2019-10-31T09:02:52.178278Z",
     "start_time": "2019-10-31T09:02:52.114290Z"
    },
    "slideshow": {
     "slide_type": "subslide"
    }
   },
   "outputs": [],
   "source": [
    "carro_a = Carro('Branca', 'Fiat', '500', 'Claudia', 6, 20000)\n",
    "carro_b = carro_a "
   ]
  },
  {
   "cell_type": "markdown",
   "metadata": {},
   "source": [
    "`carro_a` e `carro_b` referênciam o mesmo objeto (têm o mesmo id)"
   ]
  },
  {
   "cell_type": "code",
   "execution_count": null,
   "metadata": {
    "ExecuteTime": {
     "end_time": "2019-10-31T09:02:52.244237Z",
     "start_time": "2019-10-31T09:02:52.180276Z"
    }
   },
   "outputs": [],
   "source": [
    "id(carro_a) == id(carro_b)"
   ]
  },
  {
   "cell_type": "markdown",
   "metadata": {
    "slideshow": {
     "slide_type": "subslide"
    }
   },
   "source": [
    "Logo, se alterarmos um objeto... "
   ]
  },
  {
   "cell_type": "code",
   "execution_count": null,
   "metadata": {
    "ExecuteTime": {
     "end_time": "2019-10-31T09:02:52.366562Z",
     "start_time": "2019-10-31T09:02:52.245224Z"
    }
   },
   "outputs": [],
   "source": [
    "carro_a.cor = 'Vermelha'"
   ]
  },
  {
   "cell_type": "markdown",
   "metadata": {},
   "source": [
    "as duas referências ficam alteradas..."
   ]
  },
  {
   "cell_type": "code",
   "execution_count": null,
   "metadata": {
    "ExecuteTime": {
     "end_time": "2019-10-31T09:02:52.511485Z",
     "start_time": "2019-10-31T09:02:52.367549Z"
    }
   },
   "outputs": [],
   "source": [
    "carro_b.cor"
   ]
  },
  {
   "cell_type": "markdown",
   "metadata": {
    "slideshow": {
     "slide_type": "slide"
    }
   },
   "source": [
    "## O que é um objeto em Python?\n",
    "Afinal o que é um objeto em Python:\n",
    "* \"Tudo\" é um objeto, mesmo os tipos básicos, como números inteiros.\n",
    "* Tipos e classes são unificados.\n",
    "* Os operadores (e.g., +, -, ...) são na verdade chamadas para métodos especiais.\n",
    "* As classes são abertas (menos para os tipos _builtins_ )."
   ]
  },
  {
   "cell_type": "code",
   "execution_count": null,
   "metadata": {
    "ExecuteTime": {
     "end_time": "2020-02-11T15:56:04.293854Z",
     "start_time": "2020-02-11T15:56:04.283852Z"
    }
   },
   "outputs": [],
   "source": [
    "a = 10\n",
    "type(a)"
   ]
  },
  {
   "cell_type": "markdown",
   "metadata": {
    "ExecuteTime": {
     "end_time": "2020-02-11T15:57:25.651720Z",
     "start_time": "2020-02-11T15:57:25.646728Z"
    }
   },
   "source": [
    "Quais são os métodos de um inteiro?"
   ]
  },
  {
   "cell_type": "code",
   "execution_count": null,
   "metadata": {
    "ExecuteTime": {
     "end_time": "2020-02-11T15:57:38.210587Z",
     "start_time": "2020-02-11T15:57:38.206602Z"
    }
   },
   "outputs": [],
   "source": [
    "print(dir(a))"
   ]
  },
  {
   "cell_type": "markdown",
   "metadata": {
    "ExecuteTime": {
     "end_time": "2020-02-11T15:57:48.658515Z",
     "start_time": "2020-02-11T15:57:48.654505Z"
    }
   },
   "source": [
    "O que significa que os podemos chamar..."
   ]
  },
  {
   "cell_type": "code",
   "execution_count": null,
   "metadata": {
    "ExecuteTime": {
     "end_time": "2020-02-11T15:56:57.011257Z",
     "start_time": "2020-02-11T15:56:57.006259Z"
    }
   },
   "outputs": [],
   "source": [
    "a.__pow__(3)"
   ]
  },
  {
   "cell_type": "markdown",
   "metadata": {
    "slideshow": {
     "slide_type": "slide"
    }
   },
   "source": [
    "## Métodos\n",
    "Mais do que atributos podemos definir comportamentos comuns aos objetos da classe `Carro` declarando \"funções\" a que chamamos *métodos*\n",
    "* Os métodos recebem argumentos/parâmetros\n",
    "* Podemos ainda definir variáveis locais dentro do método. \n",
    "* Tanto as variáveis definidas nos métodos como os argumentos têm âmbito/_scope_ que se restringe ao método. \n",
    "        "
   ]
  },
  {
   "cell_type": "code",
   "execution_count": null,
   "metadata": {
    "ExecuteTime": {
     "end_time": "2020-02-11T15:58:43.307853Z",
     "start_time": "2020-02-11T15:58:43.302846Z"
    }
   },
   "outputs": [],
   "source": [
    "class Carro:\n",
    "    def __init__(self, cor, marca, modelo, dono, consumo, kms):\n",
    "        self.cor = cor\n",
    "        self.marca = marca\n",
    "        self.modelo = modelo\n",
    "        self.dono = dono\n",
    "        self.consumo = consumo\n",
    "        self.kms = kms\n",
    "    \n",
    "    def print_info(self):\n",
    "        print('A {} tem um {} {} que gasta {}l/100Km e tem {}kms.'.format(\n",
    "            self.dono, self.marca, self.modelo, self.consumo, self.kms))"
   ]
  },
  {
   "cell_type": "code",
   "execution_count": null,
   "metadata": {
    "ExecuteTime": {
     "end_time": "2020-02-11T15:58:43.553522Z",
     "start_time": "2020-02-11T15:58:43.550511Z"
    },
    "slideshow": {
     "slide_type": "subslide"
    }
   },
   "outputs": [],
   "source": [
    "carro_a = Carro('Branca', 'Fiat', '500', 'Claudia', 6, 20000)"
   ]
  },
  {
   "cell_type": "markdown",
   "metadata": {},
   "source": [
    "Para invocar o método usamos o \".\" (ponto)"
   ]
  },
  {
   "cell_type": "code",
   "execution_count": null,
   "metadata": {
    "ExecuteTime": {
     "end_time": "2020-02-11T15:58:44.210467Z",
     "start_time": "2020-02-11T15:58:44.205472Z"
    }
   },
   "outputs": [],
   "source": [
    "carro_a.print_info()"
   ]
  },
  {
   "cell_type": "markdown",
   "metadata": {
    "slideshow": {
     "slide_type": "slide"
    },
    "solution": "hidden",
    "solution_first": true
   },
   "source": [
    "###### Exercício\n",
    "Implemente na classe Carro um método que calcula e devolve o consumo total do Carro desde que foi comprado (tendo em conta a média e os kms percorridos)"
   ]
  },
  {
   "cell_type": "code",
   "execution_count": null,
   "metadata": {
    "solution": "hidden"
   },
   "outputs": [],
   "source": [
    "class Carro:\n",
    "    def __init__(self, cor, marca, modelo, dono, consumo, kms):\n",
    "        self.cor = cor\n",
    "        self.marca = marca\n",
    "        self.modelo = modelo\n",
    "        self.dono = dono\n",
    "        self.consumo = consumo\n",
    "        self.kms = kms\n",
    "    \n",
    "    def print_info(self):\n",
    "        print('A {} tem um {} {} que gasta {}l/100Km e tem {}kms.'.format(\n",
    "            self.dono, self.marca, self.modelo, self.consumo, self.kms))\n",
    "    \n",
    "    def consumo_total(self):\n",
    "        return self.consumo * self.kms / 100\n",
    "\n",
    "carro_a = Carro('Branca', 'Fiat', '500', 'Claudia', 6, 20000)\n",
    "carro_a.consumo_total()"
   ]
  }
 ],
 "metadata": {
  "kernelspec": {
   "display_name": "Python 3",
   "language": "python",
   "name": "python3"
  },
  "language_info": {
   "codemirror_mode": {
    "name": "ipython",
    "version": 3
   },
   "file_extension": ".py",
   "mimetype": "text/x-python",
   "name": "python",
   "nbconvert_exporter": "python",
   "pygments_lexer": "ipython3",
   "version": "3.6.7"
  },
  "toc": {
   "base_numbering": 1,
   "nav_menu": {},
   "number_sections": true,
   "sideBar": true,
   "skip_h1_title": false,
   "title_cell": "Table of Contents",
   "title_sidebar": "Contents",
   "toc_cell": false,
   "toc_position": {
    "height": "calc(100% - 180px)",
    "left": "10px",
    "top": "150px",
    "width": "294.391px"
   },
   "toc_section_display": true,
   "toc_window_display": true
  }
 },
 "nbformat": 4,
 "nbformat_minor": 2
}
