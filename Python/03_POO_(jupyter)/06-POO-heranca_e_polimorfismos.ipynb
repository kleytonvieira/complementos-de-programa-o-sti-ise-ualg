{
 "cells": [
  {
   "cell_type": "markdown",
   "metadata": {
    "slideshow": {
     "slide_type": "slide"
    }
   },
   "source": [
    "# Programação Orientada aos Objetos (POO) - parte VI\n",
    "\n",
    "Pedro Cardoso\n",
    "\n",
    "(ISE/UAlg - pcardoso@ualg.pt)"
   ]
  },
  {
   "cell_type": "markdown",
   "metadata": {
    "slideshow": {
     "slide_type": "slide"
    }
   },
   "source": [
    "## herança: subclasses\n",
    "Suponhamos agora que pretendíamos tratar de vários tipos de veículos de transporte\n",
    "- Carros, Motos, Camiões, ...\n",
    "- Barcos sem/com motor, ...\n",
    "- Aviões ...\n",
    "- ...\n",
    "\n",
    "Sendo (possivelmente) **más soluções**, poderíamos:\n",
    "- criar uma classe genérica, mantendo nela a marca, o modelo, o dono, nº de passageiros, tamanho dos pneus, etc. e se não existe valor para o atributo em questão (um barco não tem pneus...!) deixaríamos esse atributo vazio.\n",
    "- reescrevemos tudo para cada classe específica, apesar de ser exatamente o mesmo código. E se alterar num sítio tenho de alterar em todos!!! E se acrescentar alguma funcionalidade também tenho de adicionar a todas!\n",
    "- E em relação aos métodos? Não faria sentido ter para alguns dos veículos (p.e., barcos) métodos para definir o tamanho dos pneus... \n",
    "\n",
    "\n",
    "Em POO podemos relacionar classes de tal maneira que uma delas **herda** o que a outra tem. \n",
    "- Isto é uma relação de **classe mãe** e **classe filha**. \n",
    "- A classe estendida diz-se **super classe**\n",
    "- A classe que estende diz-se **sub classe**\n",
    "\n",
    "\n",
    "Em resumo, se **B estende A** então\n",
    "- B herda de A todas a variáveis e métodos de instância que não sejam declarados como private\n",
    "- B pode definir novas variáveis e novos métodos\n",
    "- B pode redefinir variáveis e métodos herdados\n"
   ]
  },
  {
   "cell_type": "code",
   "execution_count": 1,
   "metadata": {
    "ExecuteTime": {
     "end_time": "2019-11-20T17:11:35.910909Z",
     "start_time": "2019-11-20T17:11:35.901918Z"
    },
    "slideshow": {
     "slide_type": "subslide"
    }
   },
   "outputs": [],
   "source": [
    " class Vehicle:\n",
    "    def __init__(self, brand, model, number_of_passengers=0, owner=None):\n",
    "        self.owner = owner\n",
    "        self.brand = brand\n",
    "        self.model = model\n",
    "        self.number_of_passengers = number_of_passengers         \n",
    "    \n",
    "    def vehicle_info(self):\n",
    "        return f'Veiculo da marca {self.brand}, modelo {self.model}, com capacidade para {self.number_of_passengers}. O dono é {self.owner}.'\n",
    "        \n",
    "    @property\n",
    "    def owner(self):\n",
    "        return self.__owner\n",
    "    \n",
    "    @owner.setter\n",
    "    def owner(self, owner):\n",
    "        self.__owner = owner\n",
    "\n",
    "    @property\n",
    "    def brand(self):\n",
    "        return self.__brand\n",
    "\n",
    "    @brand.setter\n",
    "    def brand(self, brand):\n",
    "        self.__brand = brand\n",
    "    \n",
    "    @property\n",
    "    def model(self):\n",
    "        return self.__model\n",
    "    \n",
    "    @model.setter\n",
    "    def model(self, model):\n",
    "        self.__model = model\n",
    "    \n",
    "    @property\n",
    "    def number_of_passengers(self):\n",
    "        return self.__number_of_passengers\n",
    "    \n",
    "    @number_of_passengers.setter\n",
    "    def number_of_passengers(self, number_of_passengers):\n",
    "        self.__number_of_passengers = number_of_passengers   \n",
    "        \n"
   ]
  },
  {
   "cell_type": "code",
   "execution_count": 2,
   "metadata": {
    "slideshow": {
     "slide_type": "subslide"
    }
   },
   "outputs": [
    {
     "name": "stdout",
     "output_type": "stream",
     "text": [
      "Veiculo da marca Fiat, modelo 500, com capacidade para 4. O dono é Margarida.\n"
     ]
    }
   ],
   "source": [
    "v = Vehicle(owner='Margarida', brand='Fiat', model='500', number_of_passengers=4)\n",
    "print(v.vehicle_info())"
   ]
  },
  {
   "cell_type": "markdown",
   "metadata": {
    "slideshow": {
     "slide_type": "subslide"
    }
   },
   "source": [
    "Agora podemos começar a particularizar, supondo que todos os veiculos terrestres tem rodas...\n",
    "podemos juntar atributos/propriedades como sejam `land_velocity`, `number_of_wheels` e `wheels`\n",
    "\n",
    "Note-se ainda que o inicilizador chama o inicializador de `Vehicle` para inicializar os atributos/propriedades de `Vehicle`"
   ]
  },
  {
   "cell_type": "code",
   "execution_count": 3,
   "metadata": {
    "slideshow": {
     "slide_type": "subslide"
    }
   },
   "outputs": [],
   "source": [
    "class  LandVehicle(Vehicle):\n",
    "\n",
    "        def __init__(self, land_velocity, wheels, number_of_wheels, brand, model, number_of_passengers=0, owner=None):\n",
    "            \n",
    "            # chama o construtor de Vehicle para inicializar os atributos/propriedades de Vehicle\n",
    "            super().__init__(owner=owner, brand=brand, model=model, number_of_passengers=number_of_passengers); \n",
    "            \n",
    "            self.land_velocity = land_velocity;\n",
    "            self.wheels = wheels;\n",
    "            self.number_of_wheels = number_of_wheels;\n",
    "        \n",
    "        def vehicle_info(self): # redefinição do método \n",
    "            return  f'''Veiculo da marca {self.brand}, modelo {self.model}, com capacidade para {self.number_of_passengers}. \n",
    "                O dono é {self.owner}. \n",
    "                Tem {self.number_of_wheels} rodas com as especificações {self.wheels}\n",
    "                A velocidade em terra é {self.land_velocity}\n",
    "                '''\n",
    "        \n",
    "        @property\n",
    "        def land_velocity(self):\n",
    "            return self.__land_velocity\n",
    "        \n",
    "        @land_velocity.setter\n",
    "        def land_velocity(self, land_velocity):\n",
    "            self.__land_velocity = land_velocity   \n",
    "\n",
    "        @property\n",
    "        def number_of_wheels(self):\n",
    "            return self.__number_of_wheels\n",
    "\n",
    "        @number_of_wheels.setter\n",
    "        def number_of_wheels(self, number_of_wheels):\n",
    "            self.__number_of_wheels = number_of_wheels   \n",
    "\n",
    "        @property\n",
    "        def wheels(self):\n",
    "            return self.__wheels\n",
    "        \n",
    "        @wheels.setter\n",
    "        def wheels(self, wheels):\n",
    "            self.__wheels = wheels    "
   ]
  },
  {
   "cell_type": "code",
   "execution_count": 4,
   "metadata": {
    "slideshow": {
     "slide_type": "subslide"
    }
   },
   "outputs": [
    {
     "name": "stdout",
     "output_type": "stream",
     "text": [
      "Veiculo da marca Fiat, modelo 500, com capacidade para 4. \n",
      "                O dono é Margarida. \n",
      "                Tem 4 rodas com as especificações 225/55 R 17 97 W\n",
      "                A velocidade em terra é 200\n",
      "                \n"
     ]
    }
   ],
   "source": [
    "lv = LandVehicle(land_velocity=200, wheels='225/55 R 17 97 W', number_of_wheels=4, owner='Margarida', brand='Fiat', model='500', number_of_passengers=4)\n",
    "print(lv.vehicle_info())"
   ]
  },
  {
   "cell_type": "markdown",
   "metadata": {
    "slideshow": {
     "slide_type": "subslide"
    }
   },
   "source": [
    "E podem pode ser ainda mais particularizado num **carro** juntando atributos/propriedades `engine` e `number_of_doors`\n",
    "\n",
    "Note-se ainda que o inicilizador chama o inicializador de `LandVehicle` para inicializar os atributos/propriedades de `LandVehicle` (e implicitamente de `Vehicle`)"
   ]
  },
  {
   "cell_type": "code",
   "execution_count": 5,
   "metadata": {
    "slideshow": {
     "slide_type": "subslide"
    }
   },
   "outputs": [],
   "source": [
    "class Car(LandVehicle):\n",
    "            \n",
    "    def __init__(self, engine, number_of_doors,  land_velocity, wheels, number_of_wheels, brand, model, number_of_passengers=0, owner=None):\n",
    "    \n",
    "        # chama o construtor de LandVehicle para inicializar os atributos/propriedades de LandVehicle (e implicitamente de Vehicle)\n",
    "        super().__init__(land_velocity=land_velocity, wheels=wheels, number_of_wheels=number_of_wheels, owner=owner, brand=brand, model=model, number_of_passengers=number_of_passengers)\n",
    "\n",
    "        self.engine = engine\n",
    "        self.number_of_doors = number_of_doors           \n",
    "        \n",
    "    def vehicle_info(self): # redefinição do método \n",
    "        return  f'''Veiculo da marca {self.brand}, modelo {self.model}, com capacidade para {self.number_of_passengers}. \n",
    "            O dono é {self.owner}. \n",
    "            Tem {self.number_of_wheels} rodas com as especificações {self.wheels}\n",
    "            A velocidade em terra é {self.land_velocity}.\n",
    "            Tem um motor com {self.engine}cc e {self.number_of_doors} portas.\n",
    "            '''\n",
    "    @property\n",
    "    def engine(self):\n",
    "        return self.__engine\n",
    "\n",
    "    @engine.setter\n",
    "    def engine(self, engine):\n",
    "        self.__engine = engine\n",
    "    \n",
    "    @property\n",
    "    def number_of_doors(self):\n",
    "        return self.__number_of_doors\n",
    "    \n",
    "    @number_of_doors.setter\n",
    "    def number_of_doors(self, number_of_doors):\n",
    "        self.__number_of_doors = number_of_doors"
   ]
  },
  {
   "cell_type": "code",
   "execution_count": 6,
   "metadata": {
    "slideshow": {
     "slide_type": "subslide"
    }
   },
   "outputs": [
    {
     "name": "stdout",
     "output_type": "stream",
     "text": [
      "Veiculo da marca Fiat, modelo 500, com capacidade para 4. \n",
      "            O dono é Margarida. \n",
      "            Tem 4 rodas com as especificações 225/55 R 17 97 W\n",
      "            A velocidade em terra é 200.\n",
      "            Tem um motor com 1500 cccc e 5 portas.\n",
      "            \n"
     ]
    }
   ],
   "source": [
    "c = Car(engine='1500 cc', number_of_doors=5, land_velocity=200, wheels='225/55 R 17 97 W', number_of_wheels=4, owner='Margarida', brand='Fiat', model='500', number_of_passengers=4)\n",
    "print(c.vehicle_info())"
   ]
  },
  {
   "cell_type": "markdown",
   "metadata": {
    "slideshow": {
     "slide_type": "subslide"
    }
   },
   "source": [
    "Quais são os atributos de uma instância de Car (métodos e atributos começados por só '_')?"
   ]
  },
  {
   "cell_type": "code",
   "execution_count": 7,
   "metadata": {},
   "outputs": [
    {
     "data": {
      "text/plain": [
       "['_Car__engine',\n",
       " '_Car__number_of_doors',\n",
       " '_LandVehicle__land_velocity',\n",
       " '_LandVehicle__number_of_wheels',\n",
       " '_LandVehicle__wheels',\n",
       " '_Vehicle__brand',\n",
       " '_Vehicle__model',\n",
       " '_Vehicle__number_of_passengers',\n",
       " '_Vehicle__owner']"
      ]
     },
     "execution_count": 7,
     "metadata": {},
     "output_type": "execute_result"
    }
   ],
   "source": [
    "list(filter(lambda x : (x[0] == '_' and x[1] != '_'), dir(c)))"
   ]
  },
  {
   "cell_type": "markdown",
   "metadata": {
    "slideshow": {
     "slide_type": "subslide"
    }
   },
   "source": [
    "E que métodos e propriedades tem Car?"
   ]
  },
  {
   "cell_type": "code",
   "execution_count": 8,
   "metadata": {},
   "outputs": [
    {
     "data": {
      "text/plain": [
       "['brand',\n",
       " 'engine',\n",
       " 'land_velocity',\n",
       " 'model',\n",
       " 'number_of_doors',\n",
       " 'number_of_passengers',\n",
       " 'number_of_wheels',\n",
       " 'owner',\n",
       " 'vehicle_info',\n",
       " 'wheels']"
      ]
     },
     "execution_count": 8,
     "metadata": {},
     "output_type": "execute_result"
    }
   ],
   "source": [
    "list(filter(lambda x : (x[0] != '_'), dir(c)))"
   ]
  },
  {
   "cell_type": "markdown",
   "metadata": {
    "slideshow": {
     "slide_type": "subslide"
    }
   },
   "source": [
    "E obviamente podemos usar os métodos/propriedades herdados pela classe `Car`"
   ]
  },
  {
   "cell_type": "code",
   "execution_count": 9,
   "metadata": {},
   "outputs": [
    {
     "name": "stdout",
     "output_type": "stream",
     "text": [
      "Veiculo da marca Fiat, modelo 500, com capacidade para 4. \n",
      "            O dono é João Pedro. \n",
      "            Tem 4 rodas com as especificações 225/55 R 17 97 W\n",
      "            A velocidade em terra é 200.\n",
      "            Tem um motor com 1500 cccc e 5 portas.\n",
      "            \n"
     ]
    }
   ],
   "source": [
    "c.owner = 'João Pedro'\n",
    "print(c.vehicle_info())"
   ]
  },
  {
   "cell_type": "markdown",
   "metadata": {
    "slideshow": {
     "slide_type": "subslide"
    }
   },
   "source": [
    "Notemos que `Car.__dict__` devolve um dicionário com espaço de nomes do módulo"
   ]
  },
  {
   "cell_type": "code",
   "execution_count": 10,
   "metadata": {},
   "outputs": [
    {
     "data": {
      "text/plain": [
       "mappingproxy({'__module__': '__main__',\n",
       "              '__init__': <function __main__.Car.__init__>,\n",
       "              'vehicle_info': <function __main__.Car.vehicle_info>,\n",
       "              'engine': <property at 0x7f5b5c50d048>,\n",
       "              'number_of_doors': <property at 0x7f5b5c50d598>,\n",
       "              '__doc__': None})"
      ]
     },
     "execution_count": 10,
     "metadata": {},
     "output_type": "execute_result"
    }
   ],
   "source": [
    "Car.__dict__"
   ]
  },
  {
   "cell_type": "markdown",
   "metadata": {
    "slideshow": {
     "slide_type": "subslide"
    }
   },
   "source": [
    "que é diferente de `dir()` que mostra também o que herdou"
   ]
  },
  {
   "cell_type": "code",
   "execution_count": 11,
   "metadata": {},
   "outputs": [
    {
     "name": "stdout",
     "output_type": "stream",
     "text": [
      "['__class__', '__delattr__', '__dict__', '__dir__', '__doc__', '__eq__', '__format__', '__ge__', '__getattribute__', '__gt__', '__hash__', '__init__', '__init_subclass__', '__le__', '__lt__', '__module__', '__ne__', '__new__', '__reduce__', '__reduce_ex__', '__repr__', '__setattr__', '__sizeof__', '__str__', '__subclasshook__', '__weakref__', 'brand', 'engine', 'land_velocity', 'model', 'number_of_doors', 'number_of_passengers', 'number_of_wheels', 'owner', 'vehicle_info', 'wheels']\n"
     ]
    }
   ],
   "source": [
    "print(dir(Car))"
   ]
  },
  {
   "cell_type": "markdown",
   "metadata": {
    "slideshow": {
     "slide_type": "slide"
    }
   },
   "source": [
    "## Algumas notas\n",
    "### Sobreposição (Overriding) de métodos\n",
    "\n",
    "- Por vezes, no mecanismo de herança, uma classe herda métodos que não lhe servem.\n",
    "- Nesse caso podemos redefinir esses métodos (Polimorfismo)\n",
    "\n",
    "Nos exemplos anteriores vimos que o método `vehicle_info(self):` foi (re)defenido em todas as classes\n",
    "\n",
    "### Sobrecarga\n",
    "\n",
    "- Ao trabalhar com linguagens que podem discriminar tipos de dados em tempo de compilação, a seleção entre as alternativas pode ocorrer em tempo de compilação. O ato de criar tais _funções alternativas_ para seleção em tempo de compilação é geralmente chamado de **sobrecarga de função**. \n",
    "\n",
    "- O Python é uma linguagem dinamicamente tipada, portanto o conceito de sobrecarga simplesmente não se aplica. No entanto, podemos criar funções alternativas em tempo de execução usando por exemplo argumentos opcionais (como no exemplo atrás)"
   ]
  },
  {
   "cell_type": "code",
   "execution_count": 12,
   "metadata": {},
   "outputs": [],
   "source": [
    "c1 = Car(engine='1500 cc', number_of_doors=5, land_velocity=200, wheels='225/55 R 17 97 W', number_of_wheels=4, brand='Fiat', model='500')\n",
    "c2 = Car(engine='1500 cc', number_of_doors=5, land_velocity=200, wheels='225/55 R 17 97 W', number_of_wheels=4, owner='Margarida', brand='Fiat', model='500', number_of_passengers=4)"
   ]
  },
  {
   "cell_type": "code",
   "execution_count": null,
   "metadata": {},
   "outputs": [],
   "source": []
  }
 ],
 "metadata": {
  "celltoolbar": "Slideshow",
  "kernelspec": {
   "display_name": "Python 3",
   "language": "python",
   "name": "python3"
  },
  "language_info": {
   "codemirror_mode": {
    "name": "ipython",
    "version": 3
   },
   "file_extension": ".py",
   "mimetype": "text/x-python",
   "name": "python",
   "nbconvert_exporter": "python",
   "pygments_lexer": "ipython3",
   "version": "3.7.3"
  },
  "toc": {
   "base_numbering": 1,
   "nav_menu": {},
   "number_sections": true,
   "sideBar": true,
   "skip_h1_title": false,
   "title_cell": "Table of Contents",
   "title_sidebar": "Contents",
   "toc_cell": false,
   "toc_position": {},
   "toc_section_display": true,
   "toc_window_display": false
  }
 },
 "nbformat": 4,
 "nbformat_minor": 2
}
