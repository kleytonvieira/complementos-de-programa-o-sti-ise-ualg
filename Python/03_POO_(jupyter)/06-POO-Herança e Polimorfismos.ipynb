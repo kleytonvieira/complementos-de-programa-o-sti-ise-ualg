{
 "cells": [
  {
   "cell_type": "markdown",
   "metadata": {},
   "source": [
    "# Programação Orientada aos Objetos (POO) - parte VI\n",
    "\n",
    "Pedro Cardoso\n",
    "\n",
    "(ISE/UAlg - pcardoso@ualg.pt)"
   ]
  },
  {
   "cell_type": "markdown",
   "metadata": {},
   "source": [
    "## herança: subclasses\n",
    "Suponhamos agora que pretendíamos tratar de vários tipos de veículos de transporte\n",
    "- Carros, Motos, Camiões, ...\n",
    "- Barcos sem/com motor, ...\n",
    "- Aviões ...\n",
    "- ...\n",
    "\n",
    "Sendo (possivelmente) **más soluções**, poderíamos:\n",
    "- criar uma classe genérica, mantendo nela a marca, o modelo, o dono, nº de passageiros, tamanho dos pneus, etc. e se não existe valor para o atributo em questão (um barco não tem pneus...!) deixaríamos esse atributo vazio.\n",
    "- reescrevemos tudo para cada classe específica, apesar de ser exatamente o mesmo código. E se alterar num sítio tenho de alterar em todos!!! E se acrescentar alguma funcionalidade também tenho de adicionar a todas!\n",
    "- E em relação aos métodos? Não faria sentido ter para alguns dos veículos (p.e., barcos) métodos para definir o tamanho dos pneus... \n",
    "\n",
    "\n",
    "Em POO podemos relacionar classes de tal maneira que uma delas **herda** o que a outra tem. \n",
    "- Isto é uma relação de **classe mãe** e **classe filha**. \n",
    "- A classe estendida diz-se **super classe**\n",
    "- A classe que estende diz-se **sub classe**\n",
    "\n",
    "\n",
    "Em resumo, se **B estende A** então\n",
    "- B herda de A todas a variáveis e métodos de instância que não sejam declarados como private\n",
    "- B pode definir novas variáveis e novos métodos\n",
    "- B pode redefinir variáveis e métodos herdados\n"
   ]
  },
  {
   "cell_type": "code",
   "execution_count": null,
   "metadata": {
    "ExecuteTime": {
     "end_time": "2019-11-20T17:11:35.910909Z",
     "start_time": "2019-11-20T17:11:35.901918Z"
    }
   },
   "outputs": [],
   "source": [
    " class Vehicle:\n",
    "    def __init__(self, brand, model, number_of_passengers=0, owner=None):\n",
    "        self.owner = owner\n",
    "        self.brand = brand\n",
    "        self.model = model\n",
    "        self.number_of_passengers = number_of_passengers         \n",
    "            \n",
    "    def vehicle_info(self):\n",
    "        return f'Veiculo da marca {self.brand}, modelo {self.model}, com capacidade para {self.number_of_passengers}. O dono é {self.owner}.'\n",
    "        \n",
    "    def get_owner(self):\n",
    "        return self.__owner\n",
    "\n",
    "    def set_owner(self, owner):\n",
    "        self.__owner = owner\n",
    "    \n",
    "    def get_brand(self):\n",
    "        return self.__brand\n",
    "\n",
    "    def set_brand(self, brand):\n",
    "        self.__brand = brand\n",
    "    \n",
    "    def get_model(self):\n",
    "        return self.__model\n",
    "\n",
    "    def set_model(self, model):\n",
    "        self.__model = model\n",
    "    \n",
    "    def get_number_of_passengers(self):\n",
    "        return self.__number_of_passengers\n",
    "\n",
    "    def set_number_of_passengers(self, number_of_passengers):\n",
    "        self.__number_of_passengers = number_of_passengers   \n",
    "        \n",
    "    owner = property(get_owner, set_owner)\n",
    "    brand = property(get_brand, set_brand)\n",
    "    model = property(get_model, set_model)\n",
    "    number_of_passengers = property(get_number_of_passengers, set_number_of_passengers)"
   ]
  },
  {
   "cell_type": "code",
   "execution_count": null,
   "metadata": {},
   "outputs": [],
   "source": [
    "v = Vehicle(owner='Margarida', brand='Fiat', model='500', number_of_passengers=4)\n",
    "v"
   ]
  },
  {
   "cell_type": "markdown",
   "metadata": {},
   "source": [
    "Agora podemos começar a particularizar, supondo que todos os veiculos terrestres tem rodas..."
   ]
  },
  {
   "cell_type": "code",
   "execution_count": null,
   "metadata": {},
   "outputs": [],
   "source": [
    "class  LandVehicle(Vehicle):\n",
    "\n",
    "        def __init__(self, land_velocity, wheels, number_of_wheels, brand, model, number_of_passengers=0, owner=None):\n",
    "            \n",
    "            super().__init__(owner=owner, brand=brand, model=model, number_of_passengers=number_of_passengers); # chama o construtor de Vehicle \n",
    "            \n",
    "            self.land_velocity = land_velocity;\n",
    "            self.wheels = wheels;\n",
    "            self.number_of_wheels = number_of_wheels;\n",
    "        \n",
    "        def vehicle_info(self): # redefinição do método \n",
    "            return  f'''Veiculo da marca {self.brand}, modelo {self.model}, com capacidade para {self.number_of_passengers}. \n",
    "                O dono é {self.owner}. \n",
    "                Tem {self.number_of_wheels} rodas com as especificações {self.wheels}\n",
    "                A velocidade em terra é {self.land_velocity}\n",
    "                '''\n",
    "        def get_land_velocity(self):\n",
    "            return self.__land_velocity\n",
    "\n",
    "        def set_land_velocity(self, land_velocity):\n",
    "            self.__land_velocity = land_velocity   \n",
    "\n",
    "        def get_number_of_wheels(self):\n",
    "            return self.__number_of_wheels\n",
    "\n",
    "        def set_number_of_wheels(self, number_of_wheels):\n",
    "            self.__number_of_wheels = number_of_wheels   \n",
    "\n",
    "        def get_wheels(self):\n",
    "            return self.__wheels\n",
    "\n",
    "        def set_wheels(self, wheels):\n",
    "            self.__wheels = wheels\n",
    "\n",
    "        land_velocity = property(get_land_velocity, set_land_velocity)\n",
    "        wheels = property(get_wheels, set_wheels)\n",
    "        number_of_wheels = property(get_number_of_wheels, set_number_of_wheels)\n",
    "            "
   ]
  },
  {
   "cell_type": "code",
   "execution_count": null,
   "metadata": {},
   "outputs": [],
   "source": [
    "lv = LandVehicle(land_velocity=200, wheels='225/55 R 17 97 W', number_of_wheels=4, owner='Margarida', brand='Fiat', model='500', number_of_passengers=4)\n",
    "lv"
   ]
  },
  {
   "cell_type": "markdown",
   "metadata": {},
   "source": [
    "E podem ser carro"
   ]
  },
  {
   "cell_type": "code",
   "execution_count": null,
   "metadata": {},
   "outputs": [],
   "source": [
    "class Car(LandVehicle):\n",
    "            \n",
    "    def __init__(self, engine, number_of_doors,  land_velocity, wheels, number_of_wheels, brand, model, number_of_passengers=0, owner=None):\n",
    "    \n",
    "        super().__init__(land_velocity=land_velocity, wheels=wheels, number_of_wheels=number_of_wheels, owner=owner, brand=brand, model=model, number_of_passengers=number_of_passengers)\n",
    "\n",
    "        self.engine = engine\n",
    "        self.number_of_doors = number_of_doors           \n",
    "        \n",
    "    def vehicle_info(self): # redefinição do método \n",
    "        return  f'''Veiculo da marca {self.brand}, modelo {self.model}, com capacidade para {self.number_of_passengers}. \n",
    "            O dono é {self.owner}. \n",
    "            Tem {self.number_of_wheels} rodas com as especificações {self.wheels}\n",
    "            A velocidade em terra é {self.land_velocity}.\n",
    "            Tem um motor com {self.engine}cc e {self.number_of_doors} portas.\n",
    "            '''\n",
    "    \n",
    "    def get_engine(self):\n",
    "        return self.__engine\n",
    "\n",
    "    def set_engine(self, engine):\n",
    "        self.__engine = engine\n",
    "\n",
    "    def get_number_of_doors(self):\n",
    "        return self.__number_of_doors\n",
    "\n",
    "    def set_number_of_doors(self, number_of_doors):\n",
    "        self.__number_of_doors = number_of_doors\n",
    "\n",
    "    engine = property(get_engine, set_engine)\n",
    "    number_of_doors = property(get_number_of_doors, set_number_of_doors)\n"
   ]
  },
  {
   "cell_type": "code",
   "execution_count": null,
   "metadata": {},
   "outputs": [],
   "source": [
    "c = Car(engine='1500 cc', number_of_doors=5, land_velocity=200, wheels='225/55 R 17 97 W', number_of_wheels=4, owner='Margarida', brand='Fiat', model='500', number_of_passengers=4)\n",
    "c"
   ]
  },
  {
   "cell_type": "markdown",
   "metadata": {},
   "source": [
    "Quais são os atributos de uma instância de Car (métodos e atributos começados por só '_')?"
   ]
  },
  {
   "cell_type": "code",
   "execution_count": null,
   "metadata": {},
   "outputs": [],
   "source": [
    "list(filter(lambda x : (x[0] == '_' and x[1] != '_'), dir(c)))"
   ]
  },
  {
   "cell_type": "markdown",
   "metadata": {},
   "source": [
    "E que métodos e propriedades tem Car?"
   ]
  },
  {
   "cell_type": "code",
   "execution_count": null,
   "metadata": {},
   "outputs": [],
   "source": [
    "list(filter(lambda x : (x[0] != '_'), dir(c)))"
   ]
  },
  {
   "cell_type": "markdown",
   "metadata": {},
   "source": [
    "E obviamente podemos usar os métodos herdador pela classe Car"
   ]
  },
  {
   "cell_type": "code",
   "execution_count": null,
   "metadata": {},
   "outputs": [],
   "source": [
    "c.set_owner('João Pedro')\n",
    "c"
   ]
  },
  {
   "cell_type": "markdown",
   "metadata": {},
   "source": [
    "Notemos que `Car.__dict__` devolve um dicionário com espaço de nomes do módulo"
   ]
  },
  {
   "cell_type": "code",
   "execution_count": null,
   "metadata": {},
   "outputs": [],
   "source": [
    "Car.__dict__"
   ]
  },
  {
   "cell_type": "markdown",
   "metadata": {},
   "source": [
    "que é diferente de `dir()` que mostra também o que herdou"
   ]
  },
  {
   "cell_type": "code",
   "execution_count": null,
   "metadata": {},
   "outputs": [],
   "source": [
    "print(dir(Car))"
   ]
  },
  {
   "cell_type": "markdown",
   "metadata": {},
   "source": [
    "## Algumas notas\n",
    "### Sobreposição (Overriding) de métodos\n",
    "\n",
    "- Por vezes, no mecanismo de herança, uma classe herda métodos que não lhe servem.\n",
    "- Nesse caso podemos redefinir esses métodos (Polimorfismo)\n",
    "\n",
    "Nos exemplos anteriores vimos que o método `vehicle_info(self):` foi (re)defenido em todas as classes\n",
    "\n",
    "### Sobrecarga\n",
    "\n",
    "- Ao trabalhar com linguagens que podem discriminar tipos de dados em tempo de compilação, a seleção entre as alternativas pode ocorrer em tempo de compilação. O ato de criar tais _funções alternativas_ para seleção em tempo de compilação é geralmente chamado de **sobrecarga de função** (Wikipedia). \n",
    "\n",
    "- O Python é uma linguagem dinamicamente tipada, portanto o conceito de sobrecarga simplesmente não se aplica. No entanto, podemos criar funções alternativas em tempo de execução usando por exemplo argumentos opcionais (como no exemplo atrás)"
   ]
  },
  {
   "cell_type": "code",
   "execution_count": null,
   "metadata": {},
   "outputs": [],
   "source": [
    "c1 = Car(engine='1500 cc', number_of_doors=5, land_velocity=200, wheels='225/55 R 17 97 W', number_of_wheels=4, brand='Fiat', model='500')\n",
    "c2 = Car(engine='1500 cc', number_of_doors=5, land_velocity=200, wheels='225/55 R 17 97 W', number_of_wheels=4, owner='Margarida', brand='Fiat', model='500', number_of_passengers=4)"
   ]
  },
  {
   "cell_type": "code",
   "execution_count": null,
   "metadata": {},
   "outputs": [],
   "source": []
  }
 ],
 "metadata": {
  "kernelspec": {
   "display_name": "Python 3",
   "language": "python",
   "name": "python3"
  },
  "language_info": {
   "codemirror_mode": {
    "name": "ipython",
    "version": 3
   },
   "file_extension": ".py",
   "mimetype": "text/x-python",
   "name": "python",
   "nbconvert_exporter": "python",
   "pygments_lexer": "ipython3",
   "version": "3.6.7"
  },
  "toc": {
   "base_numbering": 1,
   "nav_menu": {},
   "number_sections": true,
   "sideBar": true,
   "skip_h1_title": false,
   "title_cell": "Table of Contents",
   "title_sidebar": "Contents",
   "toc_cell": false,
   "toc_position": {},
   "toc_section_display": true,
   "toc_window_display": false
  }
 },
 "nbformat": 4,
 "nbformat_minor": 2
}
