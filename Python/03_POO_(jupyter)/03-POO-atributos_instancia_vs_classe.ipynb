{
 "cells": [
  {
   "cell_type": "markdown",
   "metadata": {
    "slideshow": {
     "slide_type": "slide"
    }
   },
   "source": [
    "# Programação Orientada aos Objetos (POO) - parte III\n",
    "Pedro Cardoso\n",
    "\n",
    "(ISE/UAlg - pcardoso@ualg.pt)"
   ]
  },
  {
   "cell_type": "markdown",
   "metadata": {
    "slideshow": {
     "slide_type": "slide"
    }
   },
   "source": [
    "## Atributos de instância vs. de classe"
   ]
  },
  {
   "cell_type": "markdown",
   "metadata": {},
   "source": [
    "* Um **atributo de instância** é uma variável Python pertencente a um e apenas um objeto. Essa variável é acessível apenas no âmbito deste objeto e é definida dentro da função construtora `__init__(self, ..)` ou outro método do objeto.\n",
    "        \n",
    "* Um **atributo de classe** é uma variável Python que pertence a uma classe e não a um objeto específico, sendo compartilhado entre todos os objetos dessa classe e é definido **fora** da função do construtor, `__init__(self, ..)`, da classe ou outro método do objeto."
   ]
  },
  {
   "cell_type": "code",
   "execution_count": 1,
   "metadata": {
    "ExecuteTime": {
     "end_time": "2019-10-31T09:03:12.227696Z",
     "start_time": "2019-10-31T09:03:12.223703Z"
    },
    "slideshow": {
     "slide_type": "slide"
    }
   },
   "outputs": [],
   "source": [
    "class Carro:\n",
    "    # atributo da classe\n",
    "    numero_carros = 0\n",
    "    \n",
    "    def __init__(self, marca, modelo):\n",
    "        # atributos da instancia\n",
    "        self.marca = marca\n",
    "        self.modelo = modelo\n",
    "        \n",
    "        # acesso ao atributo da classe (self.__class__ == Carro)\n",
    "        # valor incrementado cada vez que é criado um objeto (contador de instanciações)\n",
    "        self.__class__.numero_carros +=1"
   ]
  },
  {
   "cell_type": "code",
   "execution_count": 2,
   "metadata": {
    "ExecuteTime": {
     "end_time": "2019-10-31T09:03:12.387802Z",
     "start_time": "2019-10-31T09:03:12.383806Z"
    },
    "slideshow": {
     "slide_type": "subslide"
    }
   },
   "outputs": [],
   "source": [
    "carro_a = Carro('Fiat', '500')\n",
    "carro_b = Carro('Audi', 'A4')\n",
    "carro_c = Carro('Seat', 'Ibiza')"
   ]
  },
  {
   "cell_type": "markdown",
   "metadata": {
    "slideshow": {
     "slide_type": "subslide"
    }
   },
   "source": [
    "Podemos saber quantos objetos fda classe Carro foram instanciados"
   ]
  },
  {
   "cell_type": "code",
   "execution_count": 3,
   "metadata": {
    "ExecuteTime": {
     "end_time": "2019-10-31T09:03:12.563974Z",
     "start_time": "2019-10-31T09:03:12.559967Z"
    },
    "scrolled": true,
    "slideshow": {
     "slide_type": "-"
    }
   },
   "outputs": [
    {
     "name": "stdout",
     "output_type": "stream",
     "text": [
      "numero de carros instanciados: 3\n"
     ]
    }
   ],
   "source": [
    "print('numero de carros instanciados: {}'.format(Carro.numero_carros))"
   ]
  },
  {
   "cell_type": "markdown",
   "metadata": {
    "slideshow": {
     "slide_type": "subslide"
    }
   },
   "source": [
    "Tambem podemos, mas \"não o devemos\" fazer do seguinte modo"
   ]
  },
  {
   "cell_type": "code",
   "execution_count": 4,
   "metadata": {
    "ExecuteTime": {
     "end_time": "2019-10-31T09:03:12.730833Z",
     "start_time": "2019-10-31T09:03:12.727845Z"
    }
   },
   "outputs": [
    {
     "name": "stdout",
     "output_type": "stream",
     "text": [
      "numero de carros instanciados: 3\n"
     ]
    }
   ],
   "source": [
    "print('numero de carros instanciados: {}'.format(carro_a.numero_carros))"
   ]
  },
  {
   "cell_type": "markdown",
   "metadata": {
    "slideshow": {
     "slide_type": "subslide"
    }
   },
   "source": [
    "Vejamos quais são os atributos do objeto `carro_a`"
   ]
  },
  {
   "cell_type": "code",
   "execution_count": 5,
   "metadata": {},
   "outputs": [
    {
     "data": {
      "text/plain": [
       "{'marca': 'Fiat', 'modelo': '500'}"
      ]
     },
     "execution_count": 5,
     "metadata": {},
     "output_type": "execute_result"
    }
   ],
   "source": [
    "carro_a.__dict__"
   ]
  },
  {
   "cell_type": "markdown",
   "metadata": {
    "slideshow": {
     "slide_type": "subslide"
    }
   },
   "source": [
    "Note-se que se fizer"
   ]
  },
  {
   "cell_type": "code",
   "execution_count": 6,
   "metadata": {},
   "outputs": [],
   "source": [
    "carro_a.numero_carros = 10"
   ]
  },
  {
   "cell_type": "markdown",
   "metadata": {},
   "source": [
    "então, passou a existir um atibuto `numero_carros` no objeto `carro_a`"
   ]
  },
  {
   "cell_type": "code",
   "execution_count": 7,
   "metadata": {},
   "outputs": [
    {
     "data": {
      "text/plain": [
       "{'marca': 'Fiat', 'modelo': '500', 'numero_carros': 10}"
      ]
     },
     "execution_count": 7,
     "metadata": {},
     "output_type": "execute_result"
    }
   ],
   "source": [
    "carro_a.__dict__"
   ]
  },
  {
   "cell_type": "markdown",
   "metadata": {
    "slideshow": {
     "slide_type": "subslide"
    }
   },
   "source": [
    "que não existe nos outros objetos"
   ]
  },
  {
   "cell_type": "code",
   "execution_count": 8,
   "metadata": {},
   "outputs": [
    {
     "data": {
      "text/plain": [
       "{'marca': 'Audi', 'modelo': 'A4'}"
      ]
     },
     "execution_count": 8,
     "metadata": {},
     "output_type": "execute_result"
    }
   ],
   "source": [
    "carro_b.__dict__"
   ]
  },
  {
   "cell_type": "markdown",
   "metadata": {
    "slideshow": {
     "slide_type": "subslide"
    }
   },
   "source": [
    "e que não é o (mesmo) atributo da classe `Carro`"
   ]
  },
  {
   "cell_type": "code",
   "execution_count": 9,
   "metadata": {},
   "outputs": [
    {
     "data": {
      "text/plain": [
       "mappingproxy({'__module__': '__main__',\n",
       "              'numero_carros': 3,\n",
       "              '__init__': <function __main__.Carro.__init__>,\n",
       "              '__dict__': <attribute '__dict__' of 'Carro' objects>,\n",
       "              '__weakref__': <attribute '__weakref__' of 'Carro' objects>,\n",
       "              '__doc__': None})"
      ]
     },
     "execution_count": 9,
     "metadata": {},
     "output_type": "execute_result"
    }
   ],
   "source": [
    "Carro.__dict__"
   ]
  },
  {
   "cell_type": "markdown",
   "metadata": {
    "slideshow": {
     "slide_type": "subslide"
    }
   },
   "source": [
    "Porque..."
   ]
  },
  {
   "cell_type": "code",
   "execution_count": 10,
   "metadata": {},
   "outputs": [
    {
     "data": {
      "text/plain": [
       "True"
      ]
     },
     "execution_count": 10,
     "metadata": {},
     "output_type": "execute_result"
    }
   ],
   "source": [
    "id(Carro.numero_carros) != id(carro_a.numero_carros)"
   ]
  },
  {
   "cell_type": "markdown",
   "metadata": {},
   "source": [
    "mas "
   ]
  },
  {
   "cell_type": "code",
   "execution_count": 11,
   "metadata": {},
   "outputs": [
    {
     "data": {
      "text/plain": [
       "False"
      ]
     },
     "execution_count": 11,
     "metadata": {},
     "output_type": "execute_result"
    }
   ],
   "source": [
    "id(Carro.numero_carros) != id(carro_b.numero_carros)"
   ]
  },
  {
   "cell_type": "code",
   "execution_count": null,
   "metadata": {},
   "outputs": [],
   "source": []
  }
 ],
 "metadata": {
  "celltoolbar": "Slideshow",
  "kernelspec": {
   "display_name": "Python 3",
   "language": "python",
   "name": "python3"
  },
  "language_info": {
   "codemirror_mode": {
    "name": "ipython",
    "version": 3
   },
   "file_extension": ".py",
   "mimetype": "text/x-python",
   "name": "python",
   "nbconvert_exporter": "python",
   "pygments_lexer": "ipython3",
   "version": "3.7.3"
  },
  "toc": {
   "base_numbering": 1,
   "nav_menu": {},
   "number_sections": true,
   "sideBar": true,
   "skip_h1_title": false,
   "title_cell": "Table of Contents",
   "title_sidebar": "Contents",
   "toc_cell": false,
   "toc_position": {},
   "toc_section_display": true,
   "toc_window_display": false
  }
 },
 "nbformat": 4,
 "nbformat_minor": 2
}
