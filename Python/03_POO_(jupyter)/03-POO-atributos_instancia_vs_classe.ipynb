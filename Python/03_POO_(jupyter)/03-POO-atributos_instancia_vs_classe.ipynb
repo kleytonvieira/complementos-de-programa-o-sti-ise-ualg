{
 "cells": [
  {
   "cell_type": "markdown",
   "metadata": {
    "slideshow": {
     "slide_type": "slide"
    }
   },
   "source": [
    "# Programação Orientada aos Objetos (POO) - parte III\n",
    "Pedro Cardoso\n",
    "\n",
    "(ISE/UAlg - pcardoso@ualg.pt)"
   ]
  },
  {
   "cell_type": "markdown",
   "metadata": {
    "slideshow": {
     "slide_type": "slide"
    }
   },
   "source": [
    "## Atributos de instância vs. de classe"
   ]
  },
  {
   "cell_type": "markdown",
   "metadata": {},
   "source": [
    "* Um **atributo de instância** é uma variável Python pertencente a um e apenas um objeto. Essa variável é acessível apenas no âmbito deste objeto e é definida dentro da função construtora `__init__(self, ..)` ou outro método do objeto.\n",
    "        \n",
    "* Um **atributo de classe** é uma variável Python que pertence a uma classe e não a um objeto específico, sendo compartilhado entre todos os objetos dessa classe e é definido **fora** da função do construtor, `__init__(self, ..)`, da classe ou outro método do objeto."
   ]
  },
  {
   "cell_type": "code",
   "execution_count": 1,
   "metadata": {
    "ExecuteTime": {
     "end_time": "2019-10-31T09:03:12.227696Z",
     "start_time": "2019-10-31T09:03:12.223703Z"
    },
    "slideshow": {
     "slide_type": "slide"
    }
   },
   "outputs": [],
   "source": [
    "class Carro:\n",
    "    # atributo da classe\n",
    "    numero_carros = 0\n",
    "    \n",
    "    def __init__(self, marca, modelo):\n",
    "        # atributos da instancia\n",
    "        self.marca = marca\n",
    "        self.modelo = modelo\n",
    "        \n",
    "        # acesso ao atributo da classe (self.__class__ == Carro)\n",
    "        # valor incrementado cada vez que é criado um objeto (contador de instanciações)\n",
    "        self.__class__.numero_carros +=1"
   ]
  },
  {
   "cell_type": "code",
   "execution_count": 2,
   "metadata": {
    "ExecuteTime": {
     "end_time": "2019-10-31T09:03:12.387802Z",
     "start_time": "2019-10-31T09:03:12.383806Z"
    },
    "slideshow": {
     "slide_type": "subslide"
    }
   },
   "outputs": [],
   "source": [
    "carro_a = Carro('Fiat', '500')\n",
    "carro_b = Carro('Audi', 'A4')\n",
    "carro_c = Carro('Seat', 'Ibiza')"
   ]
  },
  {
   "cell_type": "code",
   "execution_count": 3,
   "metadata": {
    "ExecuteTime": {
     "end_time": "2019-10-31T09:03:12.563974Z",
     "start_time": "2019-10-31T09:03:12.559967Z"
    },
    "scrolled": true,
    "slideshow": {
     "slide_type": "subslide"
    }
   },
   "outputs": [
    {
     "name": "stdout",
     "output_type": "stream",
     "text": [
      "numero de carros instanciados: 3\n"
     ]
    }
   ],
   "source": [
    "print('numero de carros instanciados: {}'.format(Carro.numero_carros))"
   ]
  },
  {
   "cell_type": "code",
   "execution_count": 4,
   "metadata": {
    "ExecuteTime": {
     "end_time": "2019-10-31T09:03:12.730833Z",
     "start_time": "2019-10-31T09:03:12.727845Z"
    }
   },
   "outputs": [
    {
     "name": "stdout",
     "output_type": "stream",
     "text": [
      "numero de carros instanciados: 3\n"
     ]
    }
   ],
   "source": [
    "print('numero de carros instanciados: {}'.format(carro_a.numero_carros))"
   ]
  }
 ],
 "metadata": {
  "celltoolbar": "Slideshow",
  "kernelspec": {
   "display_name": "Python 3",
   "language": "python",
   "name": "python3"
  },
  "language_info": {
   "codemirror_mode": {
    "name": "ipython",
    "version": 3
   },
   "file_extension": ".py",
   "mimetype": "text/x-python",
   "name": "python",
   "nbconvert_exporter": "python",
   "pygments_lexer": "ipython3",
   "version": "3.6.7"
  },
  "toc": {
   "base_numbering": 1,
   "nav_menu": {},
   "number_sections": true,
   "sideBar": true,
   "skip_h1_title": false,
   "title_cell": "Table of Contents",
   "title_sidebar": "Contents",
   "toc_cell": false,
   "toc_position": {},
   "toc_section_display": true,
   "toc_window_display": false
  }
 },
 "nbformat": 4,
 "nbformat_minor": 2
}
