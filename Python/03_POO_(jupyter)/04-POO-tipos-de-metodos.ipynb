{
 "cells": [
  {
   "cell_type": "markdown",
   "metadata": {
    "slideshow": {
     "slide_type": "slide"
    }
   },
   "source": [
    "# Programação Orientada aos Objetos (POO) - parte IV\n",
    "Pedro Cardoso\n",
    "\n",
    "(ISE/UAlg - pcardoso@ualg.pt)"
   ]
  },
  {
   "cell_type": "markdown",
   "metadata": {
    "slideshow": {
     "slide_type": "slide"
    }
   },
   "source": [
    "### \"Métodos especiais\"\n",
    "* Métodos especiais são identificados por nomes no padrão `__metodo__()` e definem como os objetos derivados da classe se comportarão em situações particulares, como em sobrecarga de operadores.\n",
    "       \n",
    "* Métodos de objeto podem usar atributos e outros métodos do objeto. \n",
    "        \n",
    "* Os métodos (\"normais\") têm sempre uma primeira variável, por convenção `self`, que *representa o objeto*. Que ``não conta na chamada'' ao método.\n",
    "\n",
    "* Alguns métodos de classe são decorados com  `@classmethod sendo especiais pois como primeiro argumento passam uma *referência à classe*, por convenção `cls`    \n",
    "        \n",
    "* Os métodos de classe apenas podem usar atributos e outros métodos de classe.\n",
    "\n",
    "* Os métodos de classe podem funcionar como *factories*\n",
    "\n",
    "* Métodos estáticos são aqueles que não tem ligação com atributos do objeto ou da classe. Funcionam como as funções comuns."
   ]
  },
  {
   "cell_type": "markdown",
   "metadata": {
    "slideshow": {
     "slide_type": "subslide"
    }
   },
   "source": [
    "```Python\n",
    "    class Classe(supcl1, supcl2):\n",
    "        \"\"\" Isto é uma classe \"\"\"\n",
    "        clsvar = []\n",
    "\n",
    "        def __init__(self, args):\n",
    "            \"\"\"Inicializador da classe\"\"\"\n",
    "            <bloco de código>\n",
    "\n",
    "        def metodo(self, params):\n",
    "            \"\"\"Método de objeto\"\"\"\n",
    "            <bloco de código>\n",
    "\n",
    "        @classmethod\n",
    "        def cls_metodo(cls, params):\n",
    "            \"\"\"Método de classe\"\"\"\n",
    "            <bloco de código>\n",
    "\n",
    "        @staticmethod\n",
    "        def est_metodo(params):\n",
    "            \"\"\"Método estático\"\"\"\n",
    "            <bloco de código>\n",
    "```"
   ]
  },
  {
   "cell_type": "markdown",
   "metadata": {
    "slideshow": {
     "slide_type": "subslide"
    }
   },
   "source": [
    "Vejamos um exemplo"
   ]
  },
  {
   "cell_type": "code",
   "execution_count": 1,
   "metadata": {},
   "outputs": [],
   "source": [
    "class Pizza:\n",
    "    \n",
    "    # area de pizza por pessoa\n",
    "    area_por_pessoa = 750.\n",
    "    \n",
    "    def __init__(self, ingredientes):\n",
    "        self.ingredientes = ingredientes\n",
    "\n",
    "    def __repr__(self):\n",
    "        return f'Pizza({self.ingredientes})'\n",
    "\n",
    "    @classmethod\n",
    "    def margherita(cls):\n",
    "        \"\"\"devolve um objeto, instancia de Pizza, com os ingredientes \n",
    "        da Pizza margherita\"\"\"\n",
    "        return cls(['mozzarela', 'tomate'])\n",
    "\n",
    "    @classmethod\n",
    "    def prosciutto(cls):\n",
    "        \"\"\"devolve um objeto, instancia de Pizza, com os ingredientes \n",
    "        da Pizza prosciutto\"\"\"\n",
    "        return cls(['mozzarela', 'tomate', 'fiambre'])\n",
    "    \n",
    "    @staticmethod\n",
    "    def para_quantas_pessoas(raio):\n",
    "        \"\"\"metodo (estatico) que estima e devolve para quantas pessoas \n",
    "        é uma pizza, sabendo o seu raio devolve area_pizza / area_por_pessoa\n",
    "        \"\"\"\n",
    "        area_pizza = 3.14 * raio ** 2\n",
    "        return area_pizza / Pizza.area_por_pessoa\n",
    "    \n",
    "    @staticmethod\n",
    "    def qual_o_raio(numero_pessoas):\n",
    "        \"\"\"metodo (estatico) que estima o raio que a pizza deve ter dado\n",
    "            o número de pessoas devolve \n",
    "        \"\"\"\n",
    "        area_total = numero_pessoas * Pizza.area_por_pessoa \n",
    "        return (area_total / 3.14) ** .5"
   ]
  },
  {
   "cell_type": "code",
   "execution_count": 2,
   "metadata": {
    "slideshow": {
     "slide_type": "subslide"
    }
   },
   "outputs": [
    {
     "data": {
      "text/plain": [
       "Pizza(['mozzarela', 'gorgonzola', 'requeijão', 'parmesão'])"
      ]
     },
     "execution_count": 2,
     "metadata": {},
     "output_type": "execute_result"
    }
   ],
   "source": [
    "quatro_queijos = Pizza(['mozzarela', 'gorgonzola', 'requeijão', 'parmesão'])\n",
    "quatro_queijos"
   ]
  },
  {
   "cell_type": "code",
   "execution_count": 3,
   "metadata": {},
   "outputs": [
    {
     "data": {
      "text/plain": [
       "Pizza(['mozzarela', 'tomate'])"
      ]
     },
     "execution_count": 3,
     "metadata": {},
     "output_type": "execute_result"
    }
   ],
   "source": [
    "margherita = Pizza.margherita()\n",
    "margherita"
   ]
  },
  {
   "cell_type": "code",
   "execution_count": 4,
   "metadata": {},
   "outputs": [
    {
     "data": {
      "text/plain": [
       "Pizza(['mozzarela', 'tomate', 'fiambre'])"
      ]
     },
     "execution_count": 4,
     "metadata": {},
     "output_type": "execute_result"
    }
   ],
   "source": [
    "prosciutto = Pizza.prosciutto()\n",
    "prosciutto"
   ]
  },
  {
   "cell_type": "code",
   "execution_count": 5,
   "metadata": {
    "slideshow": {
     "slide_type": "subslide"
    }
   },
   "outputs": [
    {
     "data": {
      "text/plain": [
       "'uma pizza com 30cm² dá para 3.768 pessoas'"
      ]
     },
     "execution_count": 5,
     "metadata": {},
     "output_type": "execute_result"
    }
   ],
   "source": [
    "r = 30\n",
    "f'uma pizza com {r}cm² dá para {Pizza.para_quantas_pessoas(r)} pessoas'"
   ]
  },
  {
   "cell_type": "code",
   "execution_count": 6,
   "metadata": {
    "slideshow": {
     "slide_type": "subslide"
    }
   },
   "outputs": [
    {
     "data": {
      "text/plain": [
       "'para 4 pessoas deve encomendar uma pizza com 30.909772123696634 cm de raio'"
      ]
     },
     "execution_count": 6,
     "metadata": {},
     "output_type": "execute_result"
    }
   ],
   "source": [
    "p = 4\n",
    "f'para {p} pessoas deve encomendar uma pizza com {Pizza.qual_o_raio(p)} cm de raio'"
   ]
  }
 ],
 "metadata": {
  "celltoolbar": "Slideshow",
  "kernelspec": {
   "display_name": "Python 3",
   "language": "python",
   "name": "python3"
  },
  "language_info": {
   "codemirror_mode": {
    "name": "ipython",
    "version": 3
   },
   "file_extension": ".py",
   "mimetype": "text/x-python",
   "name": "python",
   "nbconvert_exporter": "python",
   "pygments_lexer": "ipython3",
   "version": "3.7.3"
  },
  "toc": {
   "base_numbering": 1,
   "nav_menu": {},
   "number_sections": true,
   "sideBar": true,
   "skip_h1_title": false,
   "title_cell": "Table of Contents",
   "title_sidebar": "Contents",
   "toc_cell": false,
   "toc_position": {},
   "toc_section_display": true,
   "toc_window_display": false
  }
 },
 "nbformat": 4,
 "nbformat_minor": 2
}
