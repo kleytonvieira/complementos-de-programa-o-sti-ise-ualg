{
 "cells": [
  {
   "cell_type": "code",
   "execution_count": null,
   "metadata": {},
   "outputs": [],
   "source": [
    "class Carro:\n",
    "    def __init__(self, cor, marca, modelo, dono, consumo, kms):\n",
    "        self.cor = cor\n",
    "        self.marca = marca\n",
    "        self.modelo = modelo\n",
    "        self.dono = dono\n",
    "        self.consumo = consumo\n",
    "        self.kms = kms\n",
    "    \n",
    "    def print_info(self):\n",
    "        print('A {} tem um {} {} que gasta {}l/100Km e tem {}kms. Logo gastou {}l desde que o comprou.'.format(\n",
    "            self.dono, self.marca, self.modelo, self.consumo, self.kms, self.kms / 100 * self.consumo))\n",
    "    "
   ]
  },
  {
   "cell_type": "code",
   "execution_count": null,
   "metadata": {},
   "outputs": [],
   "source": [
    "carro_a = Carro('Branca', 'Fiat', '500', 'Claudia', 6, 20000)\n",
    "\n",
    "carro_a.print_info()"
   ]
  },
  {
   "cell_type": "code",
   "execution_count": null,
   "metadata": {},
   "outputs": [],
   "source": []
  }
 ],
 "metadata": {
  "kernelspec": {
   "display_name": "Python 3",
   "language": "python",
   "name": "python3"
  },
  "language_info": {
   "codemirror_mode": {
    "name": "ipython",
    "version": 3
   },
   "file_extension": ".py",
   "mimetype": "text/x-python",
   "name": "python",
   "nbconvert_exporter": "python",
   "pygments_lexer": "ipython3",
   "version": "3.7.3"
  },
  "toc": {
   "base_numbering": 1,
   "nav_menu": {},
   "number_sections": true,
   "sideBar": true,
   "skip_h1_title": false,
   "title_cell": "Table of Contents",
   "title_sidebar": "Contents",
   "toc_cell": false,
   "toc_position": {},
   "toc_section_display": true,
   "toc_window_display": false
  }
 },
 "nbformat": 4,
 "nbformat_minor": 2
}
