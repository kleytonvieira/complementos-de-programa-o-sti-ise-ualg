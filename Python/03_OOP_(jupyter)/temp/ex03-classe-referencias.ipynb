{
 "cells": [
  {
   "cell_type": "code",
   "execution_count": 1,
   "metadata": {},
   "outputs": [],
   "source": [
    "class Carro:\n",
    "    def __init__(self, cor, marca, modelo, dono, consumo, kms):\n",
    "        self.cor = cor\n",
    "        self.marca = marca\n",
    "        self.modelo = modelo\n",
    "        self.dono = dono\n",
    "        self.consumo = consumo\n",
    "        self.kms = kms\n",
    "    \n",
    "def print_info(carro):\n",
    "    print('A {} tem um {} {} que gasta {}l/100Km e tem {}kms. Logo gastou {}l desde que o comprou.'.format(\n",
    "        carro.dono, carro.marca, carro.modelo, carro.consumo, carro.kms, carro.kms / 100 * carro.consumo))"
   ]
  },
  {
   "cell_type": "code",
   "execution_count": 3,
   "metadata": {},
   "outputs": [
    {
     "name": "stdout",
     "output_type": "stream",
     "text": [
      "<__main__.Carro object at 0x7f79a877d710>\n",
      "<__main__.Carro object at 0x7f79a877d710>\n"
     ]
    }
   ],
   "source": [
    "carro_a = Carro('Branca', 'Fiat', '500', 'Claudia', 6, 20000)\n",
    "carro_b = carro_a\n",
    "\n",
    "print(carro_b)\n",
    "print(carro_b)"
   ]
  },
  {
   "cell_type": "code",
   "execution_count": 4,
   "metadata": {},
   "outputs": [
    {
     "data": {
      "text/plain": [
       "True"
      ]
     },
     "execution_count": 4,
     "metadata": {},
     "output_type": "execute_result"
    }
   ],
   "source": [
    "id(carro_a) == id(carro_b)"
   ]
  },
  {
   "cell_type": "code",
   "execution_count": 5,
   "metadata": {},
   "outputs": [],
   "source": [
    "carro_a.marca = 'Seat'\n",
    "carro_a.modelo = 'Ibiza'\n",
    "carro_a.dono = 'Margarida'\n",
    "carro_a.consumo = 6.1\n",
    "carro_a.kms = 12000"
   ]
  },
  {
   "cell_type": "code",
   "execution_count": 7,
   "metadata": {},
   "outputs": [
    {
     "name": "stdout",
     "output_type": "stream",
     "text": [
      "A Margarida tem um Seat Ibiza que gasta 6.1l/100Km e tem 12000kms. Logo gastou 732.0l desde que o comprou.\n",
      "A Margarida tem um Seat Ibiza que gasta 6.1l/100Km e tem 12000kms. Logo gastou 732.0l desde que o comprou.\n"
     ]
    }
   ],
   "source": [
    "print_info(carro_a)\n",
    "print_info(carro_b)   # carro_b!? "
   ]
  },
  {
   "cell_type": "code",
   "execution_count": null,
   "metadata": {},
   "outputs": [],
   "source": []
  }
 ],
 "metadata": {
  "kernelspec": {
   "display_name": "Python 3",
   "language": "python",
   "name": "python3"
  },
  "language_info": {
   "codemirror_mode": {
    "name": "ipython",
    "version": 3
   },
   "file_extension": ".py",
   "mimetype": "text/x-python",
   "name": "python",
   "nbconvert_exporter": "python",
   "pygments_lexer": "ipython3",
   "version": "3.7.3"
  },
  "toc": {
   "base_numbering": 1,
   "nav_menu": {},
   "number_sections": true,
   "sideBar": true,
   "skip_h1_title": false,
   "title_cell": "Table of Contents",
   "title_sidebar": "Contents",
   "toc_cell": false,
   "toc_position": {},
   "toc_section_display": true,
   "toc_window_display": false
  }
 },
 "nbformat": 4,
 "nbformat_minor": 2
}
