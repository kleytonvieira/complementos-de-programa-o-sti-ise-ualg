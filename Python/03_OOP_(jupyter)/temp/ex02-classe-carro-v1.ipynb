{
 "cells": [
  {
   "cell_type": "code",
   "execution_count": 1,
   "metadata": {},
   "outputs": [],
   "source": [
    "class Carro:\n",
    "    def __init__(self, cor, marca, modelo, dono, consumo, kms):\n",
    "        self.cor = cor\n",
    "        self.marca = marca\n",
    "        self.modelo = modelo\n",
    "        self.dono = dono\n",
    "        self.consumo = consumo\n",
    "        self.kms = kms"
   ]
  },
  {
   "cell_type": "code",
   "execution_count": 3,
   "metadata": {},
   "outputs": [
    {
     "name": "stdout",
     "output_type": "stream",
     "text": [
      "<__main__.Carro object at 0x7f5bb7537e48>\n"
     ]
    }
   ],
   "source": [
    "carro_1 = Carro('Branca', 'Fiat', '500', 'Claudia', 6, 20000)\n",
    "print(carro_1)"
   ]
  },
  {
   "cell_type": "code",
   "execution_count": 4,
   "metadata": {},
   "outputs": [],
   "source": [
    "carro_2 = Carro('Vermelha', 'Seat', 'Ibiza', 'Margarida', 5.4, 12000)"
   ]
  },
  {
   "cell_type": "code",
   "execution_count": 5,
   "metadata": {},
   "outputs": [
    {
     "name": "stdout",
     "output_type": "stream",
     "text": [
      "A Claudia tem um Fiat 500 de cor Branca que gasta 6l/100Km e tem 20000kms. Logo gastou 1200.0l desde que o comprou.\n",
      "A Margarida tem um Seat Ibiza de cor Vermelha que gasta 5.4l/100Km e tem 12000kms. Logo gastou 648.0l desde que o comprou.\n"
     ]
    }
   ],
   "source": [
    "def print_info(carro):\n",
    "    print('A {} tem um {} {} de cor {} que gasta {}l/100Km e tem {}kms. Logo gastou {}l desde que o comprou.'.format(\n",
    "        carro.dono, carro.marca, carro.modelo, carro.cor, carro.consumo, carro.kms, carro.kms / 100 * carro.consumo))\n",
    "    \n",
    "print_info(carro_1)\n",
    "print_info(carro_2)"
   ]
  },
  {
   "cell_type": "code",
   "execution_count": null,
   "metadata": {},
   "outputs": [],
   "source": []
  }
 ],
 "metadata": {
  "kernelspec": {
   "display_name": "Python 3",
   "language": "python",
   "name": "python3"
  },
  "language_info": {
   "codemirror_mode": {
    "name": "ipython",
    "version": 3
   },
   "file_extension": ".py",
   "mimetype": "text/x-python",
   "name": "python",
   "nbconvert_exporter": "python",
   "pygments_lexer": "ipython3",
   "version": "3.7.3"
  },
  "toc": {
   "base_numbering": 1,
   "nav_menu": {},
   "number_sections": true,
   "sideBar": true,
   "skip_h1_title": false,
   "title_cell": "Table of Contents",
   "title_sidebar": "Contents",
   "toc_cell": false,
   "toc_position": {},
   "toc_section_display": true,
   "toc_window_display": false
  }
 },
 "nbformat": 4,
 "nbformat_minor": 2
}
