{
 "cells": [
  {
   "cell_type": "markdown",
   "metadata": {
    "slideshow": {
     "slide_type": "slide"
    }
   },
   "source": [
    "# Programação Orientada aos Objetos (POO) - parte II\n",
    "Pedro Cardoso\n",
    "\n",
    "(ISE/UAlg - pcardoso@ualg.pt)"
   ]
  },
  {
   "cell_type": "markdown",
   "metadata": {
    "slideshow": {
     "slide_type": "slide"
    },
    "solution": "hidden"
   },
   "source": [
    "## Encapsulamento\n",
    "* Em Python NÃO existem variáveis e métodos protegidos ou privados  \n",
    " \n",
    "* Para os atributos/métodos \"protegidos\" é usada uma convenção: nomes que comecem com _underscore_ (\"_\")\n",
    "\n",
    "* Para os atributos/métodos \"privados\" faz-se o *Name Mangling* que aos nomes que iniciam com dois _underscore_ acrescenta no início um _underscore_ e o nome da classe.\n",
    "        "
   ]
  },
  {
   "cell_type": "code",
   "execution_count": 1,
   "metadata": {
    "ExecuteTime": {
     "end_time": "2019-10-31T09:02:53.048212Z",
     "start_time": "2019-10-31T09:02:52.936325Z"
    },
    "slideshow": {
     "slide_type": "subslide"
    }
   },
   "outputs": [],
   "source": [
    "class Carro:\n",
    "    def __init__(self, cor, marca, modelo, dono, consumo, kms):\n",
    "        self._cor = cor           # atributo protegido... nao devemos aceder diretamente ao atributo \n",
    "        self._marca = marca       # idem ...\n",
    "        self._modelo = modelo\n",
    "        self._dono = dono\n",
    "        self._consumo = consumo\n",
    "        self._kms = kms\n",
    "\n",
    "    def __repr__(self):\n",
    "        return 'A {} tem um {} {} de cor {} que gasta {}l/100Km e tem {}kms. Logo gastou {}l desde que o comprou.'.format(\n",
    "            self._dono, self._marca, self._modelo, self._cor, self._consumo, self._kms, self._kms / 100 * self._consumo)\n",
    "\n",
    "    def __metodo_quase_privado(self):\n",
    "        return 'Nao e facil chegar aqui!'\n",
    "\n",
    "    def print_info(self):\n",
    "        print('A {} tem um {} {} que gasta {}l/100Km e tem {}kms. Logo gastou {}l desde que o comprou.'.format(\n",
    "            self._dono, self._marca, self._modelo, self._cor, self._consumo, self._kms, self._kms / 100 * self._consumo))"
   ]
  },
  {
   "cell_type": "markdown",
   "metadata": {
    "slideshow": {
     "slide_type": "subslide"
    }
   },
   "source": [
    "Vejamos quais são os métodos que `Carro` tem "
   ]
  },
  {
   "cell_type": "code",
   "execution_count": 2,
   "metadata": {
    "ExecuteTime": {
     "end_time": "2019-10-31T09:02:53.112143Z",
     "start_time": "2019-10-31T09:02:53.049194Z"
    }
   },
   "outputs": [
    {
     "data": {
      "text/plain": [
       "['_Carro__metodo_quase_privado',\n",
       " '__class__',\n",
       " '__delattr__',\n",
       " '__dict__',\n",
       " '__dir__',\n",
       " '__doc__',\n",
       " '__eq__',\n",
       " '__format__',\n",
       " '__ge__',\n",
       " '__getattribute__',\n",
       " '__gt__',\n",
       " '__hash__',\n",
       " '__init__',\n",
       " '__init_subclass__',\n",
       " '__le__',\n",
       " '__lt__',\n",
       " '__module__',\n",
       " '__ne__',\n",
       " '__new__',\n",
       " '__reduce__',\n",
       " '__reduce_ex__',\n",
       " '__repr__',\n",
       " '__setattr__',\n",
       " '__sizeof__',\n",
       " '__str__',\n",
       " '__subclasshook__',\n",
       " '__weakref__',\n",
       " 'print_info']"
      ]
     },
     "execution_count": 2,
     "metadata": {},
     "output_type": "execute_result"
    }
   ],
   "source": [
    "dir(Carro)  # repare on _Carro__metodo_quase_privado'"
   ]
  },
  {
   "cell_type": "markdown",
   "metadata": {
    "slideshow": {
     "slide_type": "subslide"
    }
   },
   "source": [
    "Podemos aceder a todos os atributos e métodos (\"privados\" ou \"protegidos\") mas devemos ter cuidado. A ideia é que \"somos todos adultos\" "
   ]
  },
  {
   "cell_type": "code",
   "execution_count": 3,
   "metadata": {
    "ExecuteTime": {
     "end_time": "2019-10-31T09:02:53.201049Z",
     "start_time": "2019-10-31T09:02:53.113130Z"
    }
   },
   "outputs": [
    {
     "name": "stdout",
     "output_type": "stream",
     "text": [
      "A Claudia tem um Fiat 500 de cor vermelha que gasta 6l/100Km e tem 20000kms. Logo gastou 1200.0l desde que o comprou.\n"
     ]
    }
   ],
   "source": [
    "carro_a = Carro('vermelha', 'Fiat', '500', 'Claudia', 6, 20000)\n",
    "\n",
    "print(carro_a) # o \"mesmo que\" print(carro_a.__repr__())"
   ]
  },
  {
   "cell_type": "code",
   "execution_count": 4,
   "metadata": {
    "ExecuteTime": {
     "end_time": "2019-10-31T09:02:53.289949Z",
     "start_time": "2019-10-31T09:02:53.202048Z"
    }
   },
   "outputs": [
    {
     "name": "stdout",
     "output_type": "stream",
     "text": [
      "A Claudia tem um Fiat 500 que gasta vermelhal/100Km e tem 6kms. Logo gastou 20000l desde que o comprou.\n"
     ]
    }
   ],
   "source": [
    "carro_a.print_info()"
   ]
  },
  {
   "cell_type": "markdown",
   "metadata": {
    "slideshow": {
     "slide_type": "subslide"
    }
   },
   "source": [
    "Não deviamos aceder a um atributo \"protegido\""
   ]
  },
  {
   "cell_type": "code",
   "execution_count": 5,
   "metadata": {
    "ExecuteTime": {
     "end_time": "2019-10-31T09:02:53.336901Z",
     "start_time": "2019-10-31T09:02:53.290949Z"
    }
   },
   "outputs": [
    {
     "data": {
      "text/plain": [
       "'vermelha'"
      ]
     },
     "execution_count": 5,
     "metadata": {},
     "output_type": "execute_result"
    }
   ],
   "source": [
    "carro_a._cor"
   ]
  },
  {
   "cell_type": "markdown",
   "metadata": {
    "slideshow": {
     "slide_type": "subslide"
    }
   },
   "source": [
    "E muito menos aceder a algo \"privado\""
   ]
  },
  {
   "cell_type": "code",
   "execution_count": 6,
   "metadata": {
    "ExecuteTime": {
     "end_time": "2019-10-31T09:02:53.427027Z",
     "start_time": "2019-10-31T09:02:53.337899Z"
    }
   },
   "outputs": [
    {
     "data": {
      "text/plain": [
       "'Nao e facil chegar aqui!'"
      ]
     },
     "execution_count": 6,
     "metadata": {},
     "output_type": "execute_result"
    }
   ],
   "source": [
    "# carro_a.__metodo_quase_privado() não existe\n",
    "carro_a._Carro__metodo_quase_privado()"
   ]
  },
  {
   "cell_type": "markdown",
   "metadata": {
    "slideshow": {
     "slide_type": "slide"
    }
   },
   "source": [
    "### getter e setters\n",
    "para aceder às variáveis \"protegidas\"/\"privadas\" usam-se pois, por norma, getters e setters. E em python temos ainda *properties*"
   ]
  },
  {
   "cell_type": "code",
   "execution_count": 7,
   "metadata": {
    "ExecuteTime": {
     "end_time": "2019-10-31T09:02:53.490024Z",
     "start_time": "2019-10-31T09:02:53.428028Z"
    },
    "slideshow": {
     "slide_type": "subslide"
    }
   },
   "outputs": [],
   "source": [
    "class Carro:\n",
    "\n",
    "    def __init__(self, cor, marca):\n",
    "        self.cor = cor  # chama a propriedade (valida dados). E guarda o valor em self.__cor\n",
    "        self.marca = marca # chama a propriedade (valida dados).E guarda o valor em self.__marca\n",
    "\n",
    "    def get_cor(self):\n",
    "        \"\"\"devolve o valor de __cor\"\"\"\n",
    "        return self.__cor\n",
    "\n",
    "    def set_cor(self, cor):\n",
    "        \"\"\"define o valor de __cor. \n",
    "        \n",
    "         Parameters\n",
    "        ----------\n",
    "        param1 : valores admissiveis ['vermelha', 'branca', 'amarela']\n",
    "            valor da cor\n",
    "        \"\"\"\n",
    "        if cor.lower() in ['vermelha', 'branca', 'amarela']:\n",
    "            self.__cor = cor\n",
    "        else:\n",
    "            raise\n",
    "\n",
    "    def get_marca(self):\n",
    "        \"\"\"devolve o valor de __cor\"\"\"\n",
    "        return self.__marca\n",
    "\n",
    "    def set_marca(self, marca):\n",
    "        \"\"\"define o valor de __marca\n",
    "        \n",
    "         Parameters\n",
    "        ----------\n",
    "        param1 : valores admissiveis ['audi', 'fiat', 'seat', 'ferrari']\n",
    "            valor da marca\n",
    "        \"\"\"        \n",
    "        if marca.lower() in ['audi', 'fiat', 'seat', 'ferrari']:\n",
    "            self.__marca = marca\n",
    "        else:\n",
    "            raise\n",
    "\n",
    "    cor = property(get_cor, set_cor)\n",
    "    marca = property(get_marca, set_marca)"
   ]
  },
  {
   "cell_type": "markdown",
   "metadata": {
    "slideshow": {
     "slide_type": "subslide"
    }
   },
   "source": [
    "instanciamos a classe"
   ]
  },
  {
   "cell_type": "code",
   "execution_count": 8,
   "metadata": {
    "ExecuteTime": {
     "end_time": "2019-10-31T09:02:53.579455Z",
     "start_time": "2019-10-31T09:02:53.491007Z"
    }
   },
   "outputs": [],
   "source": [
    "c1 = Carro('vermelha', 'Fiat')"
   ]
  },
  {
   "cell_type": "markdown",
   "metadata": {},
   "source": [
    "para redefenir a cor podemos usar a _property_ ou aceder diretamente ao setter"
   ]
  },
  {
   "cell_type": "code",
   "execution_count": 9,
   "metadata": {
    "ExecuteTime": {
     "end_time": "2019-10-31T09:02:53.661652Z",
     "start_time": "2019-10-31T09:02:53.580470Z"
    },
    "slideshow": {
     "slide_type": "subslide"
    }
   },
   "outputs": [],
   "source": [
    "c1.cor = 'branca' # ok!\n",
    "c1.set_cor('branca') # ok!"
   ]
  },
  {
   "cell_type": "markdown",
   "metadata": {},
   "source": [
    "do mesmo modo podemos aceder ao valor da cor"
   ]
  },
  {
   "cell_type": "code",
   "execution_count": 10,
   "metadata": {
    "ExecuteTime": {
     "end_time": "2019-10-31T09:02:53.761764Z",
     "start_time": "2019-10-31T09:02:53.664649Z"
    }
   },
   "outputs": [
    {
     "data": {
      "text/plain": [
       "'branca'"
      ]
     },
     "execution_count": 10,
     "metadata": {},
     "output_type": "execute_result"
    }
   ],
   "source": [
    "c1.cor"
   ]
  },
  {
   "cell_type": "markdown",
   "metadata": {
    "slideshow": {
     "slide_type": "subslide"
    }
   },
   "source": [
    "ao usar o setter (a _property_ ) podemos validar as entradas"
   ]
  },
  {
   "cell_type": "code",
   "execution_count": 11,
   "metadata": {
    "ExecuteTime": {
     "end_time": "2019-10-31T09:02:53.844772Z",
     "start_time": "2019-10-31T09:02:53.763762Z"
    }
   },
   "outputs": [
    {
     "name": "stdout",
     "output_type": "stream",
     "text": [
      "Erro: essa cor nao existe\n"
     ]
    }
   ],
   "source": [
    "try:\n",
    "    c1.cor = 'verde'\n",
    "except:\n",
    "    print('Erro: essa cor nao existe')\n"
   ]
  },
  {
   "cell_type": "markdown",
   "metadata": {
    "slideshow": {
     "slide_type": "subslide"
    }
   },
   "source": [
    "e obviamente podemos fazer igual raciocinio para a marca"
   ]
  },
  {
   "cell_type": "code",
   "execution_count": 12,
   "metadata": {
    "ExecuteTime": {
     "end_time": "2019-10-31T09:02:53.914756Z",
     "start_time": "2019-10-31T09:02:53.845769Z"
    }
   },
   "outputs": [],
   "source": [
    "c1.marca = 'Seat'  # ok!"
   ]
  },
  {
   "cell_type": "code",
   "execution_count": 13,
   "metadata": {
    "ExecuteTime": {
     "end_time": "2019-10-31T09:02:54.003715Z",
     "start_time": "2019-10-31T09:02:53.915740Z"
    }
   },
   "outputs": [
    {
     "name": "stdout",
     "output_type": "stream",
     "text": [
      "Erro: essa marca nao existe\n"
     ]
    }
   ],
   "source": [
    "try:\n",
    "    c1.marca = 'Ferrary'\n",
    "except:\n",
    "    print('Erro: essa marca nao existe')"
   ]
  },
  {
   "cell_type": "markdown",
   "metadata": {
    "slideshow": {
     "slide_type": "slide"
    },
    "solution": "hidden",
    "solution_first": true
   },
   "source": [
    "###### Exercícios\n",
    "Reimplemente a classe Carro encampsulando as variáveis da mesma\n",
    "```Python\n",
    "class Carro:\n",
    "    def __init__(self, cor, marca, modelo, dono, consumo, kms):\n",
    "        self.cor = cor\n",
    "        self.marca = marca\n",
    "        self.modelo = modelo\n",
    "        self.dono = dono\n",
    "        self.consumo = consumo\n",
    "        self.kms = kms\n",
    "    \n",
    "    def print_info(self):\n",
    "        print('A {} tem um {} {} que gasta {}l/100Km e tem {}kms.'.format(\n",
    "            self.dono, self.marca, self.modelo, self.consumo, self.kms))\n",
    "```\n"
   ]
  },
  {
   "cell_type": "markdown",
   "metadata": {},
   "source": [
    "## Solução mais _Pythoniana_\n",
    "\n",
    "Uma solução mais Pythoniana usa decoradores\n"
   ]
  },
  {
   "cell_type": "code",
   "execution_count": 24,
   "metadata": {
    "ExecuteTime": {
     "end_time": "2019-11-20T16:46:25.379340Z",
     "start_time": "2019-11-20T16:46:25.371360Z"
    }
   },
   "outputs": [],
   "source": [
    "\n",
    "class Carro:\n",
    "\n",
    "    def __init__(self, cor, marca):\n",
    "        self.cor = cor  # chama a propriedade (valida dados). E guarda o valor em self.__cor\n",
    "        self.marca = marca # chama a propriedade (valida dados).E guarda o valor em self.__marca\n",
    "    \n",
    "    @property\n",
    "    def cor(self):\n",
    "        return self.__cor\n",
    "\n",
    "    @cor.setter\n",
    "    def cor(self, cor):\n",
    "        print('debug: setting a cor')\n",
    "        if cor.lower() in ['vermelha', 'branca', 'amarela']:\n",
    "            self.__cor = cor\n",
    "        else:\n",
    "            raise\n",
    "            \n",
    "    @cor.deleter\n",
    "    def cor(self):\n",
    "        print('debug: a colocar a cor a None')\n",
    "        self.__cor = None\n",
    "    \n",
    "    @property\n",
    "    def marca(self):\n",
    "        return self.__marca\n",
    "    \n",
    "    @marca.setter\n",
    "    def marca(self, marca):\n",
    "        print('debug: setting a marca')\n",
    "        if marca.lower() in ['audi', 'fiat', 'seat', 'ferrari']:\n",
    "            self.__marca = marca\n",
    "        else:\n",
    "            raise"
   ]
  },
  {
   "cell_type": "code",
   "execution_count": 25,
   "metadata": {
    "ExecuteTime": {
     "end_time": "2019-11-20T16:46:25.766204Z",
     "start_time": "2019-11-20T16:46:25.762208Z"
    }
   },
   "outputs": [
    {
     "name": "stdout",
     "output_type": "stream",
     "text": [
      "debug: setting a cor\n",
      "debug: setting a marca\n"
     ]
    }
   ],
   "source": [
    "c = Carro('vermelha', 'fiat')"
   ]
  },
  {
   "cell_type": "code",
   "execution_count": 26,
   "metadata": {
    "ExecuteTime": {
     "end_time": "2019-11-20T16:46:26.142246Z",
     "start_time": "2019-11-20T16:46:26.139251Z"
    }
   },
   "outputs": [
    {
     "name": "stdout",
     "output_type": "stream",
     "text": [
      "debug: setting a cor\n"
     ]
    }
   ],
   "source": [
    "c.cor='branca'"
   ]
  },
  {
   "cell_type": "raw",
   "metadata": {},
   "source": [
    "c.cor"
   ]
  },
  {
   "cell_type": "code",
   "execution_count": 27,
   "metadata": {
    "ExecuteTime": {
     "end_time": "2019-11-20T16:46:26.478923Z",
     "start_time": "2019-11-20T16:46:26.474927Z"
    }
   },
   "outputs": [
    {
     "name": "stdout",
     "output_type": "stream",
     "text": [
      "branca\n"
     ]
    }
   ],
   "source": [
    "print(c.cor)"
   ]
  },
  {
   "cell_type": "code",
   "execution_count": 28,
   "metadata": {
    "ExecuteTime": {
     "end_time": "2019-11-20T16:46:26.663010Z",
     "start_time": "2019-11-20T16:46:26.651022Z"
    }
   },
   "outputs": [
    {
     "name": "stdout",
     "output_type": "stream",
     "text": [
      "debug: setting a cor\n"
     ]
    },
    {
     "ename": "RuntimeError",
     "evalue": "No active exception to reraise",
     "output_type": "error",
     "traceback": [
      "\u001b[1;31m---------------------------------------------------------------------------\u001b[0m",
      "\u001b[1;31mRuntimeError\u001b[0m                              Traceback (most recent call last)",
      "\u001b[1;32m<ipython-input-28-2b67e6cb589c>\u001b[0m in \u001b[0;36m<module>\u001b[1;34m\u001b[0m\n\u001b[1;32m----> 1\u001b[1;33m \u001b[0mc\u001b[0m\u001b[1;33m.\u001b[0m\u001b[0mcor\u001b[0m \u001b[1;33m=\u001b[0m \u001b[1;34m'verde'\u001b[0m\u001b[1;33m\u001b[0m\u001b[1;33m\u001b[0m\u001b[0m\n\u001b[0m",
      "\u001b[1;32m<ipython-input-24-3a9f5b3ab34c>\u001b[0m in \u001b[0;36mcor\u001b[1;34m(self, cor)\u001b[0m\n\u001b[0;32m     16\u001b[0m             \u001b[0mself\u001b[0m\u001b[1;33m.\u001b[0m\u001b[0m__cor\u001b[0m \u001b[1;33m=\u001b[0m \u001b[0mcor\u001b[0m\u001b[1;33m\u001b[0m\u001b[1;33m\u001b[0m\u001b[0m\n\u001b[0;32m     17\u001b[0m         \u001b[1;32melse\u001b[0m\u001b[1;33m:\u001b[0m\u001b[1;33m\u001b[0m\u001b[1;33m\u001b[0m\u001b[0m\n\u001b[1;32m---> 18\u001b[1;33m             \u001b[1;32mraise\u001b[0m\u001b[1;33m\u001b[0m\u001b[1;33m\u001b[0m\u001b[0m\n\u001b[0m\u001b[0;32m     19\u001b[0m \u001b[1;33m\u001b[0m\u001b[0m\n\u001b[0;32m     20\u001b[0m     \u001b[1;33m@\u001b[0m\u001b[0mcor\u001b[0m\u001b[1;33m.\u001b[0m\u001b[0mdeleter\u001b[0m\u001b[1;33m\u001b[0m\u001b[1;33m\u001b[0m\u001b[0m\n",
      "\u001b[1;31mRuntimeError\u001b[0m: No active exception to reraise"
     ]
    }
   ],
   "source": [
    "c.cor = 'verde'"
   ]
  },
  {
   "cell_type": "code",
   "execution_count": 29,
   "metadata": {
    "ExecuteTime": {
     "end_time": "2019-11-20T16:46:27.055570Z",
     "start_time": "2019-11-20T16:46:27.050576Z"
    }
   },
   "outputs": [
    {
     "name": "stdout",
     "output_type": "stream",
     "text": [
      "debug: a colocar a cor a None\n"
     ]
    }
   ],
   "source": [
    "del(c.cor)"
   ]
  },
  {
   "cell_type": "code",
   "execution_count": 30,
   "metadata": {
    "ExecuteTime": {
     "end_time": "2019-11-20T16:46:27.693719Z",
     "start_time": "2019-11-20T16:46:27.690735Z"
    }
   },
   "outputs": [
    {
     "name": "stdout",
     "output_type": "stream",
     "text": [
      "None\n"
     ]
    }
   ],
   "source": [
    "print(c.cor)"
   ]
  },
  {
   "cell_type": "code",
   "execution_count": null,
   "metadata": {},
   "outputs": [],
   "source": []
  }
 ],
 "metadata": {
  "celltoolbar": "Slideshow",
  "kernelspec": {
   "display_name": "Python 3",
   "language": "python",
   "name": "python3"
  },
  "language_info": {
   "codemirror_mode": {
    "name": "ipython",
    "version": 3
   },
   "file_extension": ".py",
   "mimetype": "text/x-python",
   "name": "python",
   "nbconvert_exporter": "python",
   "pygments_lexer": "ipython3",
   "version": "3.7.3"
  },
  "toc": {
   "base_numbering": 1,
   "nav_menu": {},
   "number_sections": true,
   "sideBar": true,
   "skip_h1_title": false,
   "title_cell": "Table of Contents",
   "title_sidebar": "Contents",
   "toc_cell": false,
   "toc_position": {},
   "toc_section_display": true,
   "toc_window_display": false
  }
 },
 "nbformat": 4,
 "nbformat_minor": 2
}
