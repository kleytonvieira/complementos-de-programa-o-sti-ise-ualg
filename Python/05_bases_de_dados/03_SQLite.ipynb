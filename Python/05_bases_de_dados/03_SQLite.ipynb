{
 "cells": [
  {
   "cell_type": "markdown",
   "metadata": {},
   "source": [
    "# Acesso a bases de dados SQLite com Python  \n",
    "Pedro Cardoso\n",
    "\n",
    "(ISE/UAlg - pcardoso@ualg.pt)"
   ]
  },
  {
   "cell_type": "markdown",
   "metadata": {},
   "source": [
    "## Pre-requisitos"
   ]
  },
  {
   "cell_type": "markdown",
   "metadata": {},
   "source": [
    "### Conectores instalados\n",
    "Verificar que todos os módulos necessários estão instalados, nomeadamente, pode de ter de instalar o `sqlite3` [ https://docs.python.org/2/library/sqlite3.html ]\n",
    "\n",
    "(Dependendo do seu sistema poderá ter de substituir pip3 por pip, pip3.7, pip3.8, ...)"
   ]
  },
  {
   "cell_type": "code",
   "execution_count": null,
   "metadata": {
    "scrolled": true
   },
   "outputs": [],
   "source": [
    "!pip3 install pysqlite3"
   ]
  },
  {
   "cell_type": "markdown",
   "metadata": {},
   "source": [
    "## Estabelecimento de conexão à base de dados usando um Connector/Python"
   ]
  },
  {
   "cell_type": "markdown",
   "metadata": {},
   "source": [
    "Criar a conexão usando o método `connect`, que tem como parâmetro o caminho para o ficheiro que contém a base de dados "
   ]
  },
  {
   "cell_type": "code",
   "execution_count": null,
   "metadata": {},
   "outputs": [],
   "source": [
    "import sqlite3\n",
    "\n",
    "# se não existir a base de dados (ficheiro) exemplo.db será criada \n",
    "conn = sqlite3.connect('exemplo.db')\n",
    "\n",
    "conn.close()"
   ]
  },
  {
   "cell_type": "markdown",
   "metadata": {},
   "source": [
    "## Criação de uma base de dados\n",
    "\n",
    "Para a criação das tabelas e relacionamentos podemos construiro o sql ou, como alternativa, podemos usar ferramentas como sejam o MySQL Workbench, o Phpmyadmin, o SQlite Browser, o DataGrip, etc. \n",
    "\n",
    "\n",
    "Consideremos o caso em que contruímos o sql..."
   ]
  },
  {
   "cell_type": "code",
   "execution_count": null,
   "metadata": {},
   "outputs": [],
   "source": [
    "sql = '''\n",
    "create table Location\n",
    "(\n",
    "    idLocation integer\n",
    "        constraint Location_pk\n",
    "            primary key autoincrement,\n",
    "    name TEXT not null,\n",
    "    description text not null\n",
    ");\n",
    "\n",
    "\n",
    "create table Unit\n",
    "(\n",
    "    unit text\n",
    "        constraint Unit_pk\n",
    "            primary key,\n",
    "    description text not null\n",
    ");\n",
    "\n",
    "create table Sensor\n",
    "(\n",
    "    idSensor integer\n",
    "        constraint Sensor_pk\n",
    "            primary key autoincrement,\n",
    "    idLocation integer not null\n",
    "        constraint Sensor_Location_idLocation_fk\n",
    "            references Location\n",
    "                on update cascade on delete cascade,\n",
    "    name text not null,\n",
    "    unit text not null\n",
    "        constraint Sensor_Unit_unit_fk\n",
    "            references Unit\n",
    "                on update cascade on delete cascade\n",
    ");\n",
    "\n",
    "create table Reading\n",
    "(\n",
    "    idReading integer\n",
    "        constraint Reading_pk\n",
    "            primary key autoincrement,\n",
    "    idSensor integer\n",
    "        constraint Reading_Sensor_idSensor_fk\n",
    "            references Sensor\n",
    "                on update cascade on delete cascade,\n",
    "    timestamp datetime default CURRENT_TIMESTAMP,\n",
    "    value real not null\n",
    ");\n",
    "\n",
    "\n",
    "create table Alert\n",
    "(\n",
    "    idAlert integer\n",
    "        constraint Alert_pk\n",
    "            primary key autoincrement,\n",
    "    idSensor integer\n",
    "        constraint Alert_Sensor_idSensor_fk\n",
    "            references Sensor\n",
    "                on update cascade on delete cascade,\n",
    "    description text not null,\n",
    "    cleared integer\n",
    "\n",
    ")\n",
    "'''"
   ]
  },
  {
   "cell_type": "code",
   "execution_count": null,
   "metadata": {},
   "outputs": [],
   "source": [
    "conn = sqlite3.connect('sensors.db')\n",
    "\n",
    "cursor = conn.cursor()\n",
    "\n",
    "# executescript is a nonstandard convenience method for executing multiple SQL statements at once. \n",
    "cursor.executescript(sql)\n",
    "\n",
    "cursor.close()\n",
    "conn.close()"
   ]
  },
  {
   "cell_type": "markdown",
   "metadata": {},
   "source": [
    "## Operações CRUD"
   ]
  },
  {
   "cell_type": "markdown",
   "metadata": {
    "ExecuteTime": {
     "end_time": "2019-11-22T13:08:49.724122Z",
     "start_time": "2019-11-22T13:08:49.719128Z"
    }
   },
   "source": [
    "### `INSERT` \n",
    "\n",
    "Aberta a conexão em sqlite"
   ]
  },
  {
   "cell_type": "code",
   "execution_count": null,
   "metadata": {},
   "outputs": [],
   "source": [
    "cnx = sqlite3.connect('sensors.db')\n",
    "cursor = cnx.cursor()"
   ]
  },
  {
   "cell_type": "markdown",
   "metadata": {},
   "source": [
    "inserir uma nova localização na base de dados e obter o id correspondente"
   ]
  },
  {
   "cell_type": "code",
   "execution_count": null,
   "metadata": {
    "ExecuteTime": {
     "end_time": "2019-11-22T13:08:53.719172Z",
     "start_time": "2019-11-22T13:08:53.703188Z"
    }
   },
   "outputs": [],
   "source": [
    "# prepare the sql query for the new location\n",
    "sql = '''\n",
    "INSERT INTO location \n",
    "    (name, description) \n",
    "VALUES \n",
    "    (?, ?)\n",
    "'''\n",
    "\n",
    "data = ('Prometheus Server', 'Prometheus Server @ lab. 163 / ISE /UAlg')\n",
    "\n",
    "#execute the sql query and get the new location id\n",
    "cursor.execute(sql, data)\n",
    "\n",
    "location_id = cursor.lastrowid\n",
    "location_id"
   ]
  },
  {
   "cell_type": "markdown",
   "metadata": {},
   "source": [
    "Quando estamos a usar um sistema transacional, temos de efetuar o `commit` depois de fazer um `INSERT`, `DELETE`, ou `UPDATE`.\n",
    "\n",
    "Note-se que:\n",
    "- o `commit` confirma a transação atual. Se não se chamar, tudo o que fez desde a última chamada do `commit()` não será visível às outras conexões.\n",
    "- quando a BD é acedida por várias conexões e um dos processos modifica-a, a BD SQLite fica bloqueada até que a transação seja confirmada (_commited_).\n",
    "- podemos desfazer as alterações desde o último `commit` chamando o método `rollback()`"
   ]
  },
  {
   "cell_type": "code",
   "execution_count": null,
   "metadata": {
    "ExecuteTime": {
     "end_time": "2019-11-22T13:34:21.363514Z",
     "start_time": "2019-11-22T13:34:21.360517Z"
    }
   },
   "outputs": [],
   "source": [
    "cnx.commit()"
   ]
  },
  {
   "cell_type": "markdown",
   "metadata": {},
   "source": [
    "Inserir uma nova `Unit`"
   ]
  },
  {
   "cell_type": "code",
   "execution_count": null,
   "metadata": {
    "ExecuteTime": {
     "end_time": "2019-11-22T13:34:30.229473Z",
     "start_time": "2019-11-22T13:34:30.137267Z"
    }
   },
   "outputs": [],
   "source": [
    "sql = '''\n",
    "INSERT INTO Unit \n",
    "    (unit, description) \n",
    "VALUES \n",
    "    (\"percent\", \"percentage of usage\")\n",
    "'''\n",
    "\n",
    "cursor.execute(sql)\n",
    "\n",
    "cnx.commit()"
   ]
  },
  {
   "cell_type": "markdown",
   "metadata": {},
   "source": [
    "Inserir um novo sensor e obter o seu id:\n",
    "- preparar o sql, note-se os _placeholders_ com nome usados neste caso\n",
    "- preparar os dados \n",
    "- executar o query"
   ]
  },
  {
   "cell_type": "code",
   "execution_count": null,
   "metadata": {
    "ExecuteTime": {
     "end_time": "2019-11-22T13:34:56.952999Z",
     "start_time": "2019-11-22T13:34:56.872919Z"
    }
   },
   "outputs": [],
   "source": [
    "sql = '''INSERT INTO `sensor` (`idLocation`, `name`, `unit`)\n",
    "        VALUES (:idLocation, :name, :unit);'''\n",
    "\n",
    "data = {\n",
    "        'idLocation': location_id, \n",
    "        'name' : 'cpu_sensor_01', \n",
    "        'unit' : 'percent'\n",
    "       }\n",
    "\n",
    "cursor.execute(sql, data)\n",
    "sensor_id = cursor.lastrowid\n",
    "cnx.commit()\n",
    "sensor_id"
   ]
  },
  {
   "cell_type": "markdown",
   "metadata": {},
   "source": [
    "E agora, obter alguns dados e enviar para a base de dados"
   ]
  },
  {
   "cell_type": "code",
   "execution_count": null,
   "metadata": {
    "ExecuteTime": {
     "end_time": "2019-11-22T13:36:24.028474Z",
     "start_time": "2019-11-22T13:36:03.049562Z"
    }
   },
   "outputs": [],
   "source": [
    "import psutil\n",
    "\n",
    "sql = '''\n",
    "INSERT INTO reading\n",
    "    (idSensor, value)     \n",
    "VALUES \n",
    "    (:idSensor, :value)\n",
    "'''\n",
    "\n",
    "for _ in range(20):\n",
    "    data = {\n",
    "           'idSensor' : sensor_id, \n",
    "            'value' : psutil.cpu_percent(interval=1)\n",
    "           }\n",
    "    cursor.execute(sql, data) \n",
    "    cnx.commit()\n",
    "    print('.', end='')\n"
   ]
  },
  {
   "cell_type": "code",
   "execution_count": null,
   "metadata": {
    "ExecuteTime": {
     "end_time": "2019-11-22T13:36:24.033455Z",
     "start_time": "2019-11-22T13:36:24.030458Z"
    }
   },
   "outputs": [],
   "source": [
    "cursor.close()\n",
    "cnx.close()"
   ]
  },
  {
   "cell_type": "markdown",
   "metadata": {},
   "source": [
    "## Selecionar dados"
   ]
  },
  {
   "cell_type": "code",
   "execution_count": null,
   "metadata": {
    "ExecuteTime": {
     "end_time": "2019-11-22T13:37:18.950327Z",
     "start_time": "2019-11-22T13:37:18.946318Z"
    }
   },
   "outputs": [],
   "source": [
    "import sqlite3\n",
    "\n",
    "cnx = sqlite3.connect('sensors.db')\n",
    "cursor = cnx.cursor() "
   ]
  },
  {
   "cell_type": "code",
   "execution_count": null,
   "metadata": {
    "ExecuteTime": {
     "end_time": "2019-11-22T13:37:21.229543Z",
     "start_time": "2019-11-22T13:37:21.225551Z"
    }
   },
   "outputs": [],
   "source": [
    "sql = '''\n",
    "SELECT idLocation, name, description \n",
    "FROM location \n",
    "WHERE description LIKE \"%163%\"'''\n",
    "\n",
    "cursor.execute(sql)\n",
    "\n",
    "for (idLocation, name, description) in cursor:\n",
    "    print(\"id: {}\\n\\t name: {} \\n\\t description: {}\".format(idLocation, name, description))\n"
   ]
  },
  {
   "cell_type": "code",
   "execution_count": null,
   "metadata": {
    "ExecuteTime": {
     "end_time": "2019-11-22T13:37:23.957214Z",
     "start_time": "2019-11-22T13:37:23.938248Z"
    },
    "scrolled": true
   },
   "outputs": [],
   "source": [
    "sql = '''\n",
    "SELECT idReading, idSensor, timestamp, value \n",
    "FROM reading \n",
    "WHERE value BETWEEN ? and ?\n",
    "'''\n",
    "data = (5, 50)\n",
    "\n",
    "cursor.execute(sql, data)\n",
    "\n",
    "for (idReading, idSensor, timestamp, value) in cursor:\n",
    "    print(\"idReading: {}\\n\\t idSensor: {} \\n\\t time: {} \\n\\t value: {}\".format(idReading, idSensor, timestamp, value))"
   ]
  },
  {
   "cell_type": "code",
   "execution_count": null,
   "metadata": {},
   "outputs": [],
   "source": [
    "sql = '''\n",
    "    select *\n",
    "    from Location\n",
    "        inner join Sensor S on Location.idLocation = S.idLocation\n",
    "        inner join Unit U on S.unit = U.unit\n",
    "        inner join Reading R on S.idSensor = R.idSensor\n",
    "    where value between :low and :high\n",
    "    order by value\n",
    "'''\n",
    "\n",
    "data = {\n",
    "    'low': 5,\n",
    "    'high': 40\n",
    "}\n",
    "\n",
    "cursor.execute(sql, data)"
   ]
  },
  {
   "cell_type": "markdown",
   "metadata": {},
   "source": [
    "Podemos obter os nomes das colunas"
   ]
  },
  {
   "cell_type": "code",
   "execution_count": null,
   "metadata": {
    "scrolled": true
   },
   "outputs": [],
   "source": [
    "cursor.description"
   ]
  },
  {
   "cell_type": "code",
   "execution_count": null,
   "metadata": {
    "scrolled": true
   },
   "outputs": [],
   "source": [
    "lista_de_colunas = [linha[0] for linha in cursor.description]\n",
    "lista_de_colunas"
   ]
  },
  {
   "cell_type": "code",
   "execution_count": null,
   "metadata": {
    "scrolled": true
   },
   "outputs": [],
   "source": [
    "for linha in cursor:\n",
    "    print('\\t'.join([f'|{coluna}: {valor}' for valor, coluna  in zip(linha, lista_de_colunas)]))\n",
    "    "
   ]
  },
  {
   "cell_type": "markdown",
   "metadata": {},
   "source": [
    "Usando o comando `fetchall` podemos obter todos os resultados de uma única vez como uma lista de tuplos"
   ]
  },
  {
   "cell_type": "code",
   "execution_count": null,
   "metadata": {
    "scrolled": true
   },
   "outputs": [],
   "source": [
    "# é necessario voltar a correr o select pois o cursor foi esvaziado\n",
    "cursor.execute(sql, data)\n",
    "\n",
    "cursor.fetchall()"
   ]
  },
  {
   "cell_type": "markdown",
   "metadata": {},
   "source": [
    "Podemos também converter para um dicionário mas __nosso caso NÃO é boa ideia__ pois duas colunas \"têm o mesmo nome\" (e.g., `nome`), pelo que se perdem colunas."
   ]
  },
  {
   "cell_type": "code",
   "execution_count": null,
   "metadata": {
    "scrolled": true
   },
   "outputs": [],
   "source": [
    "# é necessario voltar a correr o select pois o cursor foi esvaziado\n",
    "cursor.execute(sql, data)\n",
    "\n",
    "for linha in cursor:\n",
    "    print({coluna: valor for valor, coluna  in zip(linha, lista_de_colunas)})"
   ]
  },
  {
   "cell_type": "code",
   "execution_count": null,
   "metadata": {
    "ExecuteTime": {
     "end_time": "2019-11-22T13:37:26.269746Z",
     "start_time": "2019-11-22T13:37:26.265749Z"
    }
   },
   "outputs": [],
   "source": [
    "cursor.close()\n",
    "cnx.close()"
   ]
  },
  {
   "cell_type": "markdown",
   "metadata": {},
   "source": [
    "### EXERCÍCIO\n",
    "Utilize os pacotes `time` e `psutil` para calcular a memoria virtual livre a cada segundo durante 30 segundos, guardando na base de dados. Use\n",
    "```\n",
    "...\n",
    "x = psutil.virtual_memory()\n",
    "x.free\n",
    "...\n",
    "```"
   ]
  },
  {
   "cell_type": "code",
   "execution_count": null,
   "metadata": {},
   "outputs": [],
   "source": []
  }
 ],
 "metadata": {
  "kernelspec": {
   "display_name": "Python 3",
   "language": "python",
   "name": "python3"
  },
  "language_info": {
   "codemirror_mode": {
    "name": "ipython",
    "version": 3
   },
   "file_extension": ".py",
   "mimetype": "text/x-python",
   "name": "python",
   "nbconvert_exporter": "python",
   "pygments_lexer": "ipython3",
   "version": "3.7.3"
  },
  "nbTranslate": {
   "displayLangs": [
    "pt"
   ],
   "hotkey": "alt-t",
   "langInMainMenu": true,
   "sourceLang": "en",
   "targetLang": "pt",
   "useGoogleTranslate": true
  },
  "toc": {
   "base_numbering": 1,
   "nav_menu": {
    "height": "307px",
    "width": "476px"
   },
   "number_sections": true,
   "sideBar": true,
   "skip_h1_title": false,
   "title_cell": "Table of Contents",
   "title_sidebar": "Contents",
   "toc_cell": false,
   "toc_position": {},
   "toc_section_display": true,
   "toc_window_display": false
  },
  "varInspector": {
   "cols": {
    "lenName": 16,
    "lenType": 16,
    "lenVar": 40
   },
   "kernels_config": {
    "python": {
     "delete_cmd_postfix": "",
     "delete_cmd_prefix": "del ",
     "library": "var_list.py",
     "varRefreshCmd": "print(var_dic_list())"
    },
    "r": {
     "delete_cmd_postfix": ") ",
     "delete_cmd_prefix": "rm(",
     "library": "var_list.r",
     "varRefreshCmd": "cat(var_dic_list()) "
    }
   },
   "types_to_exclude": [
    "module",
    "function",
    "builtin_function_or_method",
    "instance",
    "_Feature"
   ],
   "window_display": false
  }
 },
 "nbformat": 4,
 "nbformat_minor": 2
}
