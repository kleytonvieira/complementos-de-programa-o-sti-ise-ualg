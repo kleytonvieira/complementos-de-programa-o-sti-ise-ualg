{
 "cells": [
  {
   "cell_type": "markdown",
   "metadata": {},
   "source": [
    "# Acesso a bases de dados com Python  \n",
    "Pedro Cardoso\n",
    "\n",
    "(ISE/UAlg - pcardoso@ualg.pt)"
   ]
  },
  {
   "cell_type": "markdown",
   "metadata": {},
   "source": [
    "## Exemplos de conexões a bases de dados usando um Connector/Python"
   ]
  },
  {
   "cell_type": "markdown",
   "metadata": {},
   "source": [
    "### MySQL \n",
    "\n",
    "o método  `connect()` constructor creates a connection to the MySQL server and returns a `MySQLConnection` object.\n",
    "(see https://dev.mysql.com/doc/connector-python/en/connector-python-connectargs.html for other argument options)"
   ]
  },
  {
   "cell_type": "markdown",
   "metadata": {},
   "source": [
    "Notas 1: verificar que todos módulos necessários estão instalados, nomeadamente, pode de ter de instalar o `mysql-connector`"
   ]
  },
  {
   "cell_type": "code",
   "execution_count": null,
   "metadata": {
    "scrolled": true
   },
   "outputs": [],
   "source": [
    "!pip install mysql-connector "
   ]
  },
  {
   "cell_type": "markdown",
   "metadata": {},
   "source": [
    "Nota 2: verificar que têm um servidor de MySQL a correr no `host` que indicarem, com utilizador e password corretas, i.e., para os exemplos abaixo, existe uma base de dados chamada `sensors` a qual o utilizador `sensors` com password `##sensors##` tem acesso.\n",
    "\n",
    "![php_my_admin_new_user.png](php_my_admin_new_user.png)"
   ]
  },
  {
   "cell_type": "code",
   "execution_count": null,
   "metadata": {
    "ExecuteTime": {
     "end_time": "2019-11-22T13:07:28.608845Z",
     "start_time": "2019-11-22T13:07:28.591863Z"
    }
   },
   "outputs": [],
   "source": [
    "import mysql.connector\n",
    "\n",
    "cnx = mysql.connector.connect(user='sensors', \n",
    "                              password='##sensors##',\n",
    "                              host='localhost', # replace 'localhost', if necessary\n",
    "                              database='sensors')\n",
    "cnx"
   ]
  },
  {
   "cell_type": "markdown",
   "metadata": {},
   "source": [
    "Algumas informações sobre a conexão podem ser consultadas no `__dict__`"
   ]
  },
  {
   "cell_type": "code",
   "execution_count": null,
   "metadata": {
    "ExecuteTime": {
     "end_time": "2019-11-22T13:07:29.668117Z",
     "start_time": "2019-11-22T13:07:29.663109Z"
    }
   },
   "outputs": [],
   "source": [
    "cnx.__dict__"
   ]
  },
  {
   "cell_type": "markdown",
   "metadata": {},
   "source": [
    "E no final devemos libertar sempre a conexão"
   ]
  },
  {
   "cell_type": "code",
   "execution_count": null,
   "metadata": {
    "ExecuteTime": {
     "end_time": "2019-11-22T13:07:30.970324Z",
     "start_time": "2019-11-22T13:07:30.966332Z"
    }
   },
   "outputs": [],
   "source": [
    "cnx.close()"
   ]
  },
  {
   "cell_type": "markdown",
   "metadata": {
    "ExecuteTime": {
     "end_time": "2018-02-28T17:08:57.922200Z",
     "start_time": "2018-02-28T17:08:57.917199Z"
    },
    "collapsed": true
   },
   "source": [
    "De um modo geral é aconselhável\n",
    "* fazer tratamento de exceções \n",
    "* e ter um ficheiro de congiguração (config.py) \n",
    "```\n",
    "config = {\n",
    "    'host' : 'localhost',\n",
    "    'user' : 'sensors',\n",
    "    'password' : '##sensors##',\n",
    "    'db' : 'sensors'\n",
    "}\n",
    "```\n",
    "e depois..."
   ]
  },
  {
   "cell_type": "code",
   "execution_count": null,
   "metadata": {
    "ExecuteTime": {
     "end_time": "2019-11-22T13:07:33.527609Z",
     "start_time": "2019-11-22T13:07:33.518621Z"
    }
   },
   "outputs": [],
   "source": [
    "# Comecamos por importar o ficheiro de configuração\n",
    "\n",
    "# Se correr a partir de um \"script normal\",  poderá depender do sistema e faze-se\n",
    "# from config import config \n",
    "# from .config import config \n",
    "\n",
    "# em Jupyter fazemos\n",
    "%run config.py\n",
    "\n",
    "import mysql.connector\n",
    "\n",
    "try:\n",
    "    cnx = mysql.connector.connect(**config)\n",
    "except mysql.connector.Error as err:\n",
    "    print('Ups! Ocorreu um erro!')\n",
    "    print(err)\n",
    "else:\n",
    "    print('Sucesso!')\n",
    "    cnx.close()"
   ]
  },
  {
   "cell_type": "markdown",
   "metadata": {
    "lang": "pt"
   },
   "source": [
    "**Exercício:** experimentem a desligar o servidor or mudar o user no ficheiro de configuração, etc. e vejam os erros que dá. Tratem as exceções de modo adequatado."
   ]
  },
  {
   "cell_type": "markdown",
   "metadata": {},
   "source": [
    "### SQLite\n",
    "No caso do SQLite basta importar o pacote `sqlite3`\n",
    "[https://docs.python.org/2/library/sqlite3.html]"
   ]
  },
  {
   "cell_type": "markdown",
   "metadata": {},
   "source": [
    "Notas 1: verificar que todos módulos necessários estão instalados, nomeadamente, pode de ter de instalar o `mysql-connector`"
   ]
  },
  {
   "cell_type": "code",
   "execution_count": null,
   "metadata": {
    "scrolled": true
   },
   "outputs": [],
   "source": [
    "!pip install pysqlite3"
   ]
  },
  {
   "cell_type": "code",
   "execution_count": null,
   "metadata": {},
   "outputs": [],
   "source": [
    "import sqlite3"
   ]
  },
  {
   "cell_type": "markdown",
   "metadata": {},
   "source": [
    "e criar a conexão usando o método `connect`, que tem como parâmetro o caminho para o ficheiro que contém a base de dados "
   ]
  },
  {
   "cell_type": "code",
   "execution_count": null,
   "metadata": {},
   "outputs": [],
   "source": [
    "conn = sqlite3.connect('example.db')\n"
   ]
  },
  {
   "cell_type": "markdown",
   "metadata": {},
   "source": [
    "## Criação de uma base de dados\n",
    "\n",
    "Para a criação das tabelas e relacionamentos podemos construiro o sql ou, como alternativa, podemos usar ferramentas como sejam o MySQL Workbench, o Phpmyadmin, o SQlite Browser, o DataGrip, etc. \n",
    "\n",
    "\n",
    "Consideremos o caso em que contruímos o sql..."
   ]
  },
  {
   "cell_type": "markdown",
   "metadata": {},
   "source": [
    "### MySQL\n",
    "\n",
    "Comecemos por criar uma base de dados no servidor de MySQL (façam sempre tratamento de exceções...)."
   ]
  },
  {
   "cell_type": "code",
   "execution_count": null,
   "metadata": {
    "ExecuteTime": {
     "end_time": "2019-11-22T13:07:42.029385Z",
     "start_time": "2019-11-22T13:07:42.023395Z"
    }
   },
   "outputs": [],
   "source": [
    "# from config import config as conf\n",
    "%run config.py\n",
    "import mysql.connector\n",
    "\n",
    "sql = '''\n",
    "    CREATE SCHEMA IF NOT EXISTS `sensors` DEFAULT CHARACTER SET utf8 ;\n",
    "    \n",
    "    USE `sensors` ;\n",
    "    \n",
    "    -- -----------------------------------------------------\n",
    "    -- Table `sensors`.`Location`\n",
    "    -- -----------------------------------------------------\n",
    "    CREATE TABLE IF NOT EXISTS `sensors`.`Location` (\n",
    "      `idLocation` INT NOT NULL AUTO_INCREMENT,\n",
    "      `name` VARCHAR(45) NOT NULL,\n",
    "      `description` VARCHAR(45) NOT NULL,\n",
    "      PRIMARY KEY (`idLocation`),\n",
    "      UNIQUE INDEX `name_UNIQUE` (`name` ASC)) ENGINE = InnoDB;\n",
    "\n",
    "\n",
    "    -- -----------------------------------------------------\n",
    "    -- Table `sensors`.`Unit`\n",
    "    -- -----------------------------------------------------\n",
    "    CREATE TABLE IF NOT EXISTS `sensors`.`Unit` (\n",
    "      `unit` VARCHAR(45) NOT NULL,\n",
    "      `description` VARCHAR(45) NOT NULL,\n",
    "      PRIMARY KEY (`unit`)) ENGINE = InnoDB;\n",
    "\n",
    "\n",
    "    -- -----------------------------------------------------\n",
    "    -- Table `sensors`.`Sensor`\n",
    "    -- -----------------------------------------------------\n",
    "    CREATE TABLE IF NOT EXISTS `sensors`.`Sensor` (\n",
    "      `idSensor` INT NOT NULL AUTO_INCREMENT,\n",
    "      `idLocation` INT NOT NULL,\n",
    "      `name` VARCHAR(45) NOT NULL,\n",
    "      `unit` VARCHAR(45) NOT NULL,\n",
    "      PRIMARY KEY (`idSensor`),\n",
    "      INDEX `fk_Sensor_Location_idx` (`idLocation` ASC),\n",
    "      INDEX `fk_Sensor_Units1_idx` (`unit` ASC),\n",
    "      UNIQUE INDEX `uniq_loc_vs_sensor` (`idLocation` ASC, `name` ASC),\n",
    "      CONSTRAINT `fk_Sensor_Location`\n",
    "        FOREIGN KEY (`idLocation`)\n",
    "        REFERENCES `sensors`.`Location` (`idLocation`)\n",
    "        ON DELETE CASCADE\n",
    "        ON UPDATE CASCADE,\n",
    "      CONSTRAINT `fk_Sensor_Units1`\n",
    "        FOREIGN KEY (`unit`)\n",
    "        REFERENCES `sensors`.`Unit` (`unit`)\n",
    "        ON DELETE CASCADE\n",
    "        ON UPDATE CASCADE) ENGINE = InnoDB;\n",
    "\n",
    "\n",
    "    -- -----------------------------------------------------\n",
    "    -- Table `sensors`.`Reading`\n",
    "    -- -----------------------------------------------------\n",
    "    CREATE TABLE IF NOT EXISTS `sensors`.`Reading` (\n",
    "      `idReading` INT NOT NULL AUTO_INCREMENT,\n",
    "      `idSensor` INT NOT NULL,\n",
    "      `timestamp` TIMESTAMP NOT NULL,\n",
    "      `value` FLOAT NOT NULL,\n",
    "      PRIMARY KEY (`idReading`),\n",
    "      INDEX `fk_Reading_Sensor1_idx` (`idSensor` ASC),\n",
    "      CONSTRAINT `fk_Reading_Sensor1`\n",
    "        FOREIGN KEY (`idSensor`)\n",
    "        REFERENCES `sensors`.`Sensor` (`idSensor`)\n",
    "        ON DELETE CASCADE\n",
    "        ON UPDATE CASCADE) ENGINE = InnoDB;\n",
    "\n",
    "\n",
    "    -- -----------------------------------------------------\n",
    "    -- Table `sensors`.`Alert`\n",
    "    -- -----------------------------------------------------\n",
    "    CREATE TABLE IF NOT EXISTS `sensors`.`Alert` (\n",
    "      `idAlert` INT NOT NULL AUTO_INCREMENT,\n",
    "      `idSensor` INT NOT NULL,\n",
    "      `timestamp` TIMESTAMP NOT NULL,\n",
    "      `description` VARCHAR(45) NOT NULL,\n",
    "      `cleared` BIT NULL,\n",
    "      PRIMARY KEY (`idAlert`),\n",
    "      INDEX `fk_Alert_Sensor1_idx` (`idSensor` ASC),\n",
    "      CONSTRAINT `fk_Alert_Sensor1`\n",
    "        FOREIGN KEY (`idSensor`)\n",
    "        REFERENCES `sensors`.`Sensor` (`idSensor`)\n",
    "        ON DELETE CASCADE\n",
    "        ON UPDATE CASCADE) ENGINE = InnoDB;\n",
    "'''"
   ]
  },
  {
   "cell_type": "code",
   "execution_count": null,
   "metadata": {
    "ExecuteTime": {
     "end_time": "2019-11-22T13:08:46.758860Z",
     "start_time": "2019-11-22T13:08:46.752853Z"
    }
   },
   "outputs": [],
   "source": [
    "try:\n",
    "    cnx = mysql.connector.connect(**config)\n",
    "    cursor = cnx.cursor()\n",
    "    cursor.execute(sql)\n",
    "except mysql.connector.Error as err:\n",
    "    print(err)\n",
    "else:\n",
    "    cnx.close()"
   ]
  },
  {
   "cell_type": "markdown",
   "metadata": {},
   "source": [
    "### SQLite\n",
    "\n"
   ]
  },
  {
   "cell_type": "code",
   "execution_count": null,
   "metadata": {},
   "outputs": [],
   "source": [
    "import sqlite3\n",
    "\n",
    "sql = '''\n",
    "create table Location\n",
    "(\n",
    "    idLocation integer\n",
    "        constraint Location_pk\n",
    "            primary key autoincrement,\n",
    "    name TEXT not null,\n",
    "    description text not null\n",
    ");\n",
    "\n",
    "\n",
    "create table Unit\n",
    "(\n",
    "    unit text\n",
    "        constraint Unit_pk\n",
    "            primary key,\n",
    "    description text not null\n",
    ");\n",
    "\n",
    "create table Sensor\n",
    "(\n",
    "    idSensor integer\n",
    "        constraint Sensor_pk\n",
    "            primary key,\n",
    "    idLocation integer not null\n",
    "        constraint Sensor_Location_idLocation_fk\n",
    "            references Location\n",
    "                on update cascade on delete cascade,\n",
    "    name text not null,\n",
    "    unit text not null\n",
    "        constraint Sensor_Unit_unit_fk\n",
    "            references Unit\n",
    "                on update cascade on delete cascade\n",
    ");\n",
    "\n",
    "create table Reading\n",
    "(\n",
    "    idReading integer\n",
    "        constraint Reading_pk\n",
    "            primary key,\n",
    "    idSensor integer\n",
    "        constraint Reading_Sensor_idSensor_fk\n",
    "            references Sensor\n",
    "                on update cascade on delete cascade,\n",
    "    timestamp datetime default CURRENT_TIMESTAMP,\n",
    "    value real not null\n",
    ");\n",
    "\n",
    "\n",
    "create table Alert\n",
    "(\n",
    "    idAlert integer\n",
    "        constraint Alert_pk\n",
    "            primary key,\n",
    "    idSensor integer\n",
    "        constraint Alert_Sensor_idSensor_fk\n",
    "            references Sensor\n",
    "                on update cascade on delete cascade,\n",
    "    description text not null,\n",
    "    cleared integer\n",
    "\n",
    ")\n",
    "'''"
   ]
  },
  {
   "cell_type": "code",
   "execution_count": null,
   "metadata": {},
   "outputs": [],
   "source": [
    "conn = sqlite3.connect('sensors.db')\n",
    "\n",
    "cursor = conn.cursor()\n",
    "\n",
    "# Create tables -- executescript permite correr vários comandos de uma vez \n",
    "cursor.executescript(sql)"
   ]
  },
  {
   "cell_type": "markdown",
   "metadata": {},
   "source": [
    "## Operações CRUD"
   ]
  },
  {
   "cell_type": "markdown",
   "metadata": {},
   "source": [
    "### `INSERT`  em MySQL \n",
    "\n",
    "Aberta a conexão em MySQL"
   ]
  },
  {
   "cell_type": "code",
   "execution_count": null,
   "metadata": {
    "ExecuteTime": {
     "end_time": "2019-11-22T13:08:49.724122Z",
     "start_time": "2019-11-22T13:08:49.719128Z"
    }
   },
   "outputs": [],
   "source": [
    "cnx = mysql.connector.connect(**config)\n",
    "cursor = cnx.cursor()"
   ]
  },
  {
   "cell_type": "markdown",
   "metadata": {},
   "source": [
    "inserir uma nova localização na base de dados e obter o id correspondente"
   ]
  },
  {
   "cell_type": "code",
   "execution_count": null,
   "metadata": {
    "ExecuteTime": {
     "end_time": "2019-11-22T13:08:53.719172Z",
     "start_time": "2019-11-22T13:08:53.703188Z"
    }
   },
   "outputs": [],
   "source": [
    "# prepare the sql query for the new location\n",
    "sql = '''\n",
    "INSERT INTO location \n",
    "    (idLocation, name, description) \n",
    "VALUES \n",
    "    (DEFAULT, %s, %s)\n",
    "'''\n",
    "\n",
    "data = ('Prometheus Server', 'Prometheus Server @ lab. 163 / ISE /UAlg')\n",
    "\n",
    "#execute the sql query and get the new location id\n",
    "cursor.execute(sql, data)\n",
    "location_id = cursor.lastrowid\n",
    "location_id"
   ]
  },
  {
   "cell_type": "markdown",
   "metadata": {},
   "source": [
    "Quando estamos a usar um sistema transacional, como o InnoDB, temos de efetuar o \"commit\" depois de fazer um INSERT, DELETE, ou UPDATE."
   ]
  },
  {
   "cell_type": "code",
   "execution_count": null,
   "metadata": {
    "ExecuteTime": {
     "end_time": "2019-11-22T13:34:21.363514Z",
     "start_time": "2019-11-22T13:34:21.360517Z"
    }
   },
   "outputs": [],
   "source": [
    "cnx.commit()"
   ]
  },
  {
   "cell_type": "markdown",
   "metadata": {},
   "source": [
    "Inserir uma nova `Unit`"
   ]
  },
  {
   "cell_type": "code",
   "execution_count": null,
   "metadata": {
    "ExecuteTime": {
     "end_time": "2019-11-22T13:34:30.229473Z",
     "start_time": "2019-11-22T13:34:30.137267Z"
    }
   },
   "outputs": [],
   "source": [
    "# Insert a new unit (if it does not exist)\n",
    "sql = '''\n",
    "REPLACE INTO Unit \n",
    "    (unit, description) \n",
    "VALUES \n",
    "    (\"percent\", \"percentage of usage\")\n",
    "'''\n",
    "cursor.execute(sql)\n",
    "cnx.commit()"
   ]
  },
  {
   "cell_type": "markdown",
   "metadata": {},
   "source": [
    "Inserir um novo sensor e obter o seu id"
   ]
  },
  {
   "cell_type": "code",
   "execution_count": null,
   "metadata": {
    "ExecuteTime": {
     "end_time": "2019-11-22T13:34:56.952999Z",
     "start_time": "2019-11-22T13:34:56.872919Z"
    }
   },
   "outputs": [],
   "source": [
    "# prepare the sql query for the new sensor\n",
    "sql = '''INSERT INTO `sensor` (`idSensor`, `idLocation`, `name`, `unit`)\n",
    "        VALUES (DEFAULT, %(idLocation)s, %(name)s, %(unit)s);'''\n",
    "data = {\n",
    "        'idLocation': location_id, \n",
    "        'name' : 'cpu_sensor_01', \n",
    "        'unit' : 'percent'\n",
    "       }\n",
    "\n",
    "#execute the sql query\n",
    "cursor.execute(sql, data)\n",
    "sensor_id = cursor.lastrowid\n",
    "cnx.commit()"
   ]
  },
  {
   "cell_type": "markdown",
   "metadata": {},
   "source": [
    "E agora, obter alguns dados e enviar para a base de dados"
   ]
  },
  {
   "cell_type": "code",
   "execution_count": null,
   "metadata": {
    "ExecuteTime": {
     "end_time": "2019-11-22T13:36:24.028474Z",
     "start_time": "2019-11-22T13:36:03.049562Z"
    }
   },
   "outputs": [],
   "source": [
    "import psutil\n",
    "\n",
    "sql = '''\n",
    "INSERT INTO `reading` \n",
    "    (`idReading`, `idSensor`, `timestamp`, `value`)     \n",
    "VALUES \n",
    "    (DEFAULT, %(idSensor)s, DEFAULT, %(value)s)\n",
    "'''\n",
    "\n",
    "for _ in range(20):\n",
    "    data = {\n",
    "           'idSensor' : sensor_id, \n",
    "            'value' : psutil.cpu_percent(interval=1)\n",
    "           }\n",
    "    cursor.execute(sql, data) \n",
    "    cnx.commit()\n",
    "    print('.', end='')\n"
   ]
  },
  {
   "cell_type": "code",
   "execution_count": null,
   "metadata": {
    "ExecuteTime": {
     "end_time": "2019-11-22T13:36:24.033455Z",
     "start_time": "2019-11-22T13:36:24.030458Z"
    }
   },
   "outputs": [],
   "source": [
    "cursor.close()\n",
    "cnx.close()"
   ]
  },
  {
   "cell_type": "markdown",
   "metadata": {
    "ExecuteTime": {
     "end_time": "2019-11-22T13:08:49.724122Z",
     "start_time": "2019-11-22T13:08:49.719128Z"
    }
   },
   "source": [
    "### `INSERT`  em SQLite\n",
    "\n",
    "Aberta a conexão em sqlite"
   ]
  },
  {
   "cell_type": "code",
   "execution_count": null,
   "metadata": {},
   "outputs": [],
   "source": [
    "import sqlite3\n",
    "\n",
    "cnx = sqlite3.connect('sensors.db')\n",
    "cursor = cnx.cursor()"
   ]
  },
  {
   "cell_type": "markdown",
   "metadata": {},
   "source": [
    "inserir uma nova localização na base de dados e obter o id correspondente"
   ]
  },
  {
   "cell_type": "code",
   "execution_count": null,
   "metadata": {
    "ExecuteTime": {
     "end_time": "2019-11-22T13:08:53.719172Z",
     "start_time": "2019-11-22T13:08:53.703188Z"
    }
   },
   "outputs": [],
   "source": [
    "# prepare the sql query for the new location\n",
    "sql = '''\n",
    "INSERT INTO location \n",
    "    (name, description) \n",
    "VALUES \n",
    "    (?, ?)\n",
    "'''\n",
    "\n",
    "data = ('Prometheus Server', 'Prometheus Server @ lab. 163 / ISE /UAlg')\n",
    "\n",
    "#execute the sql query and get the new location id\n",
    "cursor.execute(sql, data)\n",
    "location_id = cursor.lastrowid\n",
    "location_id"
   ]
  },
  {
   "cell_type": "markdown",
   "metadata": {},
   "source": [
    "Quando estamos a usar um sistema transacional, temos de efetuar o `commit` depois de fazer um `INSERT`, `DELETE`, ou `UPDATE`.\n",
    "\n",
    "Note-se que podemos desfazer as alterações desde o último `commit` chamando o método `rollback()`"
   ]
  },
  {
   "cell_type": "code",
   "execution_count": null,
   "metadata": {
    "ExecuteTime": {
     "end_time": "2019-11-22T13:34:21.363514Z",
     "start_time": "2019-11-22T13:34:21.360517Z"
    }
   },
   "outputs": [],
   "source": [
    "cnx.commit()"
   ]
  },
  {
   "cell_type": "markdown",
   "metadata": {},
   "source": [
    "Inserir uma nova `Unit`"
   ]
  },
  {
   "cell_type": "code",
   "execution_count": null,
   "metadata": {
    "ExecuteTime": {
     "end_time": "2019-11-22T13:34:30.229473Z",
     "start_time": "2019-11-22T13:34:30.137267Z"
    }
   },
   "outputs": [],
   "source": [
    "# Insert a new unit (if it does not exist)\n",
    "sql = '''\n",
    "REPLACE INTO Unit \n",
    "    (unit, description) \n",
    "VALUES \n",
    "    (\"percent\", \"percentage of usage\")\n",
    "'''\n",
    "cursor.execute(sql)\n",
    "cnx.commit()"
   ]
  },
  {
   "cell_type": "markdown",
   "metadata": {},
   "source": [
    "Inserir um novo sensor e obter o seu id"
   ]
  },
  {
   "cell_type": "code",
   "execution_count": null,
   "metadata": {
    "ExecuteTime": {
     "end_time": "2019-11-22T13:34:56.952999Z",
     "start_time": "2019-11-22T13:34:56.872919Z"
    }
   },
   "outputs": [],
   "source": [
    "# prepare the sql query for the new sensor\n",
    "sql = '''INSERT INTO `sensor` (`idLocation`, `name`, `unit`)\n",
    "        VALUES (:idLocation, :name, :unit);'''\n",
    "\n",
    "# prepare data for the named style:\n",
    "data = {\n",
    "        'idLocation': location_id, \n",
    "        'name' : 'cpu_sensor_01', \n",
    "        'unit' : 'percent'\n",
    "       }\n",
    "\n",
    "#execute the sql query\n",
    "cursor.execute(sql, data)\n",
    "sensor_id = cursor.lastrowid\n",
    "cnx.commit()"
   ]
  },
  {
   "cell_type": "markdown",
   "metadata": {},
   "source": [
    "E agora, obter alguns dados e enviar para a base de dados"
   ]
  },
  {
   "cell_type": "code",
   "execution_count": null,
   "metadata": {
    "ExecuteTime": {
     "end_time": "2019-11-22T13:36:24.028474Z",
     "start_time": "2019-11-22T13:36:03.049562Z"
    }
   },
   "outputs": [],
   "source": [
    "import psutil\n",
    "\n",
    "sql = '''\n",
    "INSERT INTO `reading` \n",
    "    (`idSensor`, `value`)     \n",
    "VALUES \n",
    "    (:idSensor, :value)\n",
    "'''\n",
    "\n",
    "for _ in range(20):\n",
    "    data = {\n",
    "           'idSensor' : sensor_id, \n",
    "            'value' : psutil.cpu_percent(interval=1)\n",
    "           }\n",
    "    cursor.execute(sql, data) \n",
    "    cnx.commit()\n",
    "    print('.', end='')\n"
   ]
  },
  {
   "cell_type": "code",
   "execution_count": null,
   "metadata": {
    "ExecuteTime": {
     "end_time": "2019-11-22T13:36:24.033455Z",
     "start_time": "2019-11-22T13:36:24.030458Z"
    }
   },
   "outputs": [],
   "source": [
    "cursor.close()\n",
    "cnx.close()"
   ]
  },
  {
   "cell_type": "markdown",
   "metadata": {},
   "source": [
    "## Selecionar dados"
   ]
  },
  {
   "cell_type": "markdown",
   "metadata": {},
   "source": [
    "### `SELECT` em MySQL "
   ]
  },
  {
   "cell_type": "code",
   "execution_count": null,
   "metadata": {
    "ExecuteTime": {
     "end_time": "2019-11-22T13:37:18.950327Z",
     "start_time": "2019-11-22T13:37:18.946318Z"
    }
   },
   "outputs": [],
   "source": [
    "cnx = mysql.connector.connect(**config)\n",
    "cursor = cnx.cursor()  "
   ]
  },
  {
   "cell_type": "code",
   "execution_count": null,
   "metadata": {
    "ExecuteTime": {
     "end_time": "2019-11-22T13:37:21.229543Z",
     "start_time": "2019-11-22T13:37:21.225551Z"
    }
   },
   "outputs": [],
   "source": [
    "sql = '''\n",
    "SELECT idLocation, name, description \n",
    "FROM location \n",
    "WHERE description LIKE \"%163%\"'''\n",
    "\n",
    "cursor.execute(sql)\n",
    "\n",
    "for (idLocation, name, description) in cursor:\n",
    "  print(\"id: {}\\n\\t name: {} \\n\\t description: {}\".format(idLocation, name, description))\n"
   ]
  },
  {
   "cell_type": "code",
   "execution_count": null,
   "metadata": {
    "ExecuteTime": {
     "end_time": "2019-11-22T13:37:23.957214Z",
     "start_time": "2019-11-22T13:37:23.938248Z"
    },
    "scrolled": true
   },
   "outputs": [],
   "source": [
    "sql = '''\n",
    "SELECT idReading, idSensor, timestamp, value \n",
    "FROM reading \n",
    "WHERE value BETWEEN %s and %s\n",
    "'''\n",
    "data = (5, 50)\n",
    "\n",
    "cursor.execute(sql, data)\n",
    "\n",
    "for (idReading, idSensor, timestamp, value) in cursor:\n",
    "  print(\"idReading: {}\\n\\t idSensor: {} \\n\\t time: {} \\n\\t value: {}\".format(idReading, idSensor, timestamp, value))"
   ]
  },
  {
   "cell_type": "code",
   "execution_count": null,
   "metadata": {
    "ExecuteTime": {
     "end_time": "2019-11-22T13:37:26.269746Z",
     "start_time": "2019-11-22T13:37:26.265749Z"
    }
   },
   "outputs": [],
   "source": [
    "cursor.close()\n",
    "cnx.close()"
   ]
  },
  {
   "cell_type": "markdown",
   "metadata": {},
   "source": [
    "### `SELECT` em SQLite"
   ]
  },
  {
   "cell_type": "code",
   "execution_count": null,
   "metadata": {
    "ExecuteTime": {
     "end_time": "2019-11-22T13:37:18.950327Z",
     "start_time": "2019-11-22T13:37:18.946318Z"
    }
   },
   "outputs": [],
   "source": [
    "import sqlite3\n",
    "\n",
    "cnx = sqlite3.connect('sensors.db')\n",
    "cursor = cnx.cursor() "
   ]
  },
  {
   "cell_type": "code",
   "execution_count": null,
   "metadata": {
    "ExecuteTime": {
     "end_time": "2019-11-22T13:37:21.229543Z",
     "start_time": "2019-11-22T13:37:21.225551Z"
    }
   },
   "outputs": [],
   "source": [
    "sql = '''\n",
    "SELECT idLocation, name, description \n",
    "FROM location \n",
    "WHERE description LIKE \"%163%\"'''\n",
    "\n",
    "cursor.execute(sql)\n",
    "\n",
    "for (idLocation, name, description) in cursor:\n",
    "  print(\"id: {}\\n\\t name: {} \\n\\t description: {}\".format(idLocation, name, description))\n"
   ]
  },
  {
   "cell_type": "code",
   "execution_count": null,
   "metadata": {
    "ExecuteTime": {
     "end_time": "2019-11-22T13:37:23.957214Z",
     "start_time": "2019-11-22T13:37:23.938248Z"
    },
    "scrolled": true
   },
   "outputs": [],
   "source": [
    "sql = '''\n",
    "SELECT idReading, idSensor, timestamp, value \n",
    "FROM reading \n",
    "WHERE value BETWEEN ? and ?\n",
    "'''\n",
    "data = (5, 50)\n",
    "\n",
    "cursor.execute(sql, data)\n",
    "\n",
    "for (idReading, idSensor, timestamp, value) in cursor:\n",
    "  print(\"idReading: {}\\n\\t idSensor: {} \\n\\t time: {} \\n\\t value: {}\".format(idReading, idSensor, timestamp, value))"
   ]
  },
  {
   "cell_type": "code",
   "execution_count": null,
   "metadata": {},
   "outputs": [],
   "source": [
    "sql = '''\n",
    "    select *\n",
    "    from Location\n",
    "        inner join Sensor S on Location.idLocation = S.idLocation\n",
    "        inner join Unit U on S.unit = U.unit\n",
    "        inner join Reading R on S.idSensor = R.idSensor\n",
    "    where value between :low and :high\n",
    "    order by value\n",
    "'''\n",
    "\n",
    "data = {\n",
    "    'low': 5,\n",
    "    'high': 20\n",
    "}\n",
    "\n",
    "cursor.execute(sql, data)"
   ]
  },
  {
   "cell_type": "markdown",
   "metadata": {},
   "source": [
    "Podemos obter os nomes das colunas"
   ]
  },
  {
   "cell_type": "code",
   "execution_count": null,
   "metadata": {},
   "outputs": [],
   "source": [
    "cursor.description"
   ]
  },
  {
   "cell_type": "code",
   "execution_count": null,
   "metadata": {},
   "outputs": [],
   "source": [
    "lista_de_colunas = [linha[0] for linha in cursor.description]\n",
    "lista_de_colunas"
   ]
  },
  {
   "cell_type": "code",
   "execution_count": null,
   "metadata": {},
   "outputs": [],
   "source": [
    "for linha in cursor:\n",
    "    print('\\t'.join([f'|{coluna}: {valor}' for valor, coluna  in zip(linha, lista_de_colunas)]))\n",
    "    "
   ]
  },
  {
   "cell_type": "markdown",
   "metadata": {},
   "source": [
    "Usando o comando `fetchall` podemos obter todos os resultados de uma única vez como uma lista de tuplos"
   ]
  },
  {
   "cell_type": "code",
   "execution_count": null,
   "metadata": {},
   "outputs": [],
   "source": [
    "# é necessario voltar a correr o select pois o cursor foi esvaziado\n",
    "cursor.execute(sql, data)\n",
    "\n",
    "cursor.fetchall()"
   ]
  },
  {
   "cell_type": "markdown",
   "metadata": {},
   "source": [
    "Podemos também converter para um dicionário mas __nosso caso não é boa ideia__ pois duas colunas \"têm o mesmo nome\" (e.g., `nome`), pelo que se perdem colunas."
   ]
  },
  {
   "cell_type": "code",
   "execution_count": null,
   "metadata": {},
   "outputs": [],
   "source": [
    "# é necessario voltar a correr o select pois o cursor foi esvaziado\n",
    "cursor.execute(sql, data)\n",
    "\n",
    "for linha in cursor:\n",
    "    print({coluna: valor for valor, coluna  in zip(linha, lista_de_colunas)})"
   ]
  },
  {
   "cell_type": "code",
   "execution_count": null,
   "metadata": {
    "ExecuteTime": {
     "end_time": "2019-11-22T13:37:26.269746Z",
     "start_time": "2019-11-22T13:37:26.265749Z"
    }
   },
   "outputs": [],
   "source": [
    "cursor.close()\n",
    "cnx.close()"
   ]
  },
  {
   "cell_type": "code",
   "execution_count": null,
   "metadata": {},
   "outputs": [],
   "source": []
  }
 ],
 "metadata": {
  "kernelspec": {
   "display_name": "Python 3",
   "language": "python",
   "name": "python3"
  },
  "language_info": {
   "codemirror_mode": {
    "name": "ipython",
    "version": 3
   },
   "file_extension": ".py",
   "mimetype": "text/x-python",
   "name": "python",
   "nbconvert_exporter": "python",
   "pygments_lexer": "ipython3",
   "version": "3.8.2"
  },
  "nbTranslate": {
   "displayLangs": [
    "pt"
   ],
   "hotkey": "alt-t",
   "langInMainMenu": true,
   "sourceLang": "en",
   "targetLang": "pt",
   "useGoogleTranslate": true
  },
  "toc": {
   "base_numbering": 1,
   "nav_menu": {
    "height": "307px",
    "width": "476px"
   },
   "number_sections": true,
   "sideBar": true,
   "skip_h1_title": false,
   "title_cell": "Table of Contents",
   "title_sidebar": "Contents",
   "toc_cell": false,
   "toc_position": {},
   "toc_section_display": true,
   "toc_window_display": false
  },
  "varInspector": {
   "cols": {
    "lenName": 16,
    "lenType": 16,
    "lenVar": 40
   },
   "kernels_config": {
    "python": {
     "delete_cmd_postfix": "",
     "delete_cmd_prefix": "del ",
     "library": "var_list.py",
     "varRefreshCmd": "print(var_dic_list())"
    },
    "r": {
     "delete_cmd_postfix": ") ",
     "delete_cmd_prefix": "rm(",
     "library": "var_list.r",
     "varRefreshCmd": "cat(var_dic_list()) "
    }
   },
   "types_to_exclude": [
    "module",
    "function",
    "builtin_function_or_method",
    "instance",
    "_Feature"
   ],
   "window_display": false
  }
 },
 "nbformat": 4,
 "nbformat_minor": 2
}
