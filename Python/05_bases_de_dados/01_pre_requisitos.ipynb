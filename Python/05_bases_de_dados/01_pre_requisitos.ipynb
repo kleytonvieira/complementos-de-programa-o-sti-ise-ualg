{
 "cells": [
  {
   "cell_type": "markdown",
   "metadata": {},
   "source": [
    "# Acesso a bases de dados MySQL com Python  \n",
    "Pedro Cardoso\n",
    "\n",
    "(ISE/UAlg - pcardoso@ualg.pt)"
   ]
  },
  {
   "cell_type": "markdown",
   "metadata": {},
   "source": [
    "## Pre-requisitos"
   ]
  },
  {
   "cell_type": "markdown",
   "metadata": {},
   "source": [
    "### Servidor de MySQL\n",
    "Verificar que têm um servidor de MySQL a correr. Para quem estiver a usar MS Windows ou Linux sugere-se a instalação do XAMPP https://www.apachefriends.org/index.html. "
   ]
  },
  {
   "cell_type": "markdown",
   "metadata": {},
   "source": [
    "Podem verificar se o vosso servidor está a correr se seguirem o link http://localhost/phpmyadmin.\n",
    "\n",
    "Estando no phpmyadmin, aproveiem para criar um utilizador e a base de dados necessária para o resto da aula. Pra tal, certifiquem-se que no `host` que indicarem (no caso `localhost` mas poderiam usar outro servidor, noutra máquina) existe base de dados, utilizador e password corretas, i.e., para os exemplos abaixo, existe uma base de dados chamada `sensors` à qual o utilizador `sensors` com password `##sensors##` tem acesso.\n",
    "\n",
    "![phpmyadmin_new_user.png](phpmyadmin_new_user.png)"
   ]
  },
  {
   "cell_type": "markdown",
   "metadata": {},
   "source": [
    "### Conectores instalados\n",
    "Verificar que todos os módulos necessários estão instalados, nomeadamente:\n",
    "#### MySQL\n",
    "Neste caso pode de ter de instalar o `mysql-connector`\n",
    "\n",
    "(Dependendo do seu sistema poderá ter de substituir pip3 por pip, pip3.7, pip3.8, ...)"
   ]
  },
  {
   "cell_type": "code",
   "execution_count": null,
   "metadata": {
    "scrolled": false
   },
   "outputs": [],
   "source": [
    "!pip3 install mysql-connector-python"
   ]
  },
  {
   "cell_type": "markdown",
   "metadata": {},
   "source": [
    "### SQLite\n",
    "Neste caso pode de ter de instalar o `sqlite3` [ https://docs.python.org/2/library/sqlite3.html ]\n",
    "\n",
    "(Dependendo do seu sistema poderá ter de substituir pip3 por pip, pip3.7, pip3.8, ...)"
   ]
  },
  {
   "cell_type": "code",
   "execution_count": null,
   "metadata": {
    "scrolled": true
   },
   "outputs": [],
   "source": [
    "!pip install pysqlite3"
   ]
  },
  {
   "cell_type": "code",
   "execution_count": null,
   "metadata": {},
   "outputs": [],
   "source": []
  }
 ],
 "metadata": {
  "kernelspec": {
   "display_name": "Python 3",
   "language": "python",
   "name": "python3"
  },
  "language_info": {
   "codemirror_mode": {
    "name": "ipython",
    "version": 3
   },
   "file_extension": ".py",
   "mimetype": "text/x-python",
   "name": "python",
   "nbconvert_exporter": "python",
   "pygments_lexer": "ipython3",
   "version": "3.7.3"
  },
  "nbTranslate": {
   "displayLangs": [
    "pt"
   ],
   "hotkey": "alt-t",
   "langInMainMenu": true,
   "sourceLang": "en",
   "targetLang": "pt",
   "useGoogleTranslate": true
  },
  "toc": {
   "base_numbering": 1,
   "nav_menu": {
    "height": "307px",
    "width": "476px"
   },
   "number_sections": true,
   "sideBar": true,
   "skip_h1_title": false,
   "title_cell": "Table of Contents",
   "title_sidebar": "Contents",
   "toc_cell": false,
   "toc_position": {},
   "toc_section_display": true,
   "toc_window_display": false
  },
  "varInspector": {
   "cols": {
    "lenName": 16,
    "lenType": 16,
    "lenVar": 40
   },
   "kernels_config": {
    "python": {
     "delete_cmd_postfix": "",
     "delete_cmd_prefix": "del ",
     "library": "var_list.py",
     "varRefreshCmd": "print(var_dic_list())"
    },
    "r": {
     "delete_cmd_postfix": ") ",
     "delete_cmd_prefix": "rm(",
     "library": "var_list.r",
     "varRefreshCmd": "cat(var_dic_list()) "
    }
   },
   "types_to_exclude": [
    "module",
    "function",
    "builtin_function_or_method",
    "instance",
    "_Feature"
   ],
   "window_display": false
  }
 },
 "nbformat": 4,
 "nbformat_minor": 2
}
