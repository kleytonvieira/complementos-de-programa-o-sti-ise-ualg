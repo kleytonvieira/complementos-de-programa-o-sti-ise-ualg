{
 "cells": [
  {
   "cell_type": "code",
   "execution_count": null,
   "metadata": {},
   "outputs": [],
   "source": [
    "import mysql.connector\n",
    "\n",
    "config = {\n",
    "    'host' : 'localhost',\n",
    "    'user' : 'sensors',\n",
    "    'password' : '##sensors##',\n",
    "    'db' : 'adamastor' # notem que no phpmyadmin dei permissões ao utilizador sensors para ter acesso à base de dados adamastor\n",
    "}\n",
    "\n",
    "class Adamastor:\n",
    "    def __init__(self):\n",
    "        self.cnx = mysql.connector.connect(**config)\n",
    "        self.cursor = self.cnx.cursor(dictionary=True)\n",
    "    \n",
    "    def listar_clientes(self):\n",
    "        sql = 'select * from clientes'\n",
    "        self.cursor.execute(sql)\n",
    "        return self.cursor.fetchall()\n",
    "        \n",
    "    def listar_clientes_da_cidade(self, cidade):\n",
    "        sql = 'select * from clientes where cidade = %s'\n",
    "        self.cursor.execute(sql, (cidade, ))\n",
    "        return self.cursor.fetchall()\n",
    "\n",
    "adam = Adamastor()"
   ]
  },
  {
   "cell_type": "code",
   "execution_count": null,
   "metadata": {
    "scrolled": true
   },
   "outputs": [],
   "source": [
    "adam.listar_clientes()"
   ]
  },
  {
   "cell_type": "code",
   "execution_count": null,
   "metadata": {},
   "outputs": [],
   "source": [
    "adam.listar_clientes_da_cidade('london')"
   ]
  }
 ],
 "metadata": {
  "kernelspec": {
   "display_name": "Python 3",
   "language": "python",
   "name": "python3"
  },
  "language_info": {
   "codemirror_mode": {
    "name": "ipython",
    "version": 3
   },
   "file_extension": ".py",
   "mimetype": "text/x-python",
   "name": "python",
   "nbconvert_exporter": "python",
   "pygments_lexer": "ipython3",
   "version": "3.7.3"
  },
  "nbTranslate": {
   "displayLangs": [
    "*"
   ],
   "hotkey": "alt-t",
   "langInMainMenu": true,
   "sourceLang": "en",
   "targetLang": "fr",
   "useGoogleTranslate": true
  },
  "toc": {
   "base_numbering": 1,
   "nav_menu": {},
   "number_sections": true,
   "sideBar": true,
   "skip_h1_title": false,
   "title_cell": "Table of Contents",
   "title_sidebar": "Contents",
   "toc_cell": false,
   "toc_position": {},
   "toc_section_display": true,
   "toc_window_display": false
  },
  "varInspector": {
   "cols": {
    "lenName": 16,
    "lenType": 16,
    "lenVar": 40
   },
   "kernels_config": {
    "python": {
     "delete_cmd_postfix": "",
     "delete_cmd_prefix": "del ",
     "library": "var_list.py",
     "varRefreshCmd": "print(var_dic_list())"
    },
    "r": {
     "delete_cmd_postfix": ") ",
     "delete_cmd_prefix": "rm(",
     "library": "var_list.r",
     "varRefreshCmd": "cat(var_dic_list()) "
    }
   },
   "types_to_exclude": [
    "module",
    "function",
    "builtin_function_or_method",
    "instance",
    "_Feature"
   ],
   "window_display": false
  }
 },
 "nbformat": 4,
 "nbformat_minor": 2
}
